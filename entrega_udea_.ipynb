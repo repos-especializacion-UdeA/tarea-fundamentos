{
 "cells": [
  {
   "cell_type": "code",
   "execution_count": 691,
   "metadata": {},
   "outputs": [],
   "source": [
    "import pandas as pd \n",
    "import numpy as np\n",
    "\n",
    "import matplotlib as mpl\n",
    "import matplotlib.pyplot as plt\n",
    "import seaborn as sns\n",
    "\n",
    "\n",
    "from sklearn.impute import SimpleImputer"
   ]
  },
  {
   "cell_type": "markdown",
   "metadata": {},
   "source": [
    "### LIMPIEZA DE DATOS"
   ]
  },
  {
   "cell_type": "markdown",
   "metadata": {},
   "source": [
    "##### TAMAÑO DEL DF"
   ]
  },
  {
   "cell_type": "code",
   "execution_count": 692,
   "metadata": {},
   "outputs": [],
   "source": [
    "path='c:/Users/afonseca/Desktop/data_market.csv'\n",
    "df=pd.read_csv(path,encoding='ISO-8859-1',delimiter=';',index_col='Row ID')"
   ]
  },
  {
   "cell_type": "markdown",
   "metadata": {},
   "source": [
    "##### TAMAÑO DEL DF"
   ]
  },
  {
   "cell_type": "code",
   "execution_count": 693,
   "metadata": {},
   "outputs": [
    {
     "name": "stdout",
     "output_type": "stream",
     "text": [
      "el tamaño del dataframe es de 9994 filas y 20 columnas\n"
     ]
    }
   ],
   "source": [
    "print(f'el tamaño del dataframe es de {df.shape[0]} filas y {df.shape[1]} columnas')"
   ]
  },
  {
   "cell_type": "markdown",
   "metadata": {},
   "source": [
    "##### TIPO COLUMNAS"
   ]
  },
  {
   "cell_type": "code",
   "execution_count": 694,
   "metadata": {},
   "outputs": [
    {
     "name": "stdout",
     "output_type": "stream",
     "text": [
      "la cantidad de columnas numericas es 3 y la de categoricas es 17\n"
     ]
    }
   ],
   "source": [
    "columnas_numericas=df.select_dtypes(include=['number']).columns\n",
    "columnas_categoricas=df.select_dtypes(include=['object']).columns\n",
    "print(f'la cantidad de columnas numericas es {len(columnas_numericas)} y la de categoricas es {len(columnas_categoricas)}')"
   ]
  },
  {
   "cell_type": "markdown",
   "metadata": {},
   "source": [
    "##### CAMBIAR TIPO STRING A FLOAT"
   ]
  },
  {
   "cell_type": "code",
   "execution_count": 695,
   "metadata": {},
   "outputs": [],
   "source": [
    "def remplazos(df):\n",
    "    df['Profit'] = df['Profit'].str.replace('.','')\n",
    "    df['Profit'] = df['Profit'].astype('Float64')\n",
    "    df['Sales'] = df['Sales'].str.replace('.','')\n",
    "    df['Sales'] = df['Sales'].astype('Float64')\n",
    "    \n",
    "    return df\n",
    "    "
   ]
  },
  {
   "cell_type": "code",
   "execution_count": 696,
   "metadata": {},
   "outputs": [],
   "source": [
    "df=remplazos(df)"
   ]
  },
  {
   "cell_type": "markdown",
   "metadata": {},
   "source": [
    "##### VALORES NULLOS "
   ]
  },
  {
   "cell_type": "code",
   "execution_count": 697,
   "metadata": {},
   "outputs": [
    {
     "name": "stdout",
     "output_type": "stream",
     "text": [
      "el numero de columnas con datos nullos es de 4 para un total de 24 datos nullos en todo el data set\n"
     ]
    },
    {
     "data": {
      "text/html": [
       "<div>\n",
       "<style scoped>\n",
       "    .dataframe tbody tr th:only-of-type {\n",
       "        vertical-align: middle;\n",
       "    }\n",
       "\n",
       "    .dataframe tbody tr th {\n",
       "        vertical-align: top;\n",
       "    }\n",
       "\n",
       "    .dataframe thead th {\n",
       "        text-align: right;\n",
       "    }\n",
       "</style>\n",
       "<table border=\"1\" class=\"dataframe\">\n",
       "  <thead>\n",
       "    <tr style=\"text-align: right;\">\n",
       "      <th></th>\n",
       "      <th>nullos_c</th>\n",
       "    </tr>\n",
       "    <tr>\n",
       "      <th>columnas</th>\n",
       "      <th></th>\n",
       "    </tr>\n",
       "  </thead>\n",
       "  <tbody>\n",
       "    <tr>\n",
       "      <th>Sales</th>\n",
       "      <td>6</td>\n",
       "    </tr>\n",
       "    <tr>\n",
       "      <th>Quantity</th>\n",
       "      <td>6</td>\n",
       "    </tr>\n",
       "    <tr>\n",
       "      <th>Discount</th>\n",
       "      <td>6</td>\n",
       "    </tr>\n",
       "    <tr>\n",
       "      <th>Profit</th>\n",
       "      <td>6</td>\n",
       "    </tr>\n",
       "  </tbody>\n",
       "</table>\n",
       "</div>"
      ],
      "text/plain": [
       "          nullos_c\n",
       "columnas          \n",
       "Sales            6\n",
       "Quantity         6\n",
       "Discount         6\n",
       "Profit           6"
      ]
     },
     "execution_count": 697,
     "metadata": {},
     "output_type": "execute_result"
    }
   ],
   "source": [
    "nullos=df.isnull().sum().reset_index()\n",
    "nullos=nullos.rename(columns={'index':'columnas',0:'nullos_c'})\n",
    "nullos=nullos[nullos.nullos_c>0]\n",
    "nullos=nullos.set_index('columnas')\n",
    "print(f'el numero de columnas con datos nullos es de {nullos.shape[0]}\\\n",
    " para un total de {np.array(nullos.nullos_c).sum()} datos nullos en todo el data set')\n",
    "nullos\n"
   ]
  },
  {
   "cell_type": "markdown",
   "metadata": {},
   "source": [
    "##### FILTRAR VALORES NULLOS EN DF "
   ]
  },
  {
   "cell_type": "code",
   "execution_count": 698,
   "metadata": {},
   "outputs": [],
   "source": [
    "filtered_df = df[df.isna().any(axis=1)]"
   ]
  },
  {
   "cell_type": "markdown",
   "metadata": {},
   "source": [
    "##### % VALORES NULLOS "
   ]
  },
  {
   "cell_type": "code",
   "execution_count": 699,
   "metadata": {},
   "outputs": [
    {
     "data": {
      "text/html": [
       "<div>\n",
       "<style scoped>\n",
       "    .dataframe tbody tr th:only-of-type {\n",
       "        vertical-align: middle;\n",
       "    }\n",
       "\n",
       "    .dataframe tbody tr th {\n",
       "        vertical-align: top;\n",
       "    }\n",
       "\n",
       "    .dataframe thead th {\n",
       "        text-align: right;\n",
       "    }\n",
       "</style>\n",
       "<table border=\"1\" class=\"dataframe\">\n",
       "  <thead>\n",
       "    <tr style=\"text-align: right;\">\n",
       "      <th></th>\n",
       "      <th>nullos_c</th>\n",
       "      <th>%</th>\n",
       "    </tr>\n",
       "    <tr>\n",
       "      <th>columnas</th>\n",
       "      <th></th>\n",
       "      <th></th>\n",
       "    </tr>\n",
       "  </thead>\n",
       "  <tbody>\n",
       "    <tr>\n",
       "      <th>Sales</th>\n",
       "      <td>6</td>\n",
       "      <td>0.06</td>\n",
       "    </tr>\n",
       "    <tr>\n",
       "      <th>Quantity</th>\n",
       "      <td>6</td>\n",
       "      <td>0.06</td>\n",
       "    </tr>\n",
       "    <tr>\n",
       "      <th>Discount</th>\n",
       "      <td>6</td>\n",
       "      <td>0.06</td>\n",
       "    </tr>\n",
       "    <tr>\n",
       "      <th>Profit</th>\n",
       "      <td>6</td>\n",
       "      <td>0.06</td>\n",
       "    </tr>\n",
       "    <tr>\n",
       "      <th>total</th>\n",
       "      <td>=</td>\n",
       "      <td>0.24</td>\n",
       "    </tr>\n",
       "  </tbody>\n",
       "</table>\n",
       "</div>"
      ],
      "text/plain": [
       "         nullos_c     %\n",
       "columnas               \n",
       "Sales           6  0.06\n",
       "Quantity        6  0.06\n",
       "Discount        6  0.06\n",
       "Profit          6  0.06\n",
       "total           =  0.24"
      ]
     },
     "execution_count": 699,
     "metadata": {},
     "output_type": "execute_result"
    }
   ],
   "source": [
    "nullos['%']=round((nullos['nullos_c']/df.shape[0])*100,3)\n",
    "nullos.loc['total'] = ['=',np.array(nullos['%']).sum()]\n",
    "nullos"
   ]
  },
  {
   "cell_type": "markdown",
   "metadata": {},
   "source": [
    "##### REMPLAZAR NULLOS POR PROMEDIO"
   ]
  },
  {
   "cell_type": "code",
   "execution_count": 700,
   "metadata": {},
   "outputs": [],
   "source": [
    "#df.replace(np.nan, 0,inplace=True)\n",
    "# Reemplazar TSH por la media\n",
    "mean_imputer = SimpleImputer(strategy='mean')\n",
    "df.loc[:,['Sales','Quantity','Discount','Profit']] \\\n",
    "        = mean_imputer.fit_transform(df[['Sales','Quantity','Discount','Profit']])\n"
   ]
  },
  {
   "cell_type": "code",
   "execution_count": 701,
   "metadata": {},
   "outputs": [
    {
     "data": {
      "text/plain": [
       "False"
      ]
     },
     "execution_count": 701,
     "metadata": {},
     "output_type": "execute_result"
    }
   ],
   "source": [
    "# SE VERIFICA QUE NO HAY VALORES NULLOS\n",
    "df.isnull().values.any()"
   ]
  },
  {
   "cell_type": "markdown",
   "metadata": {},
   "source": [
    "##### VALORES DUPLICADOS"
   ]
  },
  {
   "cell_type": "code",
   "execution_count": 702,
   "metadata": {},
   "outputs": [
    {
     "data": {
      "text/plain": [
       "0"
      ]
     },
     "execution_count": 702,
     "metadata": {},
     "output_type": "execute_result"
    }
   ],
   "source": [
    "df.index.duplicated().sum()"
   ]
  },
  {
   "cell_type": "markdown",
   "metadata": {},
   "source": [
    "##### SELECCION DE FEATURES Y AGREGAR FUNCIONES DE TIEMPO"
   ]
  },
  {
   "cell_type": "code",
   "execution_count": 703,
   "metadata": {},
   "outputs": [],
   "source": [
    "def tiempo(df):\n",
    "    df['Ship Date'] = pd.to_datetime(df['Ship Date'])\n",
    "    df['año']=df['Ship Date'].dt.year\n",
    "    df['mes']=df['Ship Date'].dt.month\n",
    "    df['dia']=df['Ship Date'].dt.day\n",
    "    return df"
   ]
  },
  {
   "cell_type": "code",
   "execution_count": 704,
   "metadata": {},
   "outputs": [],
   "source": [
    "# se borra pais por que solo tiene un solo country \n",
    "df__=df.loc[:,['Ship Date','Ship Mode','Customer Name','Segment','City','State','Category','Sub-Category','Quantity','Profit']]\n",
    "df__=tiempo(df__)\n"
   ]
  },
  {
   "cell_type": "markdown",
   "metadata": {},
   "source": [
    "##### VALORES UNICOS "
   ]
  },
  {
   "cell_type": "code",
   "execution_count": 705,
   "metadata": {},
   "outputs": [],
   "source": [
    "def unicos(df):\n",
    "    unicos={i:df[i].nunique()  for i in df.columns }\n",
    "    return pd.DataFrame(unicos,index=['unicos'])\\\n",
    "            .T.sort_values(by='unicos',ascending=True)"
   ]
  },
  {
   "cell_type": "code",
   "execution_count": 706,
   "metadata": {},
   "outputs": [
    {
     "data": {
      "text/html": [
       "<div>\n",
       "<style scoped>\n",
       "    .dataframe tbody tr th:only-of-type {\n",
       "        vertical-align: middle;\n",
       "    }\n",
       "\n",
       "    .dataframe tbody tr th {\n",
       "        vertical-align: top;\n",
       "    }\n",
       "\n",
       "    .dataframe thead th {\n",
       "        text-align: right;\n",
       "    }\n",
       "</style>\n",
       "<table border=\"1\" class=\"dataframe\">\n",
       "  <thead>\n",
       "    <tr style=\"text-align: right;\">\n",
       "      <th></th>\n",
       "      <th>unicos</th>\n",
       "    </tr>\n",
       "  </thead>\n",
       "  <tbody>\n",
       "    <tr>\n",
       "      <th>Segment</th>\n",
       "      <td>3</td>\n",
       "    </tr>\n",
       "    <tr>\n",
       "      <th>Category</th>\n",
       "      <td>3</td>\n",
       "    </tr>\n",
       "    <tr>\n",
       "      <th>Ship Mode</th>\n",
       "      <td>4</td>\n",
       "    </tr>\n",
       "    <tr>\n",
       "      <th>año</th>\n",
       "      <td>5</td>\n",
       "    </tr>\n",
       "    <tr>\n",
       "      <th>mes</th>\n",
       "      <td>12</td>\n",
       "    </tr>\n",
       "    <tr>\n",
       "      <th>Quantity</th>\n",
       "      <td>15</td>\n",
       "    </tr>\n",
       "    <tr>\n",
       "      <th>Sub-Category</th>\n",
       "      <td>17</td>\n",
       "    </tr>\n",
       "    <tr>\n",
       "      <th>dia</th>\n",
       "      <td>31</td>\n",
       "    </tr>\n",
       "    <tr>\n",
       "      <th>State</th>\n",
       "      <td>49</td>\n",
       "    </tr>\n",
       "    <tr>\n",
       "      <th>City</th>\n",
       "      <td>531</td>\n",
       "    </tr>\n",
       "    <tr>\n",
       "      <th>Customer Name</th>\n",
       "      <td>793</td>\n",
       "    </tr>\n",
       "    <tr>\n",
       "      <th>Ship Date</th>\n",
       "      <td>1334</td>\n",
       "    </tr>\n",
       "    <tr>\n",
       "      <th>Profit</th>\n",
       "      <td>7060</td>\n",
       "    </tr>\n",
       "  </tbody>\n",
       "</table>\n",
       "</div>"
      ],
      "text/plain": [
       "               unicos\n",
       "Segment             3\n",
       "Category            3\n",
       "Ship Mode           4\n",
       "año                 5\n",
       "mes                12\n",
       "Quantity           15\n",
       "Sub-Category       17\n",
       "dia                31\n",
       "State              49\n",
       "City              531\n",
       "Customer Name     793\n",
       "Ship Date        1334\n",
       "Profit           7060"
      ]
     },
     "execution_count": 706,
     "metadata": {},
     "output_type": "execute_result"
    }
   ],
   "source": [
    "unicos_=unicos(df__)\n",
    "unicos_"
   ]
  },
  {
   "cell_type": "markdown",
   "metadata": {},
   "source": [
    "Al examinar los valores únicos, se puede detectar la diversidad y la distribución de los datos en cada variable, lo que ayuda a comprender mejor las relaciones y patrones presentes"
   ]
  },
  {
   "cell_type": "markdown",
   "metadata": {},
   "source": [
    "##### MEDIDAS ESTADISTICAS  PROFIT"
   ]
  },
  {
   "cell_type": "code",
   "execution_count": 707,
   "metadata": {},
   "outputs": [],
   "source": [
    "promedio_profit=round(np.array(df__['Profit']).mean(),0)\n",
    "max_profit=round(np.array(df__['Profit']).max(),0)\n",
    "min_profit=round(np.array(df__['Profit']).min(),0)\n",
    "desv_=round(np.array(df__['Profit']).std(),0)\n",
    "Q1=np.percentile(np.array(df__['Profit']),25)\n",
    "Q3=np.percentile(np.array(df__['Profit']),75)\n",
    "IQR = Q3 - Q1\n",
    "limite_inferior = Q1 - 1.5 * IQR\n",
    "limite_superior = Q3 + 1.5 * IQR"
   ]
  },
  {
   "cell_type": "markdown",
   "metadata": {},
   "source": [
    "##### RESUMEN ESTADISTICO"
   ]
  },
  {
   "cell_type": "code",
   "execution_count": 708,
   "metadata": {},
   "outputs": [
    {
     "data": {
      "text/html": [
       "<div>\n",
       "<style scoped>\n",
       "    .dataframe tbody tr th:only-of-type {\n",
       "        vertical-align: middle;\n",
       "    }\n",
       "\n",
       "    .dataframe tbody tr th {\n",
       "        vertical-align: top;\n",
       "    }\n",
       "\n",
       "    .dataframe thead th {\n",
       "        text-align: right;\n",
       "    }\n",
       "</style>\n",
       "<table border=\"1\" class=\"dataframe\">\n",
       "  <thead>\n",
       "    <tr style=\"text-align: right;\">\n",
       "      <th></th>\n",
       "      <th>promedio_profit</th>\n",
       "      <th>max_profit</th>\n",
       "      <th>min_profit</th>\n",
       "      <th>desv_</th>\n",
       "      <th>Q1</th>\n",
       "      <th>Q3</th>\n",
       "      <th>limite_inferior</th>\n",
       "      <th>limite_superior</th>\n",
       "    </tr>\n",
       "  </thead>\n",
       "  <tbody>\n",
       "    <tr>\n",
       "      <th>resumen</th>\n",
       "      <td>179906.0</td>\n",
       "      <td>67199808.0</td>\n",
       "      <td>-38399904.0</td>\n",
       "      <td>1722850.0</td>\n",
       "      <td>2245.0</td>\n",
       "      <td>151083.0</td>\n",
       "      <td>-221012.0</td>\n",
       "      <td>374340.0</td>\n",
       "    </tr>\n",
       "  </tbody>\n",
       "</table>\n",
       "</div>"
      ],
      "text/plain": [
       "         promedio_profit  max_profit  min_profit      desv_      Q1        Q3  \\\n",
       "resumen         179906.0  67199808.0 -38399904.0  1722850.0  2245.0  151083.0   \n",
       "\n",
       "         limite_inferior  limite_superior  \n",
       "resumen        -221012.0         374340.0  "
      ]
     },
     "execution_count": 708,
     "metadata": {},
     "output_type": "execute_result"
    }
   ],
   "source": [
    "resumen={\n",
    "    'promedio_profit':promedio_profit,\n",
    "    'max_profit':max_profit,\n",
    "    'min_profit':min_profit,\n",
    "    'desv_':desv_,\n",
    "    'Q1':Q1,\n",
    "    'Q3':Q3,\n",
    "    'limite_inferior':limite_inferior,\n",
    "    'limite_superior':limite_superior\n",
    "}\n",
    "resumen=pd.DataFrame(resumen,index=['resumen'])\n",
    "resumen"
   ]
  },
  {
   "cell_type": "markdown",
   "metadata": {},
   "source": [
    "##### AGRUPAR DATOS"
   ]
  },
  {
   "cell_type": "markdown",
   "metadata": {},
   "source": [
    "##### conteo por segmento"
   ]
  },
  {
   "cell_type": "code",
   "execution_count": 709,
   "metadata": {},
   "outputs": [],
   "source": [
    "# segmento por cliente\n",
    "segmento=df__.groupby(['Segment'])['Segment'].count()\n",
    "segmento=segmento.reset_index(name='conteo')\n"
   ]
  },
  {
   "cell_type": "markdown",
   "metadata": {},
   "source": [
    "##### pivot por segmentos y año"
   ]
  },
  {
   "cell_type": "code",
   "execution_count": 721,
   "metadata": {},
   "outputs": [],
   "source": [
    "tabla_pivote = pd.pivot_table(\n",
    "    df__, \n",
    "    values='Profit',        \n",
    "    index='año',            \n",
    "    columns='Segment',      \n",
    "    aggfunc='sum',          \n",
    "    fill_value=0            \n",
    ")"
   ]
  },
  {
   "cell_type": "markdown",
   "metadata": {},
   "source": [
    "##### conteo por ciudad y suma de profit"
   ]
  },
  {
   "cell_type": "code",
   "execution_count": 712,
   "metadata": {},
   "outputs": [],
   "source": [
    "ciudad=df__.groupby(['City'])['Profit'].sum()\n",
    "ciudad=ciudad.reset_index(name='sum').sort_values(by='sum',ascending=False).head(21)\n",
    "ciudad['valores'] = ciudad['sum'].apply(lambda x: '{:,.0f}'.format(x))\n",
    "conteo=df__.groupby(['City'])['City'].count()\n",
    "conteo=conteo.reset_index(name='conteo')\n",
    "df_result=pd.merge(ciudad,conteo,on='City')\n",
    "df_result=df_result.iloc[:,[0,2,3]]\n"
   ]
  },
  {
   "cell_type": "markdown",
   "metadata": {},
   "source": [
    "##### profit estado"
   ]
  },
  {
   "cell_type": "code",
   "execution_count": 713,
   "metadata": {},
   "outputs": [],
   "source": [
    "estado=df__.groupby(['State'])['Profit'].sum()\n",
    "estado=estado.reset_index(name='sum').sort_values(by='sum',ascending=False).head(21)\n",
    "estado['valores'] = estado['sum'].apply(lambda x: '{:,.0f}'.format(x))\n",
    "estado=estado.iloc[:,[0,2]]\n"
   ]
  },
  {
   "cell_type": "markdown",
   "metadata": {},
   "source": [
    "##### categorias mas frecuentes"
   ]
  },
  {
   "cell_type": "code",
   "execution_count": 730,
   "metadata": {},
   "outputs": [],
   "source": [
    "categoria=df__.groupby('Category')['Category'].count()\n",
    "categoria=categoria.reset_index(name='conteo')\n",
    "categoria_s=df__.groupby('Category')['Profit'].sum()\n",
    "categoria_s=categoria_s.reset_index(name='suma')\n",
    "categoria_s['valores'] = categoria_s['suma'].apply(lambda x: '{:,.0f}'.format(x))\n",
    "categoria_s=pd.merge(categoria,categoria_s,on='Category')\n",
    "categoria_s=categoria_s.iloc[:,[0,1,3]]\n"
   ]
  },
  {
   "cell_type": "markdown",
   "metadata": {},
   "source": [
    "##### pedidos a lo largo del tiempo"
   ]
  },
  {
   "cell_type": "code",
   "execution_count": 729,
   "metadata": {},
   "outputs": [],
   "source": [
    "años_=df__.groupby('año')['año'].count()\n",
    "años_=años_.reset_index(name='conteo')\n",
    "años_profit=df__.groupby('año')['Profit'].sum()\n",
    "años_profit=años_profit.reset_index(name='suma')\n",
    "años_profit['valores'] = años_profit['suma'].apply(lambda x: '{:,.0f}'.format(x))\n",
    "años_resumen=pd.merge(años_,años_profit,on='año').sort_values(by='año',ascending=False)\n",
    "años_resumen=años_resumen.iloc[:,[0,1,3]]\n"
   ]
  },
  {
   "cell_type": "markdown",
   "metadata": {},
   "source": [
    "##### Analisis Grafico"
   ]
  },
  {
   "cell_type": "markdown",
   "metadata": {},
   "source": [
    "##### grafica  de tendencia de pedidos"
   ]
  },
  {
   "cell_type": "markdown",
   "metadata": {},
   "source": [
    "¿ que tipo de tendencia tiene los pedidos en los ultimos años?\n",
    "\n",
    "¿ Se experimentó una desaceleración en las ganancias?"
   ]
  },
  {
   "cell_type": "code",
   "execution_count": 716,
   "metadata": {},
   "outputs": [],
   "source": [
    "plt.style.use('seaborn-v0_8')"
   ]
  },
  {
   "cell_type": "code",
   "execution_count": null,
   "metadata": {},
   "outputs": [],
   "source": [
    "años_=df__.groupby('año')['año'].count()\n",
    "años_=años_.reset_index(name='conteo')\n",
    "años_profit=df__.groupby('año')['Profit'].sum()\n",
    "años_profit=años_profit.reset_index(name='suma')\n",
    "años_profit['valores'] = años_profit['suma'].apply(lambda x: '{:,.0f}'.format(x))\n",
    "años_resumen=pd.merge(años_,años_profit,on='año').sort_values(by='año',ascending=False)\n",
    "años_resumen=años_resumen.iloc[:,[0,1,3]]"
   ]
  },
  {
   "cell_type": "code",
   "execution_count": 717,
   "metadata": {},
   "outputs": [
    {
     "data": {
      "image/png": "[encoded data removed]",
      "text/plain": [
       "<Figure size 800x300 with 2 Axes>"
      ]
     },
     "metadata": {},
     "output_type": "display_data"
    }
   ],
   "source": [
    "fig,ax = plt.subplots(1,2, figsize=(8, 3))\n",
    "\n",
    "ax[0].plot(años_resumen['año'],años_resumen['conteo'],color='red',marker='o',linestyle='--',linewidth=1)\n",
    "ax[1].plot(años_resumen['año'],años_resumen['valores'],color='b',marker='o',linestyle='--',linewidth=1)\n",
    "\n",
    "ax[0].tick_params(axis='x', rotation=45)\n",
    "ax[0].set_xlabel('años')\n",
    "ax[0].set_ylabel('# ordenes')\n",
    "ax[0].set_title('numero de pedidos por años')\n",
    "\n",
    "ax[1].tick_params(axis='x', rotation=45)\n",
    "ax[1].set_xlabel('años')\n",
    "ax[1].set_ylabel('ganancias')\n",
    "ax[1].tick_params(axis='x', rotation=45)\n",
    "ax[1].set_title('ganancias por año')\n",
    "\n",
    "plt.tight_layout()\n",
    "plt.show()\n",
    "\n"
   ]
  },
  {
   "cell_type": "markdown",
   "metadata": {},
   "source": [
    "grafica  de ganancias por segmento "
   ]
  },
  {
   "cell_type": "code",
   "execution_count": 744,
   "metadata": {},
   "outputs": [
    {
     "data": {
      "image/png": "[encoded data removed]",
      "text/plain": [
       "<Figure size 800x300 with 1 Axes>"
      ]
     },
     "metadata": {},
     "output_type": "display_data"
    }
   ],
   "source": [
    "fig , ax =plt.subplots(figsize=(8, 3))\n",
    "\n",
    "ax.plot(tabla_pivote.index,tabla_pivote['Consumer'],color='b',marker='o',linestyle='--',linewidth=1,label='Consumer')\n",
    "ax.plot(tabla_pivote.index,tabla_pivote['Corporate'],color='r',marker='o',linestyle='--',linewidth=1,label='Corporate')\n",
    "ax.plot(tabla_pivote.index,tabla_pivote['Home Office'],color='g',marker='o',linestyle='--',linewidth=1,label='Home Office')\n",
    "\n",
    "ax.legend()\n",
    "\n",
    "plt.show()"
   ]
  }
 ],
 "metadata": {
  "kernelspec": {
   "display_name": "Python 3",
   "language": "python",
   "name": "python3"
  },
  "language_info": {
   "codemirror_mode": {
    "name": "ipython",
    "version": 3
   },
   "file_extension": ".py",
   "mimetype": "text/x-python",
   "name": "python",
   "nbconvert_exporter": "python",
   "pygments_lexer": "ipython3",
   "version": "3.11.3"
  }
 },
 "nbformat": 4,
 "nbformat_minor": 2
}
