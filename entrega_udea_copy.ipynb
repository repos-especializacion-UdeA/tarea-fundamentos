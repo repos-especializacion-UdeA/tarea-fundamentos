{
 "cells": [
  {
   "cell_type": "markdown",
   "metadata": {},
   "source": [
    "[![Open In Colab](https://colab.research.google.com/assets/colab-badge.svg)](https://colab.research.google.com/github/tigarto/tarea-fundamentos/blob/main/entrega_udea_copy.ipynb)"
   ]
  },
  {
   "cell_type": "code",
   "execution_count": null,
   "metadata": {},
   "outputs": [],
   "source": [
    "import pandas as pd \n",
    "import numpy as np\n",
    "\n",
    "import seaborn as sns\n",
    "import matplotlib.pyplot as plt\n",
    "\n",
    "sns.set()\n",
    "\n",
    "from sklearn.impute import SimpleImputer"
   ]
  },
  {
   "cell_type": "markdown",
   "metadata": {},
   "source": [
    "### LIMPIEZA DE DATOS"
   ]
  },
  {
   "cell_type": "markdown",
   "metadata": {},
   "source": [
    "##### TAMAÑO DEL DF"
   ]
  },
  {
   "cell_type": "code",
   "execution_count": null,
   "metadata": {},
   "outputs": [],
   "source": [
    "path='https://github.com/tigarto/tarea-fundamentos/raw/main/data_market.csv'\n",
    "df=pd.read_csv(path,encoding='ISO-8859-1',delimiter=';',index_col='Row ID')"
   ]
  },
  {
   "cell_type": "markdown",
   "metadata": {},
   "source": [
    "##### TAMAÑO DEL DF"
   ]
  },
  {
   "cell_type": "code",
   "execution_count": null,
   "metadata": {},
   "outputs": [],
   "source": [
    "print(f'el tamaño del dataframe es de {df.shape[0]} filas y {df.shape[1]} columnas')"
   ]
  },
  {
   "cell_type": "markdown",
   "metadata": {},
   "source": [
    "##### TIPO COLUMNAS"
   ]
  },
  {
   "cell_type": "code",
   "execution_count": null,
   "metadata": {},
   "outputs": [],
   "source": [
    "columnas_numericas=df.select_dtypes(include=['number']).columns\n",
    "columnas_categoricas=df.select_dtypes(include=['object']).columns\n",
    "print(f'la cantidad de columnas numericas es {len(columnas_numericas)} y la de categoricas es {len(columnas_categoricas)}')"
   ]
  },
  {
   "cell_type": "code",
   "execution_count": null,
   "metadata": {},
   "outputs": [],
   "source": [
    "df.dtypes"
   ]
  },
  {
   "cell_type": "markdown",
   "metadata": {},
   "source": [
    "##### CAMBIAR TIPO STRING A FLOAT"
   ]
  },
  {
   "cell_type": "code",
   "execution_count": null,
   "metadata": {},
   "outputs": [],
   "source": [
    "def remplazos(df):\n",
    "    df['Profit'] = df['Profit'].str.replace('.','')\n",
    "    df['Profit'] = df['Profit'].astype('Float64')\n",
    "    df['Sales'] = df['Sales'].str.replace('.','')\n",
    "    df['Sales'] = df['Sales'].astype('Float64')\n",
    "    \n",
    "    return df\n",
    "    "
   ]
  },
  {
   "cell_type": "code",
   "execution_count": null,
   "metadata": {},
   "outputs": [],
   "source": [
    "df=remplazos(df)"
   ]
  },
  {
   "cell_type": "markdown",
   "metadata": {},
   "source": [
    "##### VALORES NULLOS "
   ]
  },
  {
   "cell_type": "code",
   "execution_count": null,
   "metadata": {},
   "outputs": [],
   "source": [
    "nullos=df.isnull().sum().reset_index()\n",
    "nullos=nullos.rename(columns={'index':'columnas',0:'nullos_c'})\n",
    "nullos=nullos[nullos.nullos_c>0]\n",
    "nullos=nullos.set_index('columnas')\n",
    "print(f'el numero de columnas con datos nullos es de {nullos.shape[0]}\\\n",
    " para un total de {np.array(nullos.nullos_c).sum()} datos nullos en todo el data set')\n",
    "nullos\n"
   ]
  },
  {
   "cell_type": "markdown",
   "metadata": {},
   "source": [
    "##### FILTRAR VALORES NULLOS EN DF "
   ]
  },
  {
   "cell_type": "code",
   "execution_count": null,
   "metadata": {},
   "outputs": [],
   "source": [
    "filtered_df = df[df.isna().any(axis=1)]"
   ]
  },
  {
   "cell_type": "markdown",
   "metadata": {},
   "source": [
    "##### % VALORES NULLOS "
   ]
  },
  {
   "cell_type": "code",
   "execution_count": null,
   "metadata": {},
   "outputs": [],
   "source": [
    "nullos['%']=round((nullos['nullos_c']/df.shape[0])*100,3)\n",
    "nullos.loc['total'] = ['=',np.array(nullos['%']).sum()]\n",
    "nullos"
   ]
  },
  {
   "cell_type": "markdown",
   "metadata": {},
   "source": [
    "##### REMPLAZAR NULLOS POR PROMEDIO"
   ]
  },
  {
   "cell_type": "code",
   "execution_count": null,
   "metadata": {},
   "outputs": [],
   "source": [
    "#df.replace(np.nan, 0,inplace=True)\n",
    "# Reemplazar TSH por la media\n",
    "mean_imputer = SimpleImputer(strategy='mean')\n",
    "df.loc[:,['Sales','Quantity','Discount','Profit']] \\\n",
    "        = mean_imputer.fit_transform(df[['Sales','Quantity','Discount','Profit']])\n"
   ]
  },
  {
   "cell_type": "code",
   "execution_count": null,
   "metadata": {},
   "outputs": [],
   "source": [
    "# SE VERIFICA QUE NO HAY VALORES NULLOS\n",
    "df.isnull().values.any()"
   ]
  },
  {
   "cell_type": "markdown",
   "metadata": {},
   "source": [
    "##### VALORES DUPLICADOS"
   ]
  },
  {
   "cell_type": "code",
   "execution_count": null,
   "metadata": {},
   "outputs": [],
   "source": [
    "df.index.duplicated().sum()"
   ]
  },
  {
   "cell_type": "markdown",
   "metadata": {},
   "source": [
    "##### SELECCION DE FEATURES Y AGREGAR FUNCIONES DE TIEMPO"
   ]
  },
  {
   "cell_type": "code",
   "execution_count": null,
   "metadata": {},
   "outputs": [],
   "source": [
    "def tiempo(df):\n",
    "    df['Ship Date'] = pd.to_datetime(df['Ship Date'])\n",
    "    df['año']=df['Ship Date'].dt.year\n",
    "    df['mes']=df['Ship Date'].dt.month\n",
    "    df['dia']=df['Ship Date'].dt.day\n",
    "    return df"
   ]
  },
  {
   "cell_type": "code",
   "execution_count": null,
   "metadata": {},
   "outputs": [],
   "source": [
    "# se borra pais por que solo tiene un solo country \n",
    "df__=df.loc[:,['Ship Date','Ship Mode','Customer Name','Segment','City','State','Category','Sub-Category','Quantity','Profit']]\n",
    "df__=tiempo(df__)\n"
   ]
  },
  {
   "cell_type": "markdown",
   "metadata": {},
   "source": [
    "##### VALORES UNICOS "
   ]
  },
  {
   "cell_type": "code",
   "execution_count": null,
   "metadata": {},
   "outputs": [],
   "source": [
    "def unicos(df):\n",
    "    unicos={i:df[i].nunique()  for i in df.columns }\n",
    "    return pd.DataFrame(unicos,index=['unicos'])\\\n",
    "            .T.sort_values(by='unicos',ascending=True)"
   ]
  },
  {
   "cell_type": "code",
   "execution_count": null,
   "metadata": {},
   "outputs": [],
   "source": [
    "unicos_=unicos(df__)\n",
    "unicos_"
   ]
  },
  {
   "cell_type": "markdown",
   "metadata": {},
   "source": [
    "Al examinar los valores únicos, se puede detectar la diversidad y la distribución de los datos en cada variable, lo que ayuda a comprender mejor las relaciones y patrones presentes"
   ]
  },
  {
   "cell_type": "markdown",
   "metadata": {},
   "source": [
    "##### MEDIDAS ESTADISTICAS  PROFIT"
   ]
  },
  {
   "cell_type": "code",
   "execution_count": null,
   "metadata": {},
   "outputs": [],
   "source": [
    "promedio_profit=round(np.array(df__['Profit']).mean(),0)\n",
    "max_profit=round(np.array(df__['Profit']).max(),0)\n",
    "min_profit=round(np.array(df__['Profit']).min(),0)\n",
    "desv_=round(np.array(df__['Profit']).std(),0)\n",
    "Q1=np.percentile(np.array(df__['Profit']),25)\n",
    "Q3=np.percentile(np.array(df__['Profit']),75)\n",
    "IQR = Q3 - Q1\n",
    "limite_inferior = Q1 - 1.5 * IQR\n",
    "limite_superior = Q3 + 1.5 * IQR"
   ]
  },
  {
   "cell_type": "markdown",
   "metadata": {},
   "source": [
    "##### RESUMEN ESTADISTICO"
   ]
  },
  {
   "cell_type": "code",
   "execution_count": null,
   "metadata": {},
   "outputs": [],
   "source": [
    "resumen={\n",
    "    'promedio_profit':promedio_profit,\n",
    "    'max_profit':max_profit,\n",
    "    'min_profit':min_profit,\n",
    "    'desv_':desv_,\n",
    "    'Q1':Q1,\n",
    "    'Q3':Q3,\n",
    "    'limite_inferior':limite_inferior,\n",
    "    'limite_superior':limite_superior\n",
    "}\n",
    "resumen=pd.DataFrame(resumen,index=['resumen'])\n",
    "resumen"
   ]
  },
  {
   "cell_type": "markdown",
   "metadata": {},
   "source": [
    "##### AGRUPAR DATOS"
   ]
  },
  {
   "cell_type": "markdown",
   "metadata": {},
   "source": [
    "##### conteo por segmento"
   ]
  },
  {
   "cell_type": "code",
   "execution_count": null,
   "metadata": {},
   "outputs": [],
   "source": [
    "# segmento por cliente\n",
    "segmento=df__.groupby(['Segment'])['Segment'].count()\n",
    "segmento=segmento.reset_index(name='conteo')\n",
    "segmento"
   ]
  },
  {
   "cell_type": "markdown",
   "metadata": {},
   "source": [
    "##### conteo por ciudad y suma de profit"
   ]
  },
  {
   "cell_type": "code",
   "execution_count": null,
   "metadata": {},
   "outputs": [],
   "source": [
    "ciudad=df__.groupby(['City'])['Profit'].sum()\n",
    "ciudad=ciudad.reset_index(name='sum').sort_values(by='sum',ascending=False).head(21)\n",
    "ciudad['valores'] = ciudad['sum'].apply(lambda x: '{:,.0f}'.format(x))\n",
    "conteo=df__.groupby(['City'])['City'].count()\n",
    "conteo=conteo.reset_index(name='conteo')\n",
    "df_result=pd.merge(ciudad,conteo,on='City')\n",
    "df_result=df_result.iloc[:,[0,2,3]]\n",
    "df_result"
   ]
  },
  {
   "cell_type": "markdown",
   "metadata": {},
   "source": [
    "##### profit estado"
   ]
  },
  {
   "cell_type": "code",
   "execution_count": null,
   "metadata": {},
   "outputs": [],
   "source": [
    "estado=df__.groupby(['State'])['Profit'].sum()\n",
    "estado=estado.reset_index(name='sum').sort_values(by='sum',ascending=False).head(21)\n",
    "estado['valores'] = estado['sum'].apply(lambda x: '{:,.0f}'.format(x))\n",
    "estado=estado.iloc[:,[0,2]]\n",
    "estado"
   ]
  },
  {
   "cell_type": "markdown",
   "metadata": {},
   "source": [
    "##### categorias mas frecuentes"
   ]
  },
  {
   "cell_type": "code",
   "execution_count": null,
   "metadata": {},
   "outputs": [],
   "source": [
    "categoria=df__.groupby('Category')['Category'].count()\n",
    "categoria=categoria.reset_index(name='conteo')\n",
    "categoria_s=df__.groupby('Category')['Profit'].sum()\n",
    "categoria_s=categoria_s.reset_index(name='suma')\n",
    "categoria_s['valores'] = categoria_s['suma'].apply(lambda x: '{:,.0f}'.format(x))\n",
    "categoria_s=pd.merge(categoria,categoria_s,on='Category')\n",
    "categoria_s=categoria_s.iloc[:,[0,1,3]]\n",
    "categoria_s"
   ]
  },
  {
   "cell_type": "code",
   "execution_count": null,
   "metadata": {},
   "outputs": [],
   "source": [
    "sns.catplot(x = 'Category', y = 'conteo', data = categoria_s, kind = 'bar', hue = 'Category');\n",
    "plt.title(\"Conteo por categoria\")\n",
    "plt.show()"
   ]
  },
  {
   "cell_type": "markdown",
   "metadata": {},
   "source": [
    "##### Categorias discriminadas (Nota: Resultado raro)"
   ]
  },
  {
   "cell_type": "code",
   "execution_count": null,
   "metadata": {},
   "outputs": [],
   "source": [
    "# Elementos por categoria y subcategoria\n",
    "df_cat__ = df__.groupby(['Category','Sub-Category']).agg({'Sub-Category':'count', 'Profit':'sum'})\n",
    "df_cat__.rename(columns = {'Sub-Category': 'conteo', 'Profit': 'valores'},inplace='True')\n",
    "df_cat__"
   ]
  },
  {
   "cell_type": "markdown",
   "metadata": {},
   "source": [
    "##### pedidos a lo largo del tiempo"
   ]
  },
  {
   "cell_type": "code",
   "execution_count": null,
   "metadata": {},
   "outputs": [],
   "source": [
    "df.head(1)"
   ]
  }
 ],
 "metadata": {
  "kernelspec": {
   "display_name": "Python 3",
   "language": "python",
   "name": "python3"
  },
  "language_info": {
   "codemirror_mode": {
    "name": "ipython",
    "version": 3
   },
   "file_extension": ".py",
   "mimetype": "text/x-python",
   "name": "python",
   "nbconvert_exporter": "python",
   "pygments_lexer": "ipython3",
   "version": "3.9.13"
  }
 },
 "nbformat": 4,
 "nbformat_minor": 2
}
