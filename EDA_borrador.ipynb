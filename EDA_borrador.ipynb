{
  "cells": [
    {
      "cell_type": "code",
      "execution_count": 1,
      "metadata": {
        "id": "n9HPug0vmlf4"
      },
      "outputs": [],
      "source": [
        "import os\n",
        "import pandas as pd\n",
        "import numpy as np\n",
        "import seaborn as sns                       #visualisation\n",
        "import matplotlib.pyplot as plt             #visualisation\n",
        "from IPython.display import display, Markdown, display_html   # Para mostrar bonitas las cosas\n",
        "%matplotlib inline"
      ]
    },
    {
      "cell_type": "code",
      "execution_count": 3,
      "metadata": {
        "id": "1-CGucQs8OX9"
      },
      "outputs": [],
      "source": [
        "\"\"\"\n",
        "Funciones de utilidad para al carga y transformacion del dataframe inicial\n",
        "\"\"\"\n",
        "\n",
        "# Montaje del archivo\n",
        "def load_dataset(data_set):\n",
        "  try:\n",
        "    # montar el drive\n",
        "    result = pd.read_csv(data_set, encoding='ISO-8859-1',delimiter=';')\n",
        "    return result\n",
        "  except Exception as e:\n",
        "    # Error\n",
        "    print(f\"An unexpected error occurred: {e}\")\n",
        "    result = None\n",
        "\n",
        "\n",
        "# Convert Series to Markdown table\n",
        "def series_to_markdown(series):\n",
        "  # Agradecimientos: Inteligencia artificial generativa\n",
        "  markdown = \"| Index | Value |\\n|-------|-------|\\n\"\n",
        "  for idx, value in series.items():\n",
        "    markdown += f\"| {idx} | {value} |\\n\"\n",
        "  return markdown\n",
        "\n",
        "# Columnas como string\n",
        "def column_items_to_str(data_frame):\n",
        "  # Convert Index to a formatted Markdown string\n",
        "  str_cols = str(list(data_frame.columns)).strip(\"[]\")[1:-1]\n",
        "  return str_cols\n",
        "\n",
        "# Renombra las columnas del data_frame para que tengan nombres validos\n",
        "def rename_df_columns(data_frame):\n",
        "  data_frame.columns = data_frame.columns.str.lower()           # Minusculas\n",
        "  data_frame.columns = data_frame.columns.str.replace(' ','_')  # ' ' -> '_'\n",
        "  data_frame.columns = data_frame.columns.str.replace('-','_')  # '-' por '_'"
      ]
    },
    {
      "cell_type": "markdown",
      "metadata": {
        "id": "ua0Tocezm4Qz"
      },
      "source": [
        "# EDA"
      ]
    },
    {
      "cell_type": "markdown",
      "metadata": {
        "id": "A3aL6Zo7pZQw"
      },
      "source": [
        "## 0. Pasos previos"
      ]
    },
    {
      "cell_type": "markdown",
      "metadata": {
        "id": "QWDIoo1cnefI"
      },
      "source": [
        "## 1. Carga y previsualizacion de los datos\n",
        "\n",
        "> **Dataset**: Superstore Dataset [[link]](https://www.kaggle.com/datasets/vivek468/superstore-dataset-final)\n",
        "\n",
        "Los atributos el dataset se muestran a continuación:\n",
        "1. **Row ID**: Unique ID for each row.\n",
        "2. **Order ID**: ID del pedido para cada cliente.\n",
        "3. **Order Date**: Fecha del pedido del producto.\n",
        "4. **Ship Date**:  Fecha de envío del producto\n",
        "5. **Ship Mode**: Modo de envío especificado por el cliente.\n",
        "6. **Customer ID**: ID del cliente.\n",
        "7.  **Customer Name**: Nombre del cliente.\n",
        "8.  **Segment**: Segmento al que pertenece el cliente.\n",
        "9.  **Country**: País de residencia del cliente\n",
        "10. **City**: Ciudad de residencia del cliente.\n",
        "11. **State**: Estado de residencia del cliente.\n",
        "12. **Postal Code**:  Código postal de cada cliente.\n",
        "13. **Region**: Región a la que pertenece el cliente.\n",
        "14. **Product ID**: ID del producto.\n",
        "15. **Category**: Categoría del producto pedido.\n",
        "16. **Sub-Category**: Subcategoría del producto pedido.\n",
        "17. **Product Name**: Nombre del producto.\n",
        "18. **Sales**: Ventas del producto.\n",
        "19. **Quantity**: Cantidad del producto.\n",
        "20. **Discount**: Descuento proporcionado.\n",
        "21. **Profit**: Ganancia/pérdida generada."
      ]
    },
    {
      "cell_type": "markdown",
      "metadata": {
        "id": "eqiZ-asdK1Hc"
      },
      "source": [
        " - [ ] Funciones que retornen los valores asociados a los datos categoricos.\n",
        " - [ ] Producto mas vendido\n",
        " - [ ] ...\n"
      ]
    },
    {
      "cell_type": "markdown",
      "metadata": {
        "id": "pcGMNn5HnnsI"
      },
      "source": [
        "### 1.1. Carga del dataset"
      ]
    },
    {
      "cell_type": "code",
      "execution_count": 4,
      "metadata": {
        "id": "2LDqU7RDPESE"
      },
      "outputs": [],
      "source": [
        "url_data = \"https://github.com/tigarto/tarea-fundamentos/raw/main/data_market.csv\"\n",
        "df_market_original = load_dataset(data_set = url_data)"
      ]
    },
    {
      "cell_type": "markdown",
      "metadata": {
        "id": "yavtddejns7Q"
      },
      "source": [
        "### 1.2. Previsualizacion de los datos"
      ]
    },
    {
      "cell_type": "code",
      "execution_count": 5,
      "metadata": {
        "colab": {
          "base_uri": "https://localhost:8080/",
          "height": 300
        },
        "id": "bS09BgsEnsFy",
        "outputId": "a25bad18-eb5d-4d83-c102-bc8fe9c77819"
      },
      "outputs": [
        {
          "data": {
            "text/html": [
              "<div>\n",
              "<style scoped>\n",
              "    .dataframe tbody tr th:only-of-type {\n",
              "        vertical-align: middle;\n",
              "    }\n",
              "\n",
              "    .dataframe tbody tr th {\n",
              "        vertical-align: top;\n",
              "    }\n",
              "\n",
              "    .dataframe thead th {\n",
              "        text-align: right;\n",
              "    }\n",
              "</style>\n",
              "<table border=\"1\" class=\"dataframe\">\n",
              "  <thead>\n",
              "    <tr style=\"text-align: right;\">\n",
              "      <th></th>\n",
              "      <th>Row ID</th>\n",
              "      <th>Order ID</th>\n",
              "      <th>Order Date</th>\n",
              "      <th>Ship Date</th>\n",
              "      <th>Ship Mode</th>\n",
              "      <th>Customer ID</th>\n",
              "      <th>Customer Name</th>\n",
              "      <th>Segment</th>\n",
              "      <th>Country</th>\n",
              "      <th>City</th>\n",
              "      <th>...</th>\n",
              "      <th>Postal Code</th>\n",
              "      <th>Region</th>\n",
              "      <th>Product ID</th>\n",
              "      <th>Category</th>\n",
              "      <th>Sub-Category</th>\n",
              "      <th>Product Name</th>\n",
              "      <th>Sales</th>\n",
              "      <th>Quantity</th>\n",
              "      <th>Discount</th>\n",
              "      <th>Profit</th>\n",
              "    </tr>\n",
              "  </thead>\n",
              "  <tbody>\n",
              "    <tr>\n",
              "      <th>0</th>\n",
              "      <td>1</td>\n",
              "      <td>CA-2016-152156</td>\n",
              "      <td>11/08/2016</td>\n",
              "      <td>11/11/2016</td>\n",
              "      <td>Second Class</td>\n",
              "      <td>CG-12520</td>\n",
              "      <td>Claire Gute</td>\n",
              "      <td>Consumer</td>\n",
              "      <td>United States</td>\n",
              "      <td>Henderson</td>\n",
              "      <td>...</td>\n",
              "      <td>42420</td>\n",
              "      <td>South</td>\n",
              "      <td>FUR-BO-10001798</td>\n",
              "      <td>Furniture</td>\n",
              "      <td>Bookcases</td>\n",
              "      <td>Bush Somerset Collection Bookcase</td>\n",
              "      <td>261.96</td>\n",
              "      <td>2.0</td>\n",
              "      <td>0.0</td>\n",
              "      <td>419.136</td>\n",
              "    </tr>\n",
              "    <tr>\n",
              "      <th>1</th>\n",
              "      <td>2</td>\n",
              "      <td>CA-2016-152156</td>\n",
              "      <td>11/08/2016</td>\n",
              "      <td>11/11/2016</td>\n",
              "      <td>Second Class</td>\n",
              "      <td>CG-12520</td>\n",
              "      <td>Claire Gute</td>\n",
              "      <td>Consumer</td>\n",
              "      <td>United States</td>\n",
              "      <td>Henderson</td>\n",
              "      <td>...</td>\n",
              "      <td>42420</td>\n",
              "      <td>South</td>\n",
              "      <td>FUR-CH-10000454</td>\n",
              "      <td>Furniture</td>\n",
              "      <td>Chairs</td>\n",
              "      <td>Hon Deluxe Fabric Upholstered Stacking Chairs,...</td>\n",
              "      <td>731.94</td>\n",
              "      <td>3.0</td>\n",
              "      <td>0.0</td>\n",
              "      <td>219.582</td>\n",
              "    </tr>\n",
              "  </tbody>\n",
              "</table>\n",
              "<p>2 rows × 21 columns</p>\n",
              "</div>"
            ],
            "text/plain": [
              "   Row ID        Order ID  Order Date   Ship Date     Ship Mode Customer ID  \\\n",
              "0       1  CA-2016-152156  11/08/2016  11/11/2016  Second Class    CG-12520   \n",
              "1       2  CA-2016-152156  11/08/2016  11/11/2016  Second Class    CG-12520   \n",
              "\n",
              "  Customer Name   Segment        Country       City  ... Postal Code  Region  \\\n",
              "0   Claire Gute  Consumer  United States  Henderson  ...       42420   South   \n",
              "1   Claire Gute  Consumer  United States  Henderson  ...       42420   South   \n",
              "\n",
              "        Product ID   Category Sub-Category  \\\n",
              "0  FUR-BO-10001798  Furniture    Bookcases   \n",
              "1  FUR-CH-10000454  Furniture       Chairs   \n",
              "\n",
              "                                        Product Name   Sales Quantity  \\\n",
              "0                  Bush Somerset Collection Bookcase  261.96      2.0   \n",
              "1  Hon Deluxe Fabric Upholstered Stacking Chairs,...  731.94      3.0   \n",
              "\n",
              "   Discount   Profit  \n",
              "0       0.0  419.136  \n",
              "1       0.0  219.582  \n",
              "\n",
              "[2 rows x 21 columns]"
            ]
          },
          "execution_count": 5,
          "metadata": {},
          "output_type": "execute_result"
        }
      ],
      "source": [
        "df_market_original.head(2)"
      ]
    },
    {
      "cell_type": "markdown",
      "metadata": {
        "id": "cM1Jo74Pn-Zb"
      },
      "source": [
        "### 1.3. Información básica"
      ]
    },
    {
      "cell_type": "code",
      "execution_count": 9,
      "metadata": {
        "colab": {
          "base_uri": "https://localhost:8080/",
          "height": 1000
        },
        "id": "WRmbmLUf8jfF",
        "outputId": "cb9076c0-015b-4005-fa38-e97388ca0b81"
      },
      "outputs": [
        {
          "data": {
            "text/markdown": [
              "### ----------- Info dataframe -----------"
            ],
            "text/plain": [
              "<IPython.core.display.Markdown object>"
            ]
          },
          "metadata": {},
          "output_type": "display_data"
        },
        {
          "data": {
            "text/markdown": [
              "* **Filas**: 9994"
            ],
            "text/plain": [
              "<IPython.core.display.Markdown object>"
            ]
          },
          "metadata": {},
          "output_type": "display_data"
        },
        {
          "data": {
            "text/markdown": [
              "* **Columnas**: 21"
            ],
            "text/plain": [
              "<IPython.core.display.Markdown object>"
            ]
          },
          "metadata": {},
          "output_type": "display_data"
        },
        {
          "data": {
            "text/markdown": [
              "* **Columnas:** Row ID', 'Order ID', 'Order Date', 'Ship Date', 'Ship Mode', 'Customer ID', 'Customer Name', 'Segment', 'Country', 'City', 'State', 'Postal Code', 'Region', 'Product ID', 'Category', 'Sub-Category', 'Product Name', 'Sales', 'Quantity', 'Discount', 'Profit"
            ],
            "text/plain": [
              "<IPython.core.display.Markdown object>"
            ]
          },
          "metadata": {},
          "output_type": "display_data"
        },
        {
          "data": {
            "text/markdown": [
              "### ----------- Tipos de datos -----------"
            ],
            "text/plain": [
              "<IPython.core.display.Markdown object>"
            ]
          },
          "metadata": {},
          "output_type": "display_data"
        },
        {
          "data": {
            "text/plain": [
              "Row ID             int64\n",
              "Order ID          object\n",
              "Order Date        object\n",
              "Ship Date         object\n",
              "Ship Mode         object\n",
              "Customer ID       object\n",
              "Customer Name     object\n",
              "Segment           object\n",
              "Country           object\n",
              "City              object\n",
              "State             object\n",
              "Postal Code        int64\n",
              "Region            object\n",
              "Product ID        object\n",
              "Category          object\n",
              "Sub-Category      object\n",
              "Product Name      object\n",
              "Sales             object\n",
              "Quantity         float64\n",
              "Discount         float64\n",
              "Profit            object\n",
              "dtype: object"
            ]
          },
          "metadata": {},
          "output_type": "display_data"
        },
        {
          "data": {
            "text/markdown": [
              "### ----------- Conclusiones -----------\n",
              "- El tipo de dato **Postal Code** debe ser categorico. \n",
              "- La columna **Row ID** puede ser empleada como index del dataframe. \n",
              "- Es necesario cambiar los nombres de las columnas para que sean validos. \n",
              "- Hay 6 filas con datos faltantes, de deben analizar para ver si justifica borrarlos."
            ],
            "text/plain": [
              "<IPython.core.display.Markdown object>"
            ]
          },
          "metadata": {},
          "output_type": "display_data"
        }
      ],
      "source": [
        "# Informacion basica del dataframe cargado\n",
        "display(Markdown(\"### ----------- Info dataframe -----------\"))\n",
        "# Tamaño\n",
        "(f,c) = df_market_original.shape\n",
        "display(Markdown(f\"* **Filas**: {f}\"))\n",
        "display(Markdown(f\"* **Columnas**: {c}\"))\n",
        "\n",
        "# Columnas\n",
        "str_cols = column_items_to_str(df_market_original)\n",
        "markdown_str_cols = Markdown(f\"* **Columnas:** {str_cols}\")\n",
        "display(markdown_str_cols)\n",
        "\n",
        "# Tipos de datos\n",
        "display(Markdown(\"### ----------- Tipos de datos -----------\"))\n",
        "display(df_market_original.dtypes)\n",
        "\n",
        "# Datos faltantes\n",
        "num_faltantes = df_market_original.isnull().any(axis=1).sum()\n",
        "\n",
        "\n",
        "# Conclusiones iniciales\n",
        "markdown_str = \"### ----------- Conclusiones -----------\\n\" + \\\n",
        "               f\"- El tipo de dato **Postal Code** debe ser categorico. \\n\" + \\\n",
        "               f\"- La columna **Row ID** puede ser empleada como index del dataframe. \\n\" + \\\n",
        "               f\"- Es necesario cambiar los nombres de las columnas para que sean validos. \\n\" + \\\n",
        "               f\"- Hay {num_faltantes} filas con datos faltantes, de deben analizar para ver si justifica borrarlos.\"\n",
        "display(Markdown(markdown_str))"
      ]
    },
    {
      "cell_type": "code",
      "execution_count": 11,
      "metadata": {
        "colab": {
          "base_uri": "https://localhost:8080/",
          "height": 743
        },
        "id": "o8P9obK_ekYd",
        "outputId": "6630fb35-5ce8-40d3-eaef-be60887fe1a5"
      },
      "outputs": [
        {
          "data": {
            "text/plain": [
              "Row ID           0\n",
              "Order ID         0\n",
              "Order Date       0\n",
              "Ship Date        0\n",
              "Ship Mode        0\n",
              "Customer ID      0\n",
              "Customer Name    0\n",
              "Segment          0\n",
              "Country          0\n",
              "City             0\n",
              "State            0\n",
              "Postal Code      0\n",
              "Region           0\n",
              "Product ID       0\n",
              "Category         0\n",
              "Sub-Category     0\n",
              "Product Name     0\n",
              "Sales            6\n",
              "Quantity         6\n",
              "Discount         6\n",
              "Profit           6\n",
              "dtype: int64"
            ]
          },
          "execution_count": 11,
          "metadata": {},
          "output_type": "execute_result"
        }
      ],
      "source": [
        "# Datos nulos por columna\n",
        "df_market_original.isna().sum()"
      ]
    },
    {
      "cell_type": "code",
      "execution_count": 13,
      "metadata": {
        "colab": {
          "base_uri": "https://localhost:8080/",
          "height": 1000
        },
        "id": "JVaiBh7rbMuf",
        "outputId": "a8f8f51e-a093-4ae2-834d-d09798051526"
      },
      "outputs": [
        {
          "data": {
            "text/markdown": [
              "### ----------- Tipos de datos -----------"
            ],
            "text/plain": [
              "<IPython.core.display.Markdown object>"
            ]
          },
          "metadata": {},
          "output_type": "display_data"
        },
        {
          "data": {
            "text/plain": [
              "order_id          object\n",
              "order_date        object\n",
              "ship_date         object\n",
              "ship_mode         object\n",
              "customer_id       object\n",
              "customer_name     object\n",
              "segment           object\n",
              "country           object\n",
              "city              object\n",
              "state             object\n",
              "postal_code       object\n",
              "region            object\n",
              "product_id        object\n",
              "category          object\n",
              "sub_category      object\n",
              "product_name      object\n",
              "sales             object\n",
              "quantity         float64\n",
              "discount         float64\n",
              "profit            object\n",
              "dtype: object"
            ]
          },
          "metadata": {},
          "output_type": "display_data"
        },
        {
          "data": {
            "text/markdown": [
              "### ----------- Columnas con datos faltantes -----------"
            ],
            "text/plain": [
              "<IPython.core.display.Markdown object>"
            ]
          },
          "metadata": {},
          "output_type": "display_data"
        },
        {
          "data": {
            "text/html": [
              "<div>\n",
              "<style scoped>\n",
              "    .dataframe tbody tr th:only-of-type {\n",
              "        vertical-align: middle;\n",
              "    }\n",
              "\n",
              "    .dataframe tbody tr th {\n",
              "        vertical-align: top;\n",
              "    }\n",
              "\n",
              "    .dataframe thead th {\n",
              "        text-align: right;\n",
              "    }\n",
              "</style>\n",
              "<table border=\"1\" class=\"dataframe\">\n",
              "  <thead>\n",
              "    <tr style=\"text-align: right;\">\n",
              "      <th></th>\n",
              "      <th>order_id</th>\n",
              "      <th>order_date</th>\n",
              "      <th>ship_date</th>\n",
              "      <th>ship_mode</th>\n",
              "      <th>customer_id</th>\n",
              "      <th>customer_name</th>\n",
              "      <th>segment</th>\n",
              "      <th>country</th>\n",
              "      <th>city</th>\n",
              "      <th>state</th>\n",
              "      <th>postal_code</th>\n",
              "      <th>region</th>\n",
              "      <th>product_id</th>\n",
              "      <th>category</th>\n",
              "      <th>sub_category</th>\n",
              "      <th>product_name</th>\n",
              "      <th>sales</th>\n",
              "      <th>quantity</th>\n",
              "      <th>discount</th>\n",
              "      <th>profit</th>\n",
              "    </tr>\n",
              "    <tr>\n",
              "      <th>row_id</th>\n",
              "      <th></th>\n",
              "      <th></th>\n",
              "      <th></th>\n",
              "      <th></th>\n",
              "      <th></th>\n",
              "      <th></th>\n",
              "      <th></th>\n",
              "      <th></th>\n",
              "      <th></th>\n",
              "      <th></th>\n",
              "      <th></th>\n",
              "      <th></th>\n",
              "      <th></th>\n",
              "      <th></th>\n",
              "      <th></th>\n",
              "      <th></th>\n",
              "      <th></th>\n",
              "      <th></th>\n",
              "      <th></th>\n",
              "      <th></th>\n",
              "    </tr>\n",
              "  </thead>\n",
              "  <tbody>\n",
              "    <tr>\n",
              "      <th>182</th>\n",
              "      <td>CA-2014-166191</td>\n",
              "      <td>12/05/2014</td>\n",
              "      <td>12/09/2014</td>\n",
              "      <td>Second Class</td>\n",
              "      <td>DK-13150</td>\n",
              "      <td>David Kendrick</td>\n",
              "      <td>Corporate</td>\n",
              "      <td>United States</td>\n",
              "      <td>Decatur</td>\n",
              "      <td>Illinois</td>\n",
              "      <td>62521</td>\n",
              "      <td>Central</td>\n",
              "      <td>TEC-AC-10004659</td>\n",
              "      <td>Technology</td>\n",
              "      <td>Accessories</td>\n",
              "      <td>Imation Secure+ Hardware Encrypted USB 2.0 Fla...</td>\n",
              "      <td>NaN</td>\n",
              "      <td>NaN</td>\n",
              "      <td>NaN</td>\n",
              "      <td>NaN</td>\n",
              "    </tr>\n",
              "    <tr>\n",
              "      <th>431</th>\n",
              "      <td>US-2016-123750</td>\n",
              "      <td>4/15/2016</td>\n",
              "      <td>4/21/2016</td>\n",
              "      <td>Standard Class</td>\n",
              "      <td>RB-19795</td>\n",
              "      <td>Ross Baird</td>\n",
              "      <td>Home Office</td>\n",
              "      <td>United States</td>\n",
              "      <td>Gastonia</td>\n",
              "      <td>North Carolina</td>\n",
              "      <td>28052</td>\n",
              "      <td>South</td>\n",
              "      <td>TEC-AC-10004659</td>\n",
              "      <td>Technology</td>\n",
              "      <td>Accessories</td>\n",
              "      <td>Imation Secure+ Hardware Encrypted USB 2.0 Fla...</td>\n",
              "      <td>NaN</td>\n",
              "      <td>NaN</td>\n",
              "      <td>NaN</td>\n",
              "      <td>NaN</td>\n",
              "    </tr>\n",
              "    <tr>\n",
              "      <th>432</th>\n",
              "      <td>US-2016-123750</td>\n",
              "      <td>4/15/2016</td>\n",
              "      <td>4/21/2016</td>\n",
              "      <td>Standard Class</td>\n",
              "      <td>RB-19795</td>\n",
              "      <td>Ross Baird</td>\n",
              "      <td>Home Office</td>\n",
              "      <td>United States</td>\n",
              "      <td>Gastonia</td>\n",
              "      <td>North Carolina</td>\n",
              "      <td>28052</td>\n",
              "      <td>South</td>\n",
              "      <td>TEC-AC-10004659</td>\n",
              "      <td>Technology</td>\n",
              "      <td>Accessories</td>\n",
              "      <td>Imation Secure+ Hardware Encrypted USB 2.0 Fla...</td>\n",
              "      <td>NaN</td>\n",
              "      <td>NaN</td>\n",
              "      <td>NaN</td>\n",
              "      <td>NaN</td>\n",
              "    </tr>\n",
              "    <tr>\n",
              "      <th>1407</th>\n",
              "      <td>US-2014-118486</td>\n",
              "      <td>4/06/2014</td>\n",
              "      <td>4/08/2014</td>\n",
              "      <td>First Class</td>\n",
              "      <td>SD-20485</td>\n",
              "      <td>Shirley Daniels</td>\n",
              "      <td>Home Office</td>\n",
              "      <td>United States</td>\n",
              "      <td>Philadelphia</td>\n",
              "      <td>Pennsylvania</td>\n",
              "      <td>19143</td>\n",
              "      <td>East</td>\n",
              "      <td>TEC-AC-10004659</td>\n",
              "      <td>Technology</td>\n",
              "      <td>Accessories</td>\n",
              "      <td>Imation Secure+ Hardware Encrypted USB 2.0 Fla...</td>\n",
              "      <td>NaN</td>\n",
              "      <td>NaN</td>\n",
              "      <td>NaN</td>\n",
              "      <td>NaN</td>\n",
              "    </tr>\n",
              "    <tr>\n",
              "      <th>1970</th>\n",
              "      <td>CA-2017-117485</td>\n",
              "      <td>9/23/2017</td>\n",
              "      <td>9/29/2017</td>\n",
              "      <td>Standard Class</td>\n",
              "      <td>BD-11320</td>\n",
              "      <td>Bill Donatelli</td>\n",
              "      <td>Consumer</td>\n",
              "      <td>United States</td>\n",
              "      <td>Tulsa</td>\n",
              "      <td>Oklahoma</td>\n",
              "      <td>74133</td>\n",
              "      <td>Central</td>\n",
              "      <td>TEC-AC-10004659</td>\n",
              "      <td>Technology</td>\n",
              "      <td>Accessories</td>\n",
              "      <td>Imation Secure+ Hardware Encrypted USB 2.0 Fla...</td>\n",
              "      <td>NaN</td>\n",
              "      <td>NaN</td>\n",
              "      <td>NaN</td>\n",
              "      <td>NaN</td>\n",
              "    </tr>\n",
              "    <tr>\n",
              "      <th>1972</th>\n",
              "      <td>CA-2017-140242</td>\n",
              "      <td>5/06/2017</td>\n",
              "      <td>5/11/2017</td>\n",
              "      <td>Standard Class</td>\n",
              "      <td>ML-17755</td>\n",
              "      <td>Max Ludwig</td>\n",
              "      <td>Home Office</td>\n",
              "      <td>United States</td>\n",
              "      <td>Chicago</td>\n",
              "      <td>Illinois</td>\n",
              "      <td>60623</td>\n",
              "      <td>Central</td>\n",
              "      <td>TEC-AC-10004659</td>\n",
              "      <td>Technology</td>\n",
              "      <td>Accessories</td>\n",
              "      <td>Imation Secure+ Hardware Encrypted USB 2.0 Fla...</td>\n",
              "      <td>NaN</td>\n",
              "      <td>NaN</td>\n",
              "      <td>NaN</td>\n",
              "      <td>NaN</td>\n",
              "    </tr>\n",
              "  </tbody>\n",
              "</table>\n",
              "</div>"
            ],
            "text/plain": [
              "              order_id  order_date   ship_date       ship_mode customer_id  \\\n",
              "row_id                                                                       \n",
              "182     CA-2014-166191  12/05/2014  12/09/2014    Second Class    DK-13150   \n",
              "431     US-2016-123750   4/15/2016   4/21/2016  Standard Class    RB-19795   \n",
              "432     US-2016-123750   4/15/2016   4/21/2016  Standard Class    RB-19795   \n",
              "1407    US-2014-118486   4/06/2014   4/08/2014     First Class    SD-20485   \n",
              "1970    CA-2017-117485   9/23/2017   9/29/2017  Standard Class    BD-11320   \n",
              "1972    CA-2017-140242   5/06/2017   5/11/2017  Standard Class    ML-17755   \n",
              "\n",
              "          customer_name      segment        country          city  \\\n",
              "row_id                                                              \n",
              "182      David Kendrick    Corporate  United States       Decatur   \n",
              "431          Ross Baird  Home Office  United States      Gastonia   \n",
              "432          Ross Baird  Home Office  United States      Gastonia   \n",
              "1407    Shirley Daniels  Home Office  United States  Philadelphia   \n",
              "1970     Bill Donatelli     Consumer  United States         Tulsa   \n",
              "1972         Max Ludwig  Home Office  United States       Chicago   \n",
              "\n",
              "                 state postal_code   region       product_id    category  \\\n",
              "row_id                                                                     \n",
              "182           Illinois       62521  Central  TEC-AC-10004659  Technology   \n",
              "431     North Carolina       28052    South  TEC-AC-10004659  Technology   \n",
              "432     North Carolina       28052    South  TEC-AC-10004659  Technology   \n",
              "1407      Pennsylvania       19143     East  TEC-AC-10004659  Technology   \n",
              "1970          Oklahoma       74133  Central  TEC-AC-10004659  Technology   \n",
              "1972          Illinois       60623  Central  TEC-AC-10004659  Technology   \n",
              "\n",
              "       sub_category                                       product_name sales  \\\n",
              "row_id                                                                         \n",
              "182     Accessories  Imation Secure+ Hardware Encrypted USB 2.0 Fla...   NaN   \n",
              "431     Accessories  Imation Secure+ Hardware Encrypted USB 2.0 Fla...   NaN   \n",
              "432     Accessories  Imation Secure+ Hardware Encrypted USB 2.0 Fla...   NaN   \n",
              "1407    Accessories  Imation Secure+ Hardware Encrypted USB 2.0 Fla...   NaN   \n",
              "1970    Accessories  Imation Secure+ Hardware Encrypted USB 2.0 Fla...   NaN   \n",
              "1972    Accessories  Imation Secure+ Hardware Encrypted USB 2.0 Fla...   NaN   \n",
              "\n",
              "        quantity  discount profit  \n",
              "row_id                             \n",
              "182          NaN       NaN    NaN  \n",
              "431          NaN       NaN    NaN  \n",
              "432          NaN       NaN    NaN  \n",
              "1407         NaN       NaN    NaN  \n",
              "1970         NaN       NaN    NaN  \n",
              "1972         NaN       NaN    NaN  "
            ]
          },
          "metadata": {},
          "output_type": "display_data"
        },
        {
          "data": {
            "text/markdown": [
              "\n",
              " * **Conclusión**: Si justifica eliminar las columnas pues son muy pocos datos del total"
            ],
            "text/plain": [
              "<IPython.core.display.Markdown object>"
            ]
          },
          "metadata": {},
          "output_type": "display_data"
        },
        {
          "data": {
            "text/markdown": [
              "### ----------- Actualizacion de la filas -----------"
            ],
            "text/plain": [
              "<IPython.core.display.Markdown object>"
            ]
          },
          "metadata": {},
          "output_type": "display_data"
        },
        {
          "data": {
            "text/markdown": [
              "\n",
              " * **Numero de columnas con datos vacios**: 0"
            ],
            "text/plain": [
              "<IPython.core.display.Markdown object>"
            ]
          },
          "metadata": {},
          "output_type": "display_data"
        },
        {
          "data": {
            "text/markdown": [
              "\n",
              " * **Filas**: 9988"
            ],
            "text/plain": [
              "<IPython.core.display.Markdown object>"
            ]
          },
          "metadata": {},
          "output_type": "display_data"
        },
        {
          "data": {
            "text/markdown": [
              "\n",
              " * **Columnas**: 20"
            ],
            "text/plain": [
              "<IPython.core.display.Markdown object>"
            ]
          },
          "metadata": {},
          "output_type": "display_data"
        }
      ],
      "source": [
        "\"\"\"\n",
        "Dataframe modificado de acuerdo a las conclusiones anteriormente arrojadas\n",
        "\"\"\"\n",
        "# Renombrado de columnas\n",
        "df_market = df_market_original.copy()\n",
        "rename_df_columns(df_market)\n",
        "\n",
        "# Fijando el nuevo index\n",
        "df_market.set_index('row_id',inplace= True)\n",
        "\n",
        "# Cambio del tipo de dato asociado al codigo postal\n",
        "df_market[['postal_code']] = df_market[['postal_code']].astype('object')\n",
        "\n",
        "display(Markdown(\"### ----------- Tipos de datos -----------\"))\n",
        "display(df_market.dtypes)\n",
        "\n",
        "# Revision de las columnas con datos faltantes\n",
        "display(Markdown(\"### ----------- Columnas con datos faltantes -----------\"))\n",
        "display(df_market[df_market.quantity.isna()])\n",
        "display(Markdown(\"\\n * **Conclusión**: Si justifica eliminar las columnas pues son muy pocos datos del total\"))\n",
        "df_market.dropna(axis=0, inplace=True)\n",
        "\n",
        "# Informacion despues de hacer los cambios\n",
        "display(Markdown(\"### ----------- Actualizacion de la filas -----------\"))\n",
        "display(Markdown(f\"\\n * **Numero de columnas con datos vacios**: {df_market.isnull().any(axis=1).sum()}\"))\n",
        "display(Markdown(f\"\\n * **Filas**: {df_market.shape[0]}\"))\n",
        "display(Markdown(f\"\\n * **Columnas**: {df_market.shape[1]}\"))"
      ]
    },
    {
      "cell_type": "code",
      "execution_count": 14,
      "metadata": {
        "colab": {
          "base_uri": "https://localhost:8080/",
          "height": 524
        },
        "id": "JU0VU6kehSnC",
        "outputId": "0af762f3-b6ab-4964-e217-3a01d08a8e7e"
      },
      "outputs": [
        {
          "data": {
            "text/markdown": [
              "### ----------- Dataframe actualizado -----------"
            ],
            "text/plain": [
              "<IPython.core.display.Markdown object>"
            ]
          },
          "metadata": {},
          "output_type": "display_data"
        },
        {
          "data": {
            "text/html": [
              "<div>\n",
              "<style scoped>\n",
              "    .dataframe tbody tr th:only-of-type {\n",
              "        vertical-align: middle;\n",
              "    }\n",
              "\n",
              "    .dataframe tbody tr th {\n",
              "        vertical-align: top;\n",
              "    }\n",
              "\n",
              "    .dataframe thead th {\n",
              "        text-align: right;\n",
              "    }\n",
              "</style>\n",
              "<table border=\"1\" class=\"dataframe\">\n",
              "  <thead>\n",
              "    <tr style=\"text-align: right;\">\n",
              "      <th></th>\n",
              "      <th>order_id</th>\n",
              "      <th>order_date</th>\n",
              "      <th>ship_date</th>\n",
              "      <th>ship_mode</th>\n",
              "      <th>customer_id</th>\n",
              "      <th>customer_name</th>\n",
              "      <th>segment</th>\n",
              "      <th>country</th>\n",
              "      <th>city</th>\n",
              "      <th>state</th>\n",
              "      <th>postal_code</th>\n",
              "      <th>region</th>\n",
              "      <th>product_id</th>\n",
              "      <th>category</th>\n",
              "      <th>sub_category</th>\n",
              "      <th>product_name</th>\n",
              "      <th>sales</th>\n",
              "      <th>quantity</th>\n",
              "      <th>discount</th>\n",
              "      <th>profit</th>\n",
              "    </tr>\n",
              "    <tr>\n",
              "      <th>row_id</th>\n",
              "      <th></th>\n",
              "      <th></th>\n",
              "      <th></th>\n",
              "      <th></th>\n",
              "      <th></th>\n",
              "      <th></th>\n",
              "      <th></th>\n",
              "      <th></th>\n",
              "      <th></th>\n",
              "      <th></th>\n",
              "      <th></th>\n",
              "      <th></th>\n",
              "      <th></th>\n",
              "      <th></th>\n",
              "      <th></th>\n",
              "      <th></th>\n",
              "      <th></th>\n",
              "      <th></th>\n",
              "      <th></th>\n",
              "      <th></th>\n",
              "    </tr>\n",
              "  </thead>\n",
              "  <tbody>\n",
              "    <tr>\n",
              "      <th>1</th>\n",
              "      <td>CA-2016-152156</td>\n",
              "      <td>11/08/2016</td>\n",
              "      <td>11/11/2016</td>\n",
              "      <td>Second Class</td>\n",
              "      <td>CG-12520</td>\n",
              "      <td>Claire Gute</td>\n",
              "      <td>Consumer</td>\n",
              "      <td>United States</td>\n",
              "      <td>Henderson</td>\n",
              "      <td>Kentucky</td>\n",
              "      <td>42420</td>\n",
              "      <td>South</td>\n",
              "      <td>FUR-BO-10001798</td>\n",
              "      <td>Furniture</td>\n",
              "      <td>Bookcases</td>\n",
              "      <td>Bush Somerset Collection Bookcase</td>\n",
              "      <td>261.96</td>\n",
              "      <td>2.0</td>\n",
              "      <td>0.0</td>\n",
              "      <td>419.136</td>\n",
              "    </tr>\n",
              "    <tr>\n",
              "      <th>2</th>\n",
              "      <td>CA-2016-152156</td>\n",
              "      <td>11/08/2016</td>\n",
              "      <td>11/11/2016</td>\n",
              "      <td>Second Class</td>\n",
              "      <td>CG-12520</td>\n",
              "      <td>Claire Gute</td>\n",
              "      <td>Consumer</td>\n",
              "      <td>United States</td>\n",
              "      <td>Henderson</td>\n",
              "      <td>Kentucky</td>\n",
              "      <td>42420</td>\n",
              "      <td>South</td>\n",
              "      <td>FUR-CH-10000454</td>\n",
              "      <td>Furniture</td>\n",
              "      <td>Chairs</td>\n",
              "      <td>Hon Deluxe Fabric Upholstered Stacking Chairs,...</td>\n",
              "      <td>731.94</td>\n",
              "      <td>3.0</td>\n",
              "      <td>0.0</td>\n",
              "      <td>219.582</td>\n",
              "    </tr>\n",
              "    <tr>\n",
              "      <th>3</th>\n",
              "      <td>CA-2016-138688</td>\n",
              "      <td>6/12/2016</td>\n",
              "      <td>6/16/2016</td>\n",
              "      <td>Second Class</td>\n",
              "      <td>DV-13045</td>\n",
              "      <td>Darrin Van Huff</td>\n",
              "      <td>Corporate</td>\n",
              "      <td>United States</td>\n",
              "      <td>Los Angeles</td>\n",
              "      <td>California</td>\n",
              "      <td>90036</td>\n",
              "      <td>West</td>\n",
              "      <td>OFF-LA-10000240</td>\n",
              "      <td>Office Supplies</td>\n",
              "      <td>Labels</td>\n",
              "      <td>Self-Adhesive Address Labels for Typewriters b...</td>\n",
              "      <td>14.62</td>\n",
              "      <td>2.0</td>\n",
              "      <td>0.0</td>\n",
              "      <td>68.714</td>\n",
              "    </tr>\n",
              "  </tbody>\n",
              "</table>\n",
              "</div>"
            ],
            "text/plain": [
              "              order_id  order_date   ship_date     ship_mode customer_id  \\\n",
              "row_id                                                                     \n",
              "1       CA-2016-152156  11/08/2016  11/11/2016  Second Class    CG-12520   \n",
              "2       CA-2016-152156  11/08/2016  11/11/2016  Second Class    CG-12520   \n",
              "3       CA-2016-138688   6/12/2016   6/16/2016  Second Class    DV-13045   \n",
              "\n",
              "          customer_name    segment        country         city       state  \\\n",
              "row_id                                                                       \n",
              "1           Claire Gute   Consumer  United States    Henderson    Kentucky   \n",
              "2           Claire Gute   Consumer  United States    Henderson    Kentucky   \n",
              "3       Darrin Van Huff  Corporate  United States  Los Angeles  California   \n",
              "\n",
              "       postal_code region       product_id         category sub_category  \\\n",
              "row_id                                                                     \n",
              "1            42420  South  FUR-BO-10001798        Furniture    Bookcases   \n",
              "2            42420  South  FUR-CH-10000454        Furniture       Chairs   \n",
              "3            90036   West  OFF-LA-10000240  Office Supplies       Labels   \n",
              "\n",
              "                                             product_name   sales  quantity  \\\n",
              "row_id                                                                        \n",
              "1                       Bush Somerset Collection Bookcase  261.96       2.0   \n",
              "2       Hon Deluxe Fabric Upholstered Stacking Chairs,...  731.94       3.0   \n",
              "3       Self-Adhesive Address Labels for Typewriters b...   14.62       2.0   \n",
              "\n",
              "        discount   profit  \n",
              "row_id                     \n",
              "1            0.0  419.136  \n",
              "2            0.0  219.582  \n",
              "3            0.0   68.714  "
            ]
          },
          "metadata": {},
          "output_type": "display_data"
        },
        {
          "data": {
            "text/markdown": [
              "> <br>**Conclusion**: <br>Podemos decir que el dataframe ya esta listo                   para ser actualizado para sacar informacion relevante. El dataframe que                  contendra esta informacion se llamara `df_market`"
            ],
            "text/plain": [
              "<IPython.core.display.Markdown object>"
            ]
          },
          "metadata": {},
          "output_type": "display_data"
        }
      ],
      "source": [
        "# Despliegue del Dataframe actualizado\n",
        "display(Markdown(\"### ----------- Dataframe actualizado -----------\"))\n",
        "display(df_market.head(3))\n",
        "display(Markdown(\"> <br>**Conclusion**: <br>Podemos decir que el dataframe ya esta listo \\\n",
        "                  para ser actualizado para sacar informacion relevante. El dataframe que\\\n",
        "                  contendra esta informacion se llamara `df_market`\"))\n"
      ]
    },
    {
      "cell_type": "code",
      "execution_count": 15,
      "metadata": {},
      "outputs": [
        {
          "data": {
            "text/html": [
              "<div>\n",
              "<style scoped>\n",
              "    .dataframe tbody tr th:only-of-type {\n",
              "        vertical-align: middle;\n",
              "    }\n",
              "\n",
              "    .dataframe tbody tr th {\n",
              "        vertical-align: top;\n",
              "    }\n",
              "\n",
              "    .dataframe thead th {\n",
              "        text-align: right;\n",
              "    }\n",
              "</style>\n",
              "<table border=\"1\" class=\"dataframe\">\n",
              "  <thead>\n",
              "    <tr style=\"text-align: right;\">\n",
              "      <th></th>\n",
              "      <th>order_id</th>\n",
              "      <th>order_date</th>\n",
              "      <th>ship_date</th>\n",
              "      <th>ship_mode</th>\n",
              "      <th>customer_id</th>\n",
              "      <th>customer_name</th>\n",
              "      <th>segment</th>\n",
              "      <th>country</th>\n",
              "      <th>city</th>\n",
              "      <th>state</th>\n",
              "      <th>postal_code</th>\n",
              "      <th>region</th>\n",
              "      <th>product_id</th>\n",
              "      <th>category</th>\n",
              "      <th>sub_category</th>\n",
              "      <th>product_name</th>\n",
              "      <th>sales</th>\n",
              "      <th>quantity</th>\n",
              "      <th>discount</th>\n",
              "      <th>profit</th>\n",
              "    </tr>\n",
              "    <tr>\n",
              "      <th>row_id</th>\n",
              "      <th></th>\n",
              "      <th></th>\n",
              "      <th></th>\n",
              "      <th></th>\n",
              "      <th></th>\n",
              "      <th></th>\n",
              "      <th></th>\n",
              "      <th></th>\n",
              "      <th></th>\n",
              "      <th></th>\n",
              "      <th></th>\n",
              "      <th></th>\n",
              "      <th></th>\n",
              "      <th></th>\n",
              "      <th></th>\n",
              "      <th></th>\n",
              "      <th></th>\n",
              "      <th></th>\n",
              "      <th></th>\n",
              "      <th></th>\n",
              "    </tr>\n",
              "  </thead>\n",
              "  <tbody>\n",
              "    <tr>\n",
              "      <th>1</th>\n",
              "      <td>CA-2016-152156</td>\n",
              "      <td>11/08/2016</td>\n",
              "      <td>11/11/2016</td>\n",
              "      <td>Second Class</td>\n",
              "      <td>CG-12520</td>\n",
              "      <td>Claire Gute</td>\n",
              "      <td>Consumer</td>\n",
              "      <td>United States</td>\n",
              "      <td>Henderson</td>\n",
              "      <td>Kentucky</td>\n",
              "      <td>42420</td>\n",
              "      <td>South</td>\n",
              "      <td>FUR-BO-10001798</td>\n",
              "      <td>Furniture</td>\n",
              "      <td>Bookcases</td>\n",
              "      <td>Bush Somerset Collection Bookcase</td>\n",
              "      <td>261.96</td>\n",
              "      <td>2.0</td>\n",
              "      <td>0.0</td>\n",
              "      <td>419.136</td>\n",
              "    </tr>\n",
              "    <tr>\n",
              "      <th>2</th>\n",
              "      <td>CA-2016-152156</td>\n",
              "      <td>11/08/2016</td>\n",
              "      <td>11/11/2016</td>\n",
              "      <td>Second Class</td>\n",
              "      <td>CG-12520</td>\n",
              "      <td>Claire Gute</td>\n",
              "      <td>Consumer</td>\n",
              "      <td>United States</td>\n",
              "      <td>Henderson</td>\n",
              "      <td>Kentucky</td>\n",
              "      <td>42420</td>\n",
              "      <td>South</td>\n",
              "      <td>FUR-CH-10000454</td>\n",
              "      <td>Furniture</td>\n",
              "      <td>Chairs</td>\n",
              "      <td>Hon Deluxe Fabric Upholstered Stacking Chairs,...</td>\n",
              "      <td>731.94</td>\n",
              "      <td>3.0</td>\n",
              "      <td>0.0</td>\n",
              "      <td>219.582</td>\n",
              "    </tr>\n",
              "  </tbody>\n",
              "</table>\n",
              "</div>"
            ],
            "text/plain": [
              "              order_id  order_date   ship_date     ship_mode customer_id  \\\n",
              "row_id                                                                     \n",
              "1       CA-2016-152156  11/08/2016  11/11/2016  Second Class    CG-12520   \n",
              "2       CA-2016-152156  11/08/2016  11/11/2016  Second Class    CG-12520   \n",
              "\n",
              "       customer_name   segment        country       city     state  \\\n",
              "row_id                                                               \n",
              "1        Claire Gute  Consumer  United States  Henderson  Kentucky   \n",
              "2        Claire Gute  Consumer  United States  Henderson  Kentucky   \n",
              "\n",
              "        postal_code region       product_id   category sub_category  \\\n",
              "row_id                                                                \n",
              "1             42420  South  FUR-BO-10001798  Furniture    Bookcases   \n",
              "2             42420  South  FUR-CH-10000454  Furniture       Chairs   \n",
              "\n",
              "                                             product_name   sales  quantity  \\\n",
              "row_id                                                                        \n",
              "1                       Bush Somerset Collection Bookcase  261.96       2.0   \n",
              "2       Hon Deluxe Fabric Upholstered Stacking Chairs,...  731.94       3.0   \n",
              "\n",
              "        discount   profit  \n",
              "row_id                     \n",
              "1            0.0  419.136  \n",
              "2            0.0  219.582  "
            ]
          },
          "execution_count": 15,
          "metadata": {},
          "output_type": "execute_result"
        }
      ],
      "source": [
        "# Guardando el archivo para actualizar\n",
        "url_data_to_analize = \"https://github.com/tigarto/tarea-fundamentos/raw/main/data_market2.csv\"\n",
        "df_market = pd.read_csv(url_data_to_analize)\n",
        "df_market.set_index('row_id',inplace= True)\n",
        "df_market.head(2)"
      ]
    },
    {
      "cell_type": "markdown",
      "metadata": {
        "id": "T1dEX6IVlHSd"
      },
      "source": [
        "## 2. Analisis de los datos"
      ]
    },
    {
      "cell_type": "code",
      "execution_count": 65,
      "metadata": {
        "colab": {
          "base_uri": "https://localhost:8080/",
          "height": 285
        },
        "id": "WL86BgcvtQ1d",
        "outputId": "0a40b9b4-6ddb-4de0-8fa3-9ec94408f1b7"
      },
      "outputs": [
        {
          "data": {
            "text/html": [
              "<div>\n",
              "<style scoped>\n",
              "    .dataframe tbody tr th:only-of-type {\n",
              "        vertical-align: middle;\n",
              "    }\n",
              "\n",
              "    .dataframe tbody tr th {\n",
              "        vertical-align: top;\n",
              "    }\n",
              "\n",
              "    .dataframe thead th {\n",
              "        text-align: right;\n",
              "    }\n",
              "</style>\n",
              "<table border=\"1\" class=\"dataframe\">\n",
              "  <thead>\n",
              "    <tr style=\"text-align: right;\">\n",
              "      <th></th>\n",
              "      <th>order_id</th>\n",
              "      <th>order_date</th>\n",
              "      <th>ship_date</th>\n",
              "      <th>ship_mode</th>\n",
              "      <th>customer_id</th>\n",
              "      <th>customer_name</th>\n",
              "      <th>segment</th>\n",
              "      <th>country</th>\n",
              "      <th>city</th>\n",
              "      <th>state</th>\n",
              "      <th>postal_code</th>\n",
              "      <th>region</th>\n",
              "      <th>product_id</th>\n",
              "      <th>category</th>\n",
              "      <th>sub_category</th>\n",
              "      <th>product_name</th>\n",
              "      <th>sales</th>\n",
              "      <th>quantity</th>\n",
              "      <th>discount</th>\n",
              "      <th>profit</th>\n",
              "    </tr>\n",
              "    <tr>\n",
              "      <th>row_id</th>\n",
              "      <th></th>\n",
              "      <th></th>\n",
              "      <th></th>\n",
              "      <th></th>\n",
              "      <th></th>\n",
              "      <th></th>\n",
              "      <th></th>\n",
              "      <th></th>\n",
              "      <th></th>\n",
              "      <th></th>\n",
              "      <th></th>\n",
              "      <th></th>\n",
              "      <th></th>\n",
              "      <th></th>\n",
              "      <th></th>\n",
              "      <th></th>\n",
              "      <th></th>\n",
              "      <th></th>\n",
              "      <th></th>\n",
              "      <th></th>\n",
              "    </tr>\n",
              "  </thead>\n",
              "  <tbody>\n",
              "    <tr>\n",
              "      <th>1</th>\n",
              "      <td>CA-2016-152156</td>\n",
              "      <td>11/08/2016</td>\n",
              "      <td>11/11/2016</td>\n",
              "      <td>Second Class</td>\n",
              "      <td>CG-12520</td>\n",
              "      <td>Claire Gute</td>\n",
              "      <td>Consumer</td>\n",
              "      <td>United States</td>\n",
              "      <td>Henderson</td>\n",
              "      <td>Kentucky</td>\n",
              "      <td>42420</td>\n",
              "      <td>South</td>\n",
              "      <td>FUR-BO-10001798</td>\n",
              "      <td>Furniture</td>\n",
              "      <td>Bookcases</td>\n",
              "      <td>Bush Somerset Collection Bookcase</td>\n",
              "      <td>261.96</td>\n",
              "      <td>2.0</td>\n",
              "      <td>0.0</td>\n",
              "      <td>419.136</td>\n",
              "    </tr>\n",
              "    <tr>\n",
              "      <th>2</th>\n",
              "      <td>CA-2016-152156</td>\n",
              "      <td>11/08/2016</td>\n",
              "      <td>11/11/2016</td>\n",
              "      <td>Second Class</td>\n",
              "      <td>CG-12520</td>\n",
              "      <td>Claire Gute</td>\n",
              "      <td>Consumer</td>\n",
              "      <td>United States</td>\n",
              "      <td>Henderson</td>\n",
              "      <td>Kentucky</td>\n",
              "      <td>42420</td>\n",
              "      <td>South</td>\n",
              "      <td>FUR-CH-10000454</td>\n",
              "      <td>Furniture</td>\n",
              "      <td>Chairs</td>\n",
              "      <td>Hon Deluxe Fabric Upholstered Stacking Chairs,...</td>\n",
              "      <td>731.94</td>\n",
              "      <td>3.0</td>\n",
              "      <td>0.0</td>\n",
              "      <td>219.582</td>\n",
              "    </tr>\n",
              "  </tbody>\n",
              "</table>\n",
              "</div>"
            ],
            "text/plain": [
              "              order_id  order_date   ship_date     ship_mode customer_id  \\\n",
              "row_id                                                                     \n",
              "1       CA-2016-152156  11/08/2016  11/11/2016  Second Class    CG-12520   \n",
              "2       CA-2016-152156  11/08/2016  11/11/2016  Second Class    CG-12520   \n",
              "\n",
              "       customer_name   segment        country       city     state  \\\n",
              "row_id                                                               \n",
              "1        Claire Gute  Consumer  United States  Henderson  Kentucky   \n",
              "2        Claire Gute  Consumer  United States  Henderson  Kentucky   \n",
              "\n",
              "       postal_code region       product_id   category sub_category  \\\n",
              "row_id                                                               \n",
              "1            42420  South  FUR-BO-10001798  Furniture    Bookcases   \n",
              "2            42420  South  FUR-CH-10000454  Furniture       Chairs   \n",
              "\n",
              "                                             product_name   sales  quantity  \\\n",
              "row_id                                                                        \n",
              "1                       Bush Somerset Collection Bookcase  261.96       2.0   \n",
              "2       Hon Deluxe Fabric Upholstered Stacking Chairs,...  731.94       3.0   \n",
              "\n",
              "        discount   profit  \n",
              "row_id                     \n",
              "1            0.0  419.136  \n",
              "2            0.0  219.582  "
            ]
          },
          "execution_count": 65,
          "metadata": {},
          "output_type": "execute_result"
        }
      ],
      "source": [
        "\n",
        "df_market = pd.read_csv('data_market2.csv')\n",
        "df_market[['postal_code']] = df_market[['postal_code']].astype('object')\n",
        "df_market.set_index('row_id',inplace= True)\n",
        "df_market.head(2)"
      ]
    },
    {
      "cell_type": "markdown",
      "metadata": {
        "id": "wx8eqPzv0zJ-"
      },
      "source": [
        "### Tareas\n",
        "\n",
        "-  [x] Mostrar una tabla con ....\n",
        "-  [ ] Elemento de lista\n",
        "\n"
      ]
    },
    {
      "cell_type": "code",
      "execution_count": 67,
      "metadata": {
        "id": "TjyxP4zenf3y"
      },
      "outputs": [
        {
          "data": {
            "text/plain": [
              "[1334,\n",
              " ['11/11/2016',\n",
              "  '6/16/2016',\n",
              "  '10/18/2015',\n",
              "  '6/14/2014',\n",
              "  '4/20/2017',\n",
              "  '12/10/2016',\n",
              "  '11/26/2015',\n",
              "  '11/18/2014',\n",
              "  '5/15/2014',\n",
              "  '9/01/2014',\n",
              "  '12/13/2016',\n",
              "  '7/18/2017',\n",
              "  '9/30/2015',\n",
              "  '1/20/2016',\n",
              "  '9/21/2015',\n",
              "  '10/23/2017',\n",
              "  '12/31/2015',\n",
              "  '9/15/2017',\n",
              "  '7/22/2016',\n",
              "  '9/23/2017',\n",
              "  '3/13/2016',\n",
              "  '10/25/2014',\n",
              "  '6/25/2016',\n",
              "  '4/22/2015',\n",
              "  '12/17/2016',\n",
              "  '6/18/2016',\n",
              "  '11/30/2015',\n",
              "  '5/05/2015',\n",
              "  '12/10/2014',\n",
              "  '6/06/2016',\n",
              "  '9/23/2016',\n",
              "  '9/17/2017',\n",
              "  '5/02/2015',\n",
              "  '12/11/2017',\n",
              "  '12/01/2014',\n",
              "  '6/15/2016',\n",
              "  '10/16/2014',\n",
              "  '9/08/2015',\n",
              "  '11/16/2017',\n",
              "  '5/30/2017',\n",
              "  '11/02/2017',\n",
              "  '4/10/2016',\n",
              "  '9/22/2016',\n",
              "  '2/05/2015',\n",
              "  '11/12/2017',\n",
              "  '11/11/2017',\n",
              "  '6/20/2017',\n",
              "  '9/11/2016',\n",
              "  '9/02/2016',\n",
              "  '12/04/2016',\n",
              "  '11/17/2015',\n",
              "  '11/28/2017',\n",
              "  '10/20/2015',\n",
              "  '12/30/2017',\n",
              "  '11/10/2016',\n",
              "  '8/27/2014',\n",
              "  '3/06/2015',\n",
              "  '4/10/2015',\n",
              "  '12/28/2014',\n",
              "  '9/25/2014',\n",
              "  '2/05/2017',\n",
              "  '10/19/2016',\n",
              "  '9/07/2016',\n",
              "  '12/27/2017',\n",
              "  '9/12/2015',\n",
              "  '10/28/2014',\n",
              "  '12/09/2016',\n",
              "  '3/16/2016',\n",
              "  '6/02/2015',\n",
              "  '6/03/2015',\n",
              "  '3/06/2014',\n",
              "  '11/24/2016',\n",
              "  '5/12/2016',\n",
              "  '11/20/2016',\n",
              "  '9/12/2014',\n",
              "  '8/09/2014',\n",
              "  '9/19/2014',\n",
              "  '4/25/2017',\n",
              "  '11/23/2015',\n",
              "  '12/19/2015',\n",
              "  '12/09/2014',\n",
              "  '11/24/2014',\n",
              "  '12/02/2016',\n",
              "  '8/30/2014',\n",
              "  '10/14/2015',\n",
              "  '11/06/2015',\n",
              "  '3/25/2014',\n",
              "  '11/13/2017',\n",
              "  '7/13/2017',\n",
              "  '6/29/2017',\n",
              "  '8/05/2014',\n",
              "  '12/21/2017',\n",
              "  '6/07/2017',\n",
              "  '12/14/2017',\n",
              "  '12/07/2017',\n",
              "  '2/13/2015',\n",
              "  '1/09/2015',\n",
              "  '11/01/2016',\n",
              "  '12/27/2015',\n",
              "  '8/16/2015',\n",
              "  '3/04/2015',\n",
              "  '9/17/2014',\n",
              "  '4/12/2017',\n",
              "  '6/09/2016',\n",
              "  '6/06/2014',\n",
              "  '12/15/2016',\n",
              "  '9/17/2016',\n",
              "  '12/04/2015',\n",
              "  '12/03/2017',\n",
              "  '6/12/2017',\n",
              "  '9/21/2014',\n",
              "  '6/13/2016',\n",
              "  '11/15/2015',\n",
              "  '1/28/2016',\n",
              "  '12/13/2017',\n",
              "  '1/02/2018',\n",
              "  '7/31/2015',\n",
              "  '10/17/2017',\n",
              "  '9/28/2015',\n",
              "  '10/02/2015',\n",
              "  '12/20/2016',\n",
              "  '11/03/2016',\n",
              "  '11/23/2017',\n",
              "  '5/09/2015',\n",
              "  '1/04/2015',\n",
              "  '4/17/2017',\n",
              "  '9/14/2016',\n",
              "  '10/03/2014',\n",
              "  '8/16/2014',\n",
              "  '12/30/2014',\n",
              "  '11/09/2014',\n",
              "  '9/24/2014',\n",
              "  '4/27/2016',\n",
              "  '11/05/2017',\n",
              "  '9/01/2016',\n",
              "  '4/29/2016',\n",
              "  '9/04/2015',\n",
              "  '7/17/2014',\n",
              "  '6/26/2015',\n",
              "  '4/17/2014',\n",
              "  '12/24/2015',\n",
              "  '6/19/2017',\n",
              "  '7/12/2017',\n",
              "  '9/03/2016',\n",
              "  '4/13/2016',\n",
              "  '4/28/2016',\n",
              "  '3/11/2017',\n",
              "  '10/01/2017',\n",
              "  '9/29/2014',\n",
              "  '10/21/2016',\n",
              "  '6/04/2017',\n",
              "  '7/27/2014',\n",
              "  '10/01/2016',\n",
              "  '9/01/2017',\n",
              "  '10/29/2016',\n",
              "  '6/29/2015',\n",
              "  '12/02/2015',\n",
              "  '12/07/2015',\n",
              "  '11/26/2014',\n",
              "  '12/15/2017',\n",
              "  '9/23/2014',\n",
              "  '6/10/2014',\n",
              "  '7/05/2017',\n",
              "  '10/19/2017',\n",
              "  '11/04/2015',\n",
              "  '9/10/2016',\n",
              "  '12/26/2014',\n",
              "  '4/20/2014',\n",
              "  '12/29/2017',\n",
              "  '12/12/2017',\n",
              "  '11/07/2017',\n",
              "  '6/28/2017',\n",
              "  '4/18/2016',\n",
              "  '11/10/2017',\n",
              "  '3/09/2017',\n",
              "  '6/25/2014',\n",
              "  '8/23/2017',\n",
              "  '11/26/2017',\n",
              "  '9/13/2014',\n",
              "  '10/08/2017',\n",
              "  '4/21/2016',\n",
              "  '6/07/2016',\n",
              "  '12/25/2014',\n",
              "  '6/14/2016',\n",
              "  '9/19/2017',\n",
              "  '1/23/2017',\n",
              "  '3/25/2017',\n",
              "  '4/03/2016',\n",
              "  '10/24/2017',\n",
              "  '2/18/2014',\n",
              "  '12/22/2015',\n",
              "  '1/24/2015',\n",
              "  '4/04/2017',\n",
              "  '11/11/2014',\n",
              "  '7/19/2016',\n",
              "  '11/02/2016',\n",
              "  '7/02/2016',\n",
              "  '10/10/2014',\n",
              "  '6/13/2017',\n",
              "  '10/31/2014',\n",
              "  '6/13/2014',\n",
              "  '5/14/2016',\n",
              "  '3/21/2016',\n",
              "  '7/31/2016',\n",
              "  '6/04/2016',\n",
              "  '11/15/2017',\n",
              "  '3/22/2015',\n",
              "  '11/27/2017',\n",
              "  '10/23/2016',\n",
              "  '12/25/2017',\n",
              "  '1/27/2017',\n",
              "  '3/26/2015',\n",
              "  '1/25/2017',\n",
              "  '5/23/2016',\n",
              "  '1/02/2016',\n",
              "  '10/26/2017',\n",
              "  '9/07/2015',\n",
              "  '11/09/2015',\n",
              "  '9/11/2017',\n",
              "  '6/01/2016',\n",
              "  '7/16/2016',\n",
              "  '9/08/2017',\n",
              "  '12/08/2015',\n",
              "  '12/11/2015',\n",
              "  '2/03/2014',\n",
              "  '7/17/2016',\n",
              "  '12/23/2015',\n",
              "  '5/16/2014',\n",
              "  '11/22/2017',\n",
              "  '4/17/2016',\n",
              "  '9/12/2017',\n",
              "  '7/03/2017',\n",
              "  '3/07/2014',\n",
              "  '9/18/2014',\n",
              "  '12/09/2015',\n",
              "  '12/10/2017',\n",
              "  '1/04/2018',\n",
              "  '11/07/2016',\n",
              "  '9/22/2015',\n",
              "  '7/26/2017',\n",
              "  '9/14/2015',\n",
              "  '12/05/2017',\n",
              "  '7/09/2015',\n",
              "  '3/24/2016',\n",
              "  '1/13/2014',\n",
              "  '8/15/2014',\n",
              "  '7/21/2016',\n",
              "  '3/19/2014',\n",
              "  '5/27/2014',\n",
              "  '5/01/2016',\n",
              "  '9/13/2016',\n",
              "  '11/17/2017',\n",
              "  '12/31/2014',\n",
              "  '12/03/2015',\n",
              "  '5/23/2017',\n",
              "  '9/26/2017',\n",
              "  '10/09/2015',\n",
              "  '8/21/2016',\n",
              "  '5/25/2016',\n",
              "  '12/22/2016',\n",
              "  '8/03/2017',\n",
              "  '6/15/2017',\n",
              "  '7/25/2017',\n",
              "  '1/05/2018',\n",
              "  '4/08/2016',\n",
              "  '12/16/2016',\n",
              "  '6/23/2017',\n",
              "  '8/28/2016',\n",
              "  '9/19/2016',\n",
              "  '8/28/2015',\n",
              "  '3/30/2016',\n",
              "  '11/04/2016',\n",
              "  '6/10/2017',\n",
              "  '6/22/2017',\n",
              "  '12/08/2017',\n",
              "  '3/23/2017',\n",
              "  '11/04/2017',\n",
              "  '7/08/2014',\n",
              "  '6/23/2014',\n",
              "  '4/02/2015',\n",
              "  '5/17/2015',\n",
              "  '11/08/2016',\n",
              "  '4/14/2015',\n",
              "  '12/04/2014',\n",
              "  '4/07/2014',\n",
              "  '9/07/2017',\n",
              "  '5/24/2017',\n",
              "  '7/06/2014',\n",
              "  '1/14/2014',\n",
              "  '9/29/2017',\n",
              "  '6/07/2014',\n",
              "  '2/18/2016',\n",
              "  '12/19/2016',\n",
              "  '10/13/2014',\n",
              "  '7/12/2016',\n",
              "  '9/20/2017',\n",
              "  '12/06/2016',\n",
              "  '1/08/2014',\n",
              "  '3/22/2016',\n",
              "  '10/06/2017',\n",
              "  '4/09/2016',\n",
              "  '12/12/2015',\n",
              "  '1/02/2015',\n",
              "  '7/28/2017',\n",
              "  '9/22/2017',\n",
              "  '9/05/2015',\n",
              "  '1/15/2014',\n",
              "  '5/20/2014',\n",
              "  '5/24/2016',\n",
              "  '8/23/2015',\n",
              "  '10/06/2015',\n",
              "  '5/28/2015',\n",
              "  '3/21/2017',\n",
              "  '12/16/2015',\n",
              "  '6/30/2015',\n",
              "  '5/20/2016',\n",
              "  '9/26/2014',\n",
              "  '12/26/2015',\n",
              "  '2/23/2017',\n",
              "  '8/23/2016',\n",
              "  '3/17/2016',\n",
              "  '4/24/2017',\n",
              "  '11/07/2014',\n",
              "  '10/15/2014',\n",
              "  '5/14/2017',\n",
              "  '3/23/2015',\n",
              "  '7/02/2014',\n",
              "  '6/27/2017',\n",
              "  '8/28/2017',\n",
              "  '6/21/2017',\n",
              "  '7/27/2016',\n",
              "  '3/12/2016',\n",
              "  '11/25/2015',\n",
              "  '11/09/2016',\n",
              "  '10/17/2015',\n",
              "  '1/06/2017',\n",
              "  '2/12/2014',\n",
              "  '2/24/2016',\n",
              "  '8/08/2014',\n",
              "  '4/15/2017',\n",
              "  '6/16/2014',\n",
              "  '1/07/2016',\n",
              "  '10/02/2016',\n",
              "  '4/10/2014',\n",
              "  '9/05/2016',\n",
              "  '12/15/2014',\n",
              "  '8/29/2017',\n",
              "  '1/21/2016',\n",
              "  '12/02/2017',\n",
              "  '10/13/2015',\n",
              "  '12/23/2017',\n",
              "  '10/24/2016',\n",
              "  '5/04/2014',\n",
              "  '4/28/2015',\n",
              "  '7/02/2017',\n",
              "  '12/16/2014',\n",
              "  '6/26/2017',\n",
              "  '11/12/2016',\n",
              "  '10/06/2016',\n",
              "  '9/15/2014',\n",
              "  '10/31/2017',\n",
              "  '4/12/2016',\n",
              "  '1/03/2018',\n",
              "  '6/07/2015',\n",
              "  '11/29/2017',\n",
              "  '6/21/2014',\n",
              "  '3/11/2016',\n",
              "  '12/12/2014',\n",
              "  '4/15/2015',\n",
              "  '9/20/2016',\n",
              "  '9/16/2014',\n",
              "  '9/06/2017',\n",
              "  '6/24/2016',\n",
              "  '11/06/2017',\n",
              "  '12/17/2015',\n",
              "  '6/20/2016',\n",
              "  '7/28/2015',\n",
              "  '4/07/2017',\n",
              "  '1/01/2018',\n",
              "  '12/04/2017',\n",
              "  '5/18/2017',\n",
              "  '11/19/2017',\n",
              "  '12/01/2015',\n",
              "  '9/04/2016',\n",
              "  '4/11/2017',\n",
              "  '1/18/2014',\n",
              "  '7/15/2017',\n",
              "  '1/10/2017',\n",
              "  '5/31/2016',\n",
              "  '10/08/2016',\n",
              "  '11/14/2014',\n",
              "  '10/05/2017',\n",
              "  '3/10/2015',\n",
              "  '5/26/2017',\n",
              "  '3/31/2015',\n",
              "  '8/27/2016',\n",
              "  '5/25/2014',\n",
              "  '11/03/2015',\n",
              "  '11/17/2016',\n",
              "  '8/31/2015',\n",
              "  '9/19/2015',\n",
              "  '7/10/2015',\n",
              "  '5/03/2015',\n",
              "  '6/20/2015',\n",
              "  '12/20/2017',\n",
              "  '1/13/2016',\n",
              "  '7/15/2014',\n",
              "  '11/22/2016',\n",
              "  '4/26/2016',\n",
              "  '6/14/2015',\n",
              "  '11/21/2017',\n",
              "  '9/09/2016',\n",
              "  '10/16/2017',\n",
              "  '6/01/2014',\n",
              "  '7/05/2015',\n",
              "  '4/08/2015',\n",
              "  '12/17/2017',\n",
              "  '12/01/2016',\n",
              "  '3/29/2015',\n",
              "  '4/21/2015',\n",
              "  '9/30/2017',\n",
              "  '7/29/2015',\n",
              "  '5/02/2016',\n",
              "  '11/19/2016',\n",
              "  '9/30/2016',\n",
              "  '9/25/2017',\n",
              "  '3/05/2016',\n",
              "  '8/12/2016',\n",
              "  '8/20/2016',\n",
              "  '12/13/2015',\n",
              "  '1/26/2017',\n",
              "  '6/28/2014',\n",
              "  '6/17/2016',\n",
              "  '4/27/2017',\n",
              "  '10/27/2016',\n",
              "  '7/24/2016',\n",
              "  '1/26/2014',\n",
              "  '3/07/2015',\n",
              "  '4/16/2016',\n",
              "  '12/07/2016',\n",
              "  '12/11/2016',\n",
              "  '11/15/2016',\n",
              "  '4/04/2015',\n",
              "  '5/14/2015',\n",
              "  '12/21/2014',\n",
              "  '7/07/2016',\n",
              "  '7/04/2017',\n",
              "  '9/05/2014',\n",
              "  '3/08/2014',\n",
              "  '5/08/2014',\n",
              "  '11/02/2015',\n",
              "  '3/14/2014',\n",
              "  '4/25/2014',\n",
              "  '10/26/2015',\n",
              "  '8/25/2015',\n",
              "  '12/05/2016',\n",
              "  '1/15/2017',\n",
              "  '11/30/2014',\n",
              "  '2/28/2017',\n",
              "  '9/15/2015',\n",
              "  '8/04/2017',\n",
              "  '7/18/2016',\n",
              "  '9/13/2017',\n",
              "  '7/16/2014',\n",
              "  '10/28/2016',\n",
              "  '2/22/2016',\n",
              "  '5/21/2017',\n",
              "  '12/14/2014',\n",
              "  '12/24/2017',\n",
              "  '3/14/2017',\n",
              "  '12/28/2016',\n",
              "  '10/27/2017',\n",
              "  '7/09/2017',\n",
              "  '12/29/2014',\n",
              "  '9/27/2017',\n",
              "  '6/08/2017',\n",
              "  '5/26/2016',\n",
              "  '5/07/2016',\n",
              "  '9/11/2014',\n",
              "  '9/06/2016',\n",
              "  '7/03/2016',\n",
              "  '7/08/2015',\n",
              "  '11/26/2016',\n",
              "  '9/01/2015',\n",
              "  '5/29/2015',\n",
              "  '12/12/2016',\n",
              "  '10/07/2015',\n",
              "  '12/25/2016',\n",
              "  '9/24/2015',\n",
              "  '7/07/2017',\n",
              "  '6/21/2016',\n",
              "  '12/23/2016',\n",
              "  '7/05/2014',\n",
              "  '2/08/2017',\n",
              "  '3/08/2017',\n",
              "  '10/10/2017',\n",
              "  '5/30/2014',\n",
              "  '6/18/2015',\n",
              "  '4/01/2016',\n",
              "  '10/18/2017',\n",
              "  '5/27/2016',\n",
              "  '6/06/2017',\n",
              "  '2/21/2014',\n",
              "  '5/10/2014',\n",
              "  '4/02/2017',\n",
              "  '1/04/2017',\n",
              "  '6/01/2015',\n",
              "  '3/24/2014',\n",
              "  '10/08/2014',\n",
              "  '3/31/2016',\n",
              "  '5/09/2017',\n",
              "  '10/01/2014',\n",
              "  '10/25/2017',\n",
              "  '7/11/2017',\n",
              "  '12/28/2015',\n",
              "  '3/12/2017',\n",
              "  '4/06/2014',\n",
              "  '2/05/2016',\n",
              "  '10/14/2017',\n",
              "  '11/05/2016',\n",
              "  '4/25/2016',\n",
              "  '4/08/2014',\n",
              "  '7/13/2016',\n",
              "  '1/31/2017',\n",
              "  '11/30/2017',\n",
              "  '12/30/2016',\n",
              "  '10/15/2015',\n",
              "  '8/08/2017',\n",
              "  '5/28/2016',\n",
              "  '6/16/2017',\n",
              "  '4/24/2014',\n",
              "  '5/07/2015',\n",
              "  '7/20/2015',\n",
              "  '11/29/2016',\n",
              "  '8/21/2015',\n",
              "  '3/15/2016',\n",
              "  '8/14/2014',\n",
              "  '5/16/2015',\n",
              "  '9/27/2015',\n",
              "  '11/25/2016',\n",
              "  '3/24/2017',\n",
              "  '11/20/2017',\n",
              "  '12/08/2016',\n",
              "  '10/18/2016',\n",
              "  '12/03/2014',\n",
              "  '11/07/2015',\n",
              "  '12/06/2014',\n",
              "  '5/05/2017',\n",
              "  '11/03/2017',\n",
              "  '12/19/2014',\n",
              "  '10/20/2016',\n",
              "  '11/18/2017',\n",
              "  '8/07/2015',\n",
              "  '7/01/2017',\n",
              "  '8/22/2017',\n",
              "  '2/06/2014',\n",
              "  '2/14/2017',\n",
              "  '4/21/2017',\n",
              "  '11/10/2015',\n",
              "  '9/05/2017',\n",
              "  '3/16/2014',\n",
              "  '2/08/2014',\n",
              "  '11/27/2015',\n",
              "  '6/22/2016',\n",
              "  '5/05/2014',\n",
              "  '10/21/2017',\n",
              "  '5/15/2016',\n",
              "  '3/18/2015',\n",
              "  '4/09/2014',\n",
              "  '6/30/2017',\n",
              "  '3/04/2014',\n",
              "  '3/25/2015',\n",
              "  '6/11/2017',\n",
              "  '11/25/2014',\n",
              "  '12/18/2014',\n",
              "  '3/01/2016',\n",
              "  '8/12/2015',\n",
              "  '5/16/2016',\n",
              "  '4/19/2016',\n",
              "  '6/25/2015',\n",
              "  '10/19/2014',\n",
              "  '3/27/2015',\n",
              "  '5/12/2017',\n",
              "  '5/13/2016',\n",
              "  '4/24/2016',\n",
              "  '3/19/2016',\n",
              "  '11/22/2015',\n",
              "  '6/25/2017',\n",
              "  '5/08/2016',\n",
              "  '12/02/2014',\n",
              "  '3/20/2015',\n",
              "  '9/29/2015',\n",
              "  '8/29/2014',\n",
              "  '5/06/2017',\n",
              "  '1/15/2015',\n",
              "  '3/25/2016',\n",
              "  '8/20/2014',\n",
              "  '6/29/2016',\n",
              "  '7/15/2015',\n",
              "  '3/08/2016',\n",
              "  '2/04/2015',\n",
              "  '10/13/2017',\n",
              "  '5/04/2016',\n",
              "  '12/25/2015',\n",
              "  '12/20/2015',\n",
              "  '5/04/2017',\n",
              "  '2/07/2016',\n",
              "  '7/14/2016',\n",
              "  '8/01/2017',\n",
              "  '9/09/2015',\n",
              "  '6/09/2014',\n",
              "  '8/17/2016',\n",
              "  '4/29/2014',\n",
              "  '5/17/2014',\n",
              "  '1/12/2014',\n",
              "  '8/08/2016',\n",
              "  '3/26/2014',\n",
              "  '5/03/2014',\n",
              "  '11/28/2015',\n",
              "  '11/16/2016',\n",
              "  '7/13/2015',\n",
              "  '2/19/2015',\n",
              "  '10/04/2014',\n",
              "  '12/13/2014',\n",
              "  '8/30/2017',\n",
              "  '7/11/2016',\n",
              "  '8/10/2016',\n",
              "  '2/13/2016',\n",
              "  '6/11/2014',\n",
              "  '9/18/2015',\n",
              "  '6/04/2015',\n",
              "  '12/15/2015',\n",
              "  '5/29/2014',\n",
              "  '2/20/2016',\n",
              "  '2/11/2016',\n",
              "  '5/24/2014',\n",
              "  '8/07/2017',\n",
              "  '6/24/2014',\n",
              "  '2/21/2017',\n",
              "  '7/23/2016',\n",
              "  '2/11/2015',\n",
              "  '8/02/2017',\n",
              "  '1/17/2017',\n",
              "  '9/10/2017',\n",
              "  '7/25/2015',\n",
              "  '6/17/2014',\n",
              "  '5/15/2017',\n",
              "  '3/27/2017',\n",
              "  '11/12/2014',\n",
              "  '10/17/2016',\n",
              "  '4/18/2017',\n",
              "  '7/01/2015',\n",
              "  '8/29/2016',\n",
              "  '7/25/2014',\n",
              "  '11/25/2017',\n",
              "  '3/29/2017',\n",
              "  '3/05/2015',\n",
              "  '10/22/2014',\n",
              "  '3/18/2014',\n",
              "  '1/04/2016',\n",
              "  '9/02/2014',\n",
              "  '10/22/2017',\n",
              "  '5/21/2016',\n",
              "  '7/06/2017',\n",
              "  '1/17/2014',\n",
              "  '11/14/2015',\n",
              "  '11/01/2015',\n",
              "  '8/19/2017',\n",
              "  '7/10/2016',\n",
              "  '3/13/2017',\n",
              "  '12/01/2017',\n",
              "  '3/18/2017',\n",
              "  '8/10/2017',\n",
              "  '5/27/2015',\n",
              "  '6/26/2016',\n",
              "  '12/28/2017',\n",
              "  '5/11/2017',\n",
              "  '10/20/2014',\n",
              "  '5/12/2015',\n",
              "  '4/14/2016',\n",
              "  '11/27/2014',\n",
              "  '11/13/2015',\n",
              "  '2/09/2014',\n",
              "  '11/21/2014',\n",
              "  '9/21/2016',\n",
              "  '3/15/2015',\n",
              "  '1/27/2015',\n",
              "  '6/23/2015',\n",
              "  '10/08/2015',\n",
              "  '8/23/2014',\n",
              "  '11/04/2014',\n",
              "  '4/19/2015',\n",
              "  '12/05/2014',\n",
              "  '12/29/2015',\n",
              "  '3/01/2017',\n",
              "  '11/29/2014',\n",
              "  '6/28/2016',\n",
              "  '10/30/2015',\n",
              "  '7/19/2017',\n",
              "  '11/29/2015',\n",
              "  '3/17/2014',\n",
              "  '7/18/2014',\n",
              "  '3/28/2017',\n",
              "  '10/05/2014',\n",
              "  '10/31/2015',\n",
              "  '1/13/2017',\n",
              "  '9/24/2017',\n",
              "  '5/22/2014',\n",
              "  '1/05/2016',\n",
              "  '12/17/2014',\n",
              "  '4/05/2017',\n",
              "  '5/05/2016',\n",
              "  '1/12/2016',\n",
              "  '3/19/2017',\n",
              "  '1/30/2017',\n",
              "  '8/03/2014',\n",
              "  '8/04/2016',\n",
              "  '8/03/2015',\n",
              "  '5/11/2016',\n",
              "  '8/15/2017',\n",
              "  '9/12/2016',\n",
              "  '7/20/2014',\n",
              "  '8/26/2015',\n",
              "  '11/16/2014',\n",
              "  '11/30/2016',\n",
              "  '10/02/2017',\n",
              "  '12/06/2015',\n",
              "  '8/05/2017',\n",
              "  '10/05/2016',\n",
              "  '4/05/2014',\n",
              "  '7/14/2017',\n",
              "  '9/17/2015',\n",
              "  '4/26/2017',\n",
              "  '2/18/2015',\n",
              "  '10/01/2015',\n",
              "  '12/18/2015',\n",
              "  '2/09/2017',\n",
              "  '10/12/2017',\n",
              "  '12/26/2017',\n",
              "  '3/11/2015',\n",
              "  '7/01/2014',\n",
              "  '3/09/2015',\n",
              "  '6/05/2017',\n",
              "  '1/11/2017',\n",
              "  '4/25/2015',\n",
              "  '11/05/2015',\n",
              "  '12/24/2016',\n",
              "  '8/08/2015',\n",
              "  '11/09/2017',\n",
              "  '1/03/2016',\n",
              "  '9/26/2016',\n",
              "  '8/24/2014',\n",
              "  '1/03/2015',\n",
              "  '7/30/2014',\n",
              "  '2/28/2016',\n",
              "  '3/18/2016',\n",
              "  '9/02/2015',\n",
              "  '3/21/2014',\n",
              "  '2/13/2017',\n",
              "  '9/27/2016',\n",
              "  '8/21/2014',\n",
              "  '5/10/2016',\n",
              "  '3/26/2017',\n",
              "  '12/10/2015',\n",
              "  '3/23/2016',\n",
              "  '11/19/2015',\n",
              "  '8/16/2017',\n",
              "  '10/03/2016',\n",
              "  '10/11/2017',\n",
              "  '8/06/2014',\n",
              "  '6/09/2015',\n",
              "  '1/02/2017',\n",
              "  '7/11/2015',\n",
              "  '11/14/2017',\n",
              "  '4/23/2016',\n",
              "  '5/20/2017',\n",
              "  '4/01/2014',\n",
              "  '6/01/2017',\n",
              "  '7/10/2017',\n",
              "  '11/20/2014',\n",
              "  '7/22/2017',\n",
              "  '11/06/2016',\n",
              "  '3/22/2017',\n",
              "  '8/21/2017',\n",
              "  '12/09/2017',\n",
              "  '5/08/2017',\n",
              "  '12/31/2017',\n",
              "  '9/03/2017',\n",
              "  '11/23/2014',\n",
              "  '6/22/2014',\n",
              "  '7/02/2015',\n",
              "  '11/23/2016',\n",
              "  '12/06/2017',\n",
              "  '9/10/2014',\n",
              "  '11/22/2014',\n",
              "  '5/07/2017',\n",
              "  '10/29/2014',\n",
              "  '8/18/2017',\n",
              "  '1/29/2015',\n",
              "  '7/16/2015',\n",
              "  '8/22/2015',\n",
              "  '9/18/2016',\n",
              "  '10/14/2016',\n",
              "  '3/30/2015',\n",
              "  '7/21/2017',\n",
              "  '8/15/2016',\n",
              "  '1/31/2014',\n",
              "  '5/09/2016',\n",
              "  '5/17/2017',\n",
              "  '4/29/2017',\n",
              "  '3/10/2016',\n",
              "  '8/19/2015',\n",
              "  '6/18/2017',\n",
              "  '2/25/2015',\n",
              "  '9/21/2017',\n",
              "  '8/30/2015',\n",
              "  '8/05/2016',\n",
              "  '2/09/2016',\n",
              "  '3/23/2014',\n",
              "  '2/06/2015',\n",
              "  '12/08/2014',\n",
              "  '11/08/2014',\n",
              "  '2/19/2017',\n",
              "  '2/23/2015',\n",
              "  '2/27/2016',\n",
              "  '8/11/2017',\n",
              "  '8/11/2014',\n",
              "  '1/18/2017',\n",
              "  '4/07/2015',\n",
              "  '10/25/2016',\n",
              "  '7/19/2015',\n",
              "  '10/15/2016',\n",
              "  '9/23/2015',\n",
              "  '9/22/2014',\n",
              "  '11/08/2017',\n",
              "  '9/11/2015',\n",
              "  '7/27/2015',\n",
              "  '11/18/2015',\n",
              "  '1/05/2017',\n",
              "  '9/30/2014',\n",
              "  '11/05/2014',\n",
              "  '6/12/2016',\n",
              "  '9/04/2017',\n",
              "  '5/22/2017',\n",
              "  '12/31/2016',\n",
              "  '12/03/2016',\n",
              "  '6/05/2016',\n",
              "  '12/22/2017',\n",
              "  '8/20/2017',\n",
              "  '7/31/2017',\n",
              "  '8/17/2017',\n",
              "  '8/13/2017',\n",
              "  '1/23/2016',\n",
              "  '1/19/2016',\n",
              "  '2/25/2014',\n",
              "  '2/03/2016',\n",
              "  '10/22/2016',\n",
              "  '12/19/2017',\n",
              "  '5/01/2014',\n",
              "  '10/29/2017',\n",
              "  '4/03/2014',\n",
              "  '1/09/2016',\n",
              "  '4/30/2015',\n",
              "  '7/01/2016',\n",
              "  '7/04/2014',\n",
              "  '11/24/2017',\n",
              "  '3/31/2017',\n",
              "  '12/18/2017',\n",
              "  '8/24/2016',\n",
              "  '5/01/2017',\n",
              "  '1/16/2014',\n",
              "  '6/17/2015',\n",
              "  '12/11/2014',\n",
              "  '5/30/2016',\n",
              "  '2/26/2016',\n",
              "  '3/17/2017',\n",
              "  '7/21/2014',\n",
              "  '5/21/2014',\n",
              "  '10/15/2017',\n",
              "  '7/29/2016',\n",
              "  '4/23/2017',\n",
              "  '8/30/2016',\n",
              "  '3/28/2016',\n",
              "  '6/16/2015',\n",
              "  '3/07/2017',\n",
              "  '7/24/2014',\n",
              "  '6/02/2017',\n",
              "  '4/19/2017',\n",
              "  '6/12/2015',\n",
              "  '8/26/2014',\n",
              "  '7/03/2014',\n",
              "  '6/10/2016',\n",
              "  '7/24/2017',\n",
              "  '3/27/2016',\n",
              "  '10/31/2016',\n",
              "  '6/03/2016',\n",
              "  '1/01/2016',\n",
              "  '9/04/2014',\n",
              "  '8/13/2016',\n",
              "  '12/07/2014',\n",
              "  '1/15/2016',\n",
              "  '4/22/2017',\n",
              "  '11/27/2016',\n",
              "  '12/29/2016',\n",
              "  '10/30/2017',\n",
              "  '8/14/2015',\n",
              "  '12/14/2016',\n",
              "  '11/15/2014',\n",
              "  '11/19/2014',\n",
              "  '7/19/2014',\n",
              "  '2/16/2015',\n",
              "  '10/06/2014',\n",
              "  '2/25/2017',\n",
              "  '8/18/2014',\n",
              "  '10/03/2017',\n",
              "  '5/30/2015',\n",
              "  '1/01/2015',\n",
              "  '11/11/2015',\n",
              "  '8/20/2015',\n",
              "  '9/28/2014',\n",
              "  '6/08/2015',\n",
              "  '2/02/2014',\n",
              "  '3/30/2017',\n",
              "  '8/13/2014',\n",
              "  '7/08/2017',\n",
              "  '4/27/2014',\n",
              "  '9/24/2016',\n",
              "  '9/13/2015',\n",
              "  '8/02/2016',\n",
              "  '8/07/2016',\n",
              "  '10/13/2016',\n",
              "  '9/14/2014',\n",
              "  '3/02/2015',\n",
              "  '7/14/2015',\n",
              "  '9/18/2017',\n",
              "  '3/10/2017',\n",
              "  '10/26/2016',\n",
              "  '7/06/2015',\n",
              "  '9/28/2017',\n",
              "  '4/10/2017',\n",
              "  '11/28/2016',\n",
              "  '4/23/2014',\n",
              "  '5/09/2014',\n",
              "  '11/01/2017',\n",
              "  '4/02/2016',\n",
              "  '9/09/2017',\n",
              "  '7/06/2016',\n",
              "  '9/14/2017',\n",
              "  '8/12/2017',\n",
              "  '3/24/2015',\n",
              "  '6/11/2016',\n",
              "  '10/07/2017',\n",
              "  '8/27/2017',\n",
              "  '9/29/2016',\n",
              "  '11/14/2016',\n",
              "  '12/23/2014',\n",
              "  '4/30/2017',\n",
              "  '3/17/2015',\n",
              "  '11/21/2015',\n",
              "  '6/19/2015',\n",
              "  '10/24/2014',\n",
              "  '9/28/2016',\n",
              "  '3/06/2016',\n",
              "  '3/04/2016',\n",
              "  '8/18/2016',\n",
              "  '3/02/2017',\n",
              "  '12/20/2014',\n",
              "  '12/21/2016',\n",
              "  '5/17/2016',\n",
              "  '4/13/2014',\n",
              "  '5/08/2015',\n",
              "  '2/20/2017',\n",
              "  '7/11/2014',\n",
              "  '2/28/2015',\n",
              "  '3/05/2017',\n",
              "  '7/08/2016',\n",
              "  '10/12/2014',\n",
              "  '4/15/2014',\n",
              "  '8/02/2014',\n",
              "  '6/12/2014',\n",
              "  '10/28/2017',\n",
              "  '2/22/2017',\n",
              "  '7/29/2014',\n",
              "  '10/27/2015',\n",
              "  '7/12/2014',\n",
              "  '2/02/2017',\n",
              "  '11/28/2014',\n",
              "  '1/08/2015',\n",
              "  '11/20/2015',\n",
              "  '7/23/2017',\n",
              "  '5/29/2017',\n",
              "  '6/30/2016',\n",
              "  '1/19/2017',\n",
              "  '6/02/2016',\n",
              "  '10/24/2015',\n",
              "  '11/17/2014',\n",
              "  '4/06/2016',\n",
              "  '6/05/2015',\n",
              "  '2/24/2015',\n",
              "  '12/27/2014',\n",
              "  ...]]"
            ]
          },
          "execution_count": 67,
          "metadata": {},
          "output_type": "execute_result"
        }
      ],
      "source": [
        "# Funciones de utidad para el analisis sobre los datos del dataframe a analizar\n",
        "# To do...\n",
        "\n",
        "from pandas.api.types import is_object_dtype, is_numeric_dtype, is_bool_dtype\n",
        "\n",
        "\n",
        "# Obtiene el numero de items y los items de las columnas categoricas\n",
        "def get_column_items(df, col_name):\n",
        "    if is_object_dtype(df[col_name]):\n",
        "        items = df_market[col_name].unique()\n",
        "        num_items = df_market[col_name].nunique()\n",
        "        return [num_items, items.tolist()]\n",
        "    else:\n",
        "        return None\n"
      ]
    },
    {
      "cell_type": "markdown",
      "metadata": {},
      "source": [
        "## Funciones de resumen de los datos limpiados "
      ]
    },
    {
      "cell_type": "markdown",
      "metadata": {},
      "source": [
        "### Forma del dataframe"
      ]
    },
    {
      "cell_type": "code",
      "execution_count": 30,
      "metadata": {
        "colab": {
          "base_uri": "https://localhost:8080/",
          "height": 283
        },
        "id": "imuw8Tlr0hF_",
        "outputId": "620388f4-ec9f-4635-cfb8-19a99d69de7c"
      },
      "outputs": [
        {
          "data": {
            "text/html": [
              "<div>\n",
              "<style scoped>\n",
              "    .dataframe tbody tr th:only-of-type {\n",
              "        vertical-align: middle;\n",
              "    }\n",
              "\n",
              "    .dataframe tbody tr th {\n",
              "        vertical-align: top;\n",
              "    }\n",
              "\n",
              "    .dataframe thead th {\n",
              "        text-align: right;\n",
              "    }\n",
              "</style>\n",
              "<table border=\"1\" class=\"dataframe\">\n",
              "  <thead>\n",
              "    <tr style=\"text-align: right;\">\n",
              "      <th></th>\n",
              "      <th>order_id</th>\n",
              "      <th>order_date</th>\n",
              "      <th>ship_date</th>\n",
              "      <th>ship_mode</th>\n",
              "      <th>customer_id</th>\n",
              "      <th>customer_name</th>\n",
              "      <th>segment</th>\n",
              "      <th>country</th>\n",
              "      <th>city</th>\n",
              "      <th>state</th>\n",
              "      <th>postal_code</th>\n",
              "      <th>region</th>\n",
              "      <th>product_id</th>\n",
              "      <th>category</th>\n",
              "      <th>sub_category</th>\n",
              "      <th>product_name</th>\n",
              "      <th>sales</th>\n",
              "      <th>quantity</th>\n",
              "      <th>discount</th>\n",
              "      <th>profit</th>\n",
              "    </tr>\n",
              "    <tr>\n",
              "      <th>row_id</th>\n",
              "      <th></th>\n",
              "      <th></th>\n",
              "      <th></th>\n",
              "      <th></th>\n",
              "      <th></th>\n",
              "      <th></th>\n",
              "      <th></th>\n",
              "      <th></th>\n",
              "      <th></th>\n",
              "      <th></th>\n",
              "      <th></th>\n",
              "      <th></th>\n",
              "      <th></th>\n",
              "      <th></th>\n",
              "      <th></th>\n",
              "      <th></th>\n",
              "      <th></th>\n",
              "      <th></th>\n",
              "      <th></th>\n",
              "      <th></th>\n",
              "    </tr>\n",
              "  </thead>\n",
              "  <tbody>\n",
              "    <tr>\n",
              "      <th>1</th>\n",
              "      <td>CA-2016-152156</td>\n",
              "      <td>11/08/2016</td>\n",
              "      <td>11/11/2016</td>\n",
              "      <td>Second Class</td>\n",
              "      <td>CG-12520</td>\n",
              "      <td>Claire Gute</td>\n",
              "      <td>Consumer</td>\n",
              "      <td>United States</td>\n",
              "      <td>Henderson</td>\n",
              "      <td>Kentucky</td>\n",
              "      <td>42420</td>\n",
              "      <td>South</td>\n",
              "      <td>FUR-BO-10001798</td>\n",
              "      <td>Furniture</td>\n",
              "      <td>Bookcases</td>\n",
              "      <td>Bush Somerset Collection Bookcase</td>\n",
              "      <td>261.96</td>\n",
              "      <td>2.0</td>\n",
              "      <td>0.0</td>\n",
              "      <td>419.136</td>\n",
              "    </tr>\n",
              "    <tr>\n",
              "      <th>2</th>\n",
              "      <td>CA-2016-152156</td>\n",
              "      <td>11/08/2016</td>\n",
              "      <td>11/11/2016</td>\n",
              "      <td>Second Class</td>\n",
              "      <td>CG-12520</td>\n",
              "      <td>Claire Gute</td>\n",
              "      <td>Consumer</td>\n",
              "      <td>United States</td>\n",
              "      <td>Henderson</td>\n",
              "      <td>Kentucky</td>\n",
              "      <td>42420</td>\n",
              "      <td>South</td>\n",
              "      <td>FUR-CH-10000454</td>\n",
              "      <td>Furniture</td>\n",
              "      <td>Chairs</td>\n",
              "      <td>Hon Deluxe Fabric Upholstered Stacking Chairs,...</td>\n",
              "      <td>731.94</td>\n",
              "      <td>3.0</td>\n",
              "      <td>0.0</td>\n",
              "      <td>219.582</td>\n",
              "    </tr>\n",
              "  </tbody>\n",
              "</table>\n",
              "</div>"
            ],
            "text/plain": [
              "              order_id  order_date   ship_date     ship_mode customer_id  \\\n",
              "row_id                                                                     \n",
              "1       CA-2016-152156  11/08/2016  11/11/2016  Second Class    CG-12520   \n",
              "2       CA-2016-152156  11/08/2016  11/11/2016  Second Class    CG-12520   \n",
              "\n",
              "       customer_name   segment        country       city     state  \\\n",
              "row_id                                                               \n",
              "1        Claire Gute  Consumer  United States  Henderson  Kentucky   \n",
              "2        Claire Gute  Consumer  United States  Henderson  Kentucky   \n",
              "\n",
              "       postal_code region       product_id   category sub_category  \\\n",
              "row_id                                                               \n",
              "1            42420  South  FUR-BO-10001798  Furniture    Bookcases   \n",
              "2            42420  South  FUR-CH-10000454  Furniture       Chairs   \n",
              "\n",
              "                                             product_name   sales  quantity  \\\n",
              "row_id                                                                        \n",
              "1                       Bush Somerset Collection Bookcase  261.96       2.0   \n",
              "2       Hon Deluxe Fabric Upholstered Stacking Chairs,...  731.94       3.0   \n",
              "\n",
              "        discount   profit  \n",
              "row_id                     \n",
              "1            0.0  419.136  \n",
              "2            0.0  219.582  "
            ]
          },
          "execution_count": 30,
          "metadata": {},
          "output_type": "execute_result"
        }
      ],
      "source": [
        "# Forma del dataframe\n",
        "df_market.head(2)"
      ]
    },
    {
      "cell_type": "markdown",
      "metadata": {},
      "source": [
        "### Informacion "
      ]
    },
    {
      "cell_type": "code",
      "execution_count": 31,
      "metadata": {},
      "outputs": [
        {
          "name": "stdout",
          "output_type": "stream",
          "text": [
            "<class 'pandas.core.frame.DataFrame'>\n",
            "Int64Index: 9988 entries, 1 to 9994\n",
            "Data columns (total 20 columns):\n",
            " #   Column         Non-Null Count  Dtype  \n",
            "---  ------         --------------  -----  \n",
            " 0   order_id       9988 non-null   object \n",
            " 1   order_date     9988 non-null   object \n",
            " 2   ship_date      9988 non-null   object \n",
            " 3   ship_mode      9988 non-null   object \n",
            " 4   customer_id    9988 non-null   object \n",
            " 5   customer_name  9988 non-null   object \n",
            " 6   segment        9988 non-null   object \n",
            " 7   country        9988 non-null   object \n",
            " 8   city           9988 non-null   object \n",
            " 9   state          9988 non-null   object \n",
            " 10  postal_code    9988 non-null   object \n",
            " 11  region         9988 non-null   object \n",
            " 12  product_id     9988 non-null   object \n",
            " 13  category       9988 non-null   object \n",
            " 14  sub_category   9988 non-null   object \n",
            " 15  product_name   9988 non-null   object \n",
            " 16  sales          9988 non-null   object \n",
            " 17  quantity       9988 non-null   float64\n",
            " 18  discount       9988 non-null   float64\n",
            " 19  profit         9988 non-null   object \n",
            "dtypes: float64(2), object(18)\n",
            "memory usage: 1.6+ MB\n"
          ]
        }
      ],
      "source": [
        "# Informacion sobre el dataframe\n",
        "df_market.info()"
      ]
    },
    {
      "cell_type": "markdown",
      "metadata": {
        "id": "kZNf8cve6cxP"
      },
      "source": [
        "### Columnas"
      ]
    },
    {
      "cell_type": "code",
      "execution_count": 35,
      "metadata": {},
      "outputs": [
        {
          "data": {
            "text/plain": [
              "Index(['order_id', 'order_date', 'ship_date', 'ship_mode', 'customer_id',\n",
              "       'customer_name', 'segment', 'country', 'city', 'state', 'postal_code',\n",
              "       'region', 'product_id', 'category', 'sub_category', 'product_name',\n",
              "       'sales', 'quantity', 'discount', 'profit'],\n",
              "      dtype='object')"
            ]
          },
          "execution_count": 35,
          "metadata": {},
          "output_type": "execute_result"
        }
      ],
      "source": [
        "df_market.columns"
      ]
    },
    {
      "cell_type": "markdown",
      "metadata": {},
      "source": [
        "### Columnas con datos numericos"
      ]
    },
    {
      "cell_type": "code",
      "execution_count": 37,
      "metadata": {},
      "outputs": [
        {
          "data": {
            "text/html": [
              "<div>\n",
              "<style scoped>\n",
              "    .dataframe tbody tr th:only-of-type {\n",
              "        vertical-align: middle;\n",
              "    }\n",
              "\n",
              "    .dataframe tbody tr th {\n",
              "        vertical-align: top;\n",
              "    }\n",
              "\n",
              "    .dataframe thead th {\n",
              "        text-align: right;\n",
              "    }\n",
              "</style>\n",
              "<table border=\"1\" class=\"dataframe\">\n",
              "  <thead>\n",
              "    <tr style=\"text-align: right;\">\n",
              "      <th></th>\n",
              "      <th>quantity</th>\n",
              "      <th>discount</th>\n",
              "    </tr>\n",
              "  </thead>\n",
              "  <tbody>\n",
              "    <tr>\n",
              "      <th>count</th>\n",
              "      <td>9988.000000</td>\n",
              "      <td>9988.000000</td>\n",
              "    </tr>\n",
              "    <tr>\n",
              "      <th>mean</th>\n",
              "      <td>3.788646</td>\n",
              "      <td>0.156196</td>\n",
              "    </tr>\n",
              "    <tr>\n",
              "      <th>std</th>\n",
              "      <td>2.224976</td>\n",
              "      <td>0.206506</td>\n",
              "    </tr>\n",
              "    <tr>\n",
              "      <th>min</th>\n",
              "      <td>1.000000</td>\n",
              "      <td>0.000000</td>\n",
              "    </tr>\n",
              "    <tr>\n",
              "      <th>25%</th>\n",
              "      <td>2.000000</td>\n",
              "      <td>0.000000</td>\n",
              "    </tr>\n",
              "    <tr>\n",
              "      <th>50%</th>\n",
              "      <td>3.000000</td>\n",
              "      <td>0.200000</td>\n",
              "    </tr>\n",
              "    <tr>\n",
              "      <th>75%</th>\n",
              "      <td>5.000000</td>\n",
              "      <td>0.200000</td>\n",
              "    </tr>\n",
              "    <tr>\n",
              "      <th>max</th>\n",
              "      <td>14.000000</td>\n",
              "      <td>0.800000</td>\n",
              "    </tr>\n",
              "  </tbody>\n",
              "</table>\n",
              "</div>"
            ],
            "text/plain": [
              "          quantity     discount\n",
              "count  9988.000000  9988.000000\n",
              "mean      3.788646     0.156196\n",
              "std       2.224976     0.206506\n",
              "min       1.000000     0.000000\n",
              "25%       2.000000     0.000000\n",
              "50%       3.000000     0.200000\n",
              "75%       5.000000     0.200000\n",
              "max      14.000000     0.800000"
            ]
          },
          "execution_count": 37,
          "metadata": {},
          "output_type": "execute_result"
        }
      ],
      "source": [
        "df_market.describe()"
      ]
    },
    {
      "cell_type": "markdown",
      "metadata": {},
      "source": [
        "### Columnas con datos categoricos"
      ]
    },
    {
      "cell_type": "code",
      "execution_count": 38,
      "metadata": {
        "id": "x3a3cO9-BGIU"
      },
      "outputs": [
        {
          "data": {
            "text/html": [
              "<div>\n",
              "<style scoped>\n",
              "    .dataframe tbody tr th:only-of-type {\n",
              "        vertical-align: middle;\n",
              "    }\n",
              "\n",
              "    .dataframe tbody tr th {\n",
              "        vertical-align: top;\n",
              "    }\n",
              "\n",
              "    .dataframe thead th {\n",
              "        text-align: right;\n",
              "    }\n",
              "</style>\n",
              "<table border=\"1\" class=\"dataframe\">\n",
              "  <thead>\n",
              "    <tr style=\"text-align: right;\">\n",
              "      <th></th>\n",
              "      <th>order_id</th>\n",
              "      <th>order_date</th>\n",
              "      <th>ship_date</th>\n",
              "      <th>ship_mode</th>\n",
              "      <th>customer_id</th>\n",
              "      <th>customer_name</th>\n",
              "      <th>segment</th>\n",
              "      <th>country</th>\n",
              "      <th>city</th>\n",
              "      <th>state</th>\n",
              "      <th>postal_code</th>\n",
              "      <th>region</th>\n",
              "      <th>product_id</th>\n",
              "      <th>category</th>\n",
              "      <th>sub_category</th>\n",
              "      <th>product_name</th>\n",
              "      <th>sales</th>\n",
              "      <th>profit</th>\n",
              "    </tr>\n",
              "  </thead>\n",
              "  <tbody>\n",
              "    <tr>\n",
              "      <th>count</th>\n",
              "      <td>9988</td>\n",
              "      <td>9988</td>\n",
              "      <td>9988</td>\n",
              "      <td>9988</td>\n",
              "      <td>9988</td>\n",
              "      <td>9988</td>\n",
              "      <td>9988</td>\n",
              "      <td>9988</td>\n",
              "      <td>9988</td>\n",
              "      <td>9988</td>\n",
              "      <td>9988</td>\n",
              "      <td>9988</td>\n",
              "      <td>9988</td>\n",
              "      <td>9988</td>\n",
              "      <td>9988</td>\n",
              "      <td>9988</td>\n",
              "      <td>9988</td>\n",
              "      <td>9988</td>\n",
              "    </tr>\n",
              "    <tr>\n",
              "      <th>unique</th>\n",
              "      <td>5008</td>\n",
              "      <td>1237</td>\n",
              "      <td>1334</td>\n",
              "      <td>4</td>\n",
              "      <td>793</td>\n",
              "      <td>793</td>\n",
              "      <td>3</td>\n",
              "      <td>1</td>\n",
              "      <td>531</td>\n",
              "      <td>49</td>\n",
              "      <td>631</td>\n",
              "      <td>4</td>\n",
              "      <td>1861</td>\n",
              "      <td>3</td>\n",
              "      <td>17</td>\n",
              "      <td>1849</td>\n",
              "      <td>5822</td>\n",
              "      <td>7172</td>\n",
              "    </tr>\n",
              "    <tr>\n",
              "      <th>top</th>\n",
              "      <td>CA-2017-100111</td>\n",
              "      <td>9/05/2016</td>\n",
              "      <td>12/16/2015</td>\n",
              "      <td>Standard Class</td>\n",
              "      <td>WB-21850</td>\n",
              "      <td>William Brown</td>\n",
              "      <td>Consumer</td>\n",
              "      <td>United States</td>\n",
              "      <td>New York City</td>\n",
              "      <td>California</td>\n",
              "      <td>10035</td>\n",
              "      <td>West</td>\n",
              "      <td>OFF-PA-10001970</td>\n",
              "      <td>Office Supplies</td>\n",
              "      <td>Binders</td>\n",
              "      <td>Staple envelope</td>\n",
              "      <td>12.96</td>\n",
              "      <td>0</td>\n",
              "    </tr>\n",
              "    <tr>\n",
              "      <th>freq</th>\n",
              "      <td>14</td>\n",
              "      <td>38</td>\n",
              "      <td>35</td>\n",
              "      <td>5964</td>\n",
              "      <td>37</td>\n",
              "      <td>37</td>\n",
              "      <td>5190</td>\n",
              "      <td>9988</td>\n",
              "      <td>915</td>\n",
              "      <td>2001</td>\n",
              "      <td>263</td>\n",
              "      <td>3203</td>\n",
              "      <td>19</td>\n",
              "      <td>6026</td>\n",
              "      <td>1523</td>\n",
              "      <td>48</td>\n",
              "      <td>56</td>\n",
              "      <td>65</td>\n",
              "    </tr>\n",
              "  </tbody>\n",
              "</table>\n",
              "</div>"
            ],
            "text/plain": [
              "              order_id order_date   ship_date       ship_mode customer_id  \\\n",
              "count             9988       9988        9988            9988        9988   \n",
              "unique            5008       1237        1334               4         793   \n",
              "top     CA-2017-100111  9/05/2016  12/16/2015  Standard Class    WB-21850   \n",
              "freq                14         38          35            5964          37   \n",
              "\n",
              "        customer_name   segment        country           city       state  \\\n",
              "count            9988      9988           9988           9988        9988   \n",
              "unique            793         3              1            531          49   \n",
              "top     William Brown  Consumer  United States  New York City  California   \n",
              "freq               37      5190           9988            915        2001   \n",
              "\n",
              "        postal_code region       product_id         category sub_category  \\\n",
              "count          9988   9988             9988             9988         9988   \n",
              "unique          631      4             1861                3           17   \n",
              "top           10035   West  OFF-PA-10001970  Office Supplies      Binders   \n",
              "freq            263   3203               19             6026         1523   \n",
              "\n",
              "           product_name  sales profit  \n",
              "count              9988   9988   9988  \n",
              "unique             1849   5822   7172  \n",
              "top     Staple envelope  12.96      0  \n",
              "freq                 48     56     65  "
            ]
          },
          "execution_count": 38,
          "metadata": {},
          "output_type": "execute_result"
        }
      ],
      "source": [
        "df_market.describe(include = 'object')"
      ]
    },
    {
      "cell_type": "markdown",
      "metadata": {
        "id": "aHCJUHtLF6xm"
      },
      "source": [
        "ship mode (**Hacer una funcion**)"
      ]
    },
    {
      "cell_type": "code",
      "execution_count": 62,
      "metadata": {
        "id": "4SqPpU1PGBgX"
      },
      "outputs": [
        {
          "data": {
            "text/markdown": [
              "* **order_id**: 5008"
            ],
            "text/plain": [
              "<IPython.core.display.Markdown object>"
            ]
          },
          "metadata": {},
          "output_type": "display_data"
        },
        {
          "data": {
            "text/markdown": [
              "* **order_date**: 1237"
            ],
            "text/plain": [
              "<IPython.core.display.Markdown object>"
            ]
          },
          "metadata": {},
          "output_type": "display_data"
        },
        {
          "data": {
            "text/markdown": [
              "* **ship_date**: 1334"
            ],
            "text/plain": [
              "<IPython.core.display.Markdown object>"
            ]
          },
          "metadata": {},
          "output_type": "display_data"
        },
        {
          "data": {
            "text/markdown": [
              "* **ship_mode**: 4"
            ],
            "text/plain": [
              "<IPython.core.display.Markdown object>"
            ]
          },
          "metadata": {},
          "output_type": "display_data"
        },
        {
          "data": {
            "text/markdown": [
              "* **customer_id**: 793"
            ],
            "text/plain": [
              "<IPython.core.display.Markdown object>"
            ]
          },
          "metadata": {},
          "output_type": "display_data"
        },
        {
          "data": {
            "text/markdown": [
              "* **customer_name**: 793"
            ],
            "text/plain": [
              "<IPython.core.display.Markdown object>"
            ]
          },
          "metadata": {},
          "output_type": "display_data"
        },
        {
          "data": {
            "text/markdown": [
              "* **segment**: 3"
            ],
            "text/plain": [
              "<IPython.core.display.Markdown object>"
            ]
          },
          "metadata": {},
          "output_type": "display_data"
        },
        {
          "data": {
            "text/markdown": [
              "* **country**: 1"
            ],
            "text/plain": [
              "<IPython.core.display.Markdown object>"
            ]
          },
          "metadata": {},
          "output_type": "display_data"
        },
        {
          "data": {
            "text/markdown": [
              "* **city**: 531"
            ],
            "text/plain": [
              "<IPython.core.display.Markdown object>"
            ]
          },
          "metadata": {},
          "output_type": "display_data"
        },
        {
          "data": {
            "text/markdown": [
              "* **state**: 49"
            ],
            "text/plain": [
              "<IPython.core.display.Markdown object>"
            ]
          },
          "metadata": {},
          "output_type": "display_data"
        },
        {
          "data": {
            "text/markdown": [
              "* **postal_code**: 631"
            ],
            "text/plain": [
              "<IPython.core.display.Markdown object>"
            ]
          },
          "metadata": {},
          "output_type": "display_data"
        },
        {
          "data": {
            "text/markdown": [
              "* **region**: 4"
            ],
            "text/plain": [
              "<IPython.core.display.Markdown object>"
            ]
          },
          "metadata": {},
          "output_type": "display_data"
        },
        {
          "data": {
            "text/markdown": [
              "* **product_id**: 1861"
            ],
            "text/plain": [
              "<IPython.core.display.Markdown object>"
            ]
          },
          "metadata": {},
          "output_type": "display_data"
        },
        {
          "data": {
            "text/markdown": [
              "* **category**: 3"
            ],
            "text/plain": [
              "<IPython.core.display.Markdown object>"
            ]
          },
          "metadata": {},
          "output_type": "display_data"
        },
        {
          "data": {
            "text/markdown": [
              "* **sub_category**: 17"
            ],
            "text/plain": [
              "<IPython.core.display.Markdown object>"
            ]
          },
          "metadata": {},
          "output_type": "display_data"
        },
        {
          "data": {
            "text/markdown": [
              "* **product_name**: 1849"
            ],
            "text/plain": [
              "<IPython.core.display.Markdown object>"
            ]
          },
          "metadata": {},
          "output_type": "display_data"
        },
        {
          "data": {
            "text/markdown": [
              "* **sales**: 5822"
            ],
            "text/plain": [
              "<IPython.core.display.Markdown object>"
            ]
          },
          "metadata": {},
          "output_type": "display_data"
        },
        {
          "data": {
            "text/markdown": [
              "* **profit**: 7172"
            ],
            "text/plain": [
              "<IPython.core.display.Markdown object>"
            ]
          },
          "metadata": {},
          "output_type": "display_data"
        }
      ],
      "source": [
        "# Informacion columnas\n",
        "\n",
        "cat_cols = df_market.select_dtypes(include=['object']).columns.tolist()\n",
        "for col in cat_cols:\n",
        "    (n_items, items) = get_column_items(df_market, col)\n",
        "    display(Markdown(f\"* **{col}**: {n_items}\"))\n",
        "\n",
        "\n",
        "\n",
        "\n",
        "\n",
        "\n",
        "\n"
      ]
    },
    {
      "cell_type": "code",
      "execution_count": 21,
      "metadata": {
        "id": "sRoiU43XHMjZ"
      },
      "outputs": [
        {
          "data": {
            "text/plain": [
              "4"
            ]
          },
          "execution_count": 21,
          "metadata": {},
          "output_type": "execute_result"
        }
      ],
      "source": [
        "df_market.ship_mode.nunique()"
      ]
    },
    {
      "cell_type": "code",
      "execution_count": 22,
      "metadata": {
        "id": "fjp0XqV9GmFs"
      },
      "outputs": [
        {
          "data": {
            "text/plain": [
              "793"
            ]
          },
          "execution_count": 22,
          "metadata": {},
          "output_type": "execute_result"
        }
      ],
      "source": [
        "# customer_id\n",
        "df_market.customer_id.nunique()"
      ]
    },
    {
      "cell_type": "code",
      "execution_count": 23,
      "metadata": {
        "id": "w-aBK3prIAbo"
      },
      "outputs": [
        {
          "data": {
            "text/plain": [
              "793"
            ]
          },
          "execution_count": 23,
          "metadata": {},
          "output_type": "execute_result"
        }
      ],
      "source": [
        "# customer_name\n",
        "df_market.customer_name.nunique()"
      ]
    },
    {
      "cell_type": "code",
      "execution_count": 24,
      "metadata": {
        "id": "zXlnC0-vHeot"
      },
      "outputs": [
        {
          "data": {
            "text/plain": [
              "order_date    1237\n",
              "dtype: int64"
            ]
          },
          "execution_count": 24,
          "metadata": {},
          "output_type": "execute_result"
        }
      ],
      "source": [
        "# order_date\n",
        "df_market[['order_date']].nunique()"
      ]
    },
    {
      "cell_type": "code",
      "execution_count": null,
      "metadata": {
        "id": "z8oeS_hhHsWt"
      },
      "outputs": [],
      "source": [
        "# ship_date\n",
        "df_market[['ship_date']].nunique()"
      ]
    },
    {
      "cell_type": "code",
      "execution_count": null,
      "metadata": {
        "id": "N_l1Xm9WIQ2K"
      },
      "outputs": [],
      "source": [
        "# segment\n",
        "df_market[['segment']].nunique()"
      ]
    },
    {
      "cell_type": "code",
      "execution_count": null,
      "metadata": {
        "id": "b-sv_nWIIaqL"
      },
      "outputs": [],
      "source": [
        "df_market.segment.unique()"
      ]
    },
    {
      "cell_type": "code",
      "execution_count": null,
      "metadata": {
        "id": "QzTQSOg0I26v"
      },
      "outputs": [],
      "source": [
        "# country\n",
        "df_market.country.nunique()"
      ]
    },
    {
      "cell_type": "code",
      "execution_count": null,
      "metadata": {
        "id": "nL2i6mWCI2U_"
      },
      "outputs": [],
      "source": [
        "df_market.country.unique()"
      ]
    },
    {
      "cell_type": "code",
      "execution_count": null,
      "metadata": {
        "id": "utX_5XpuKq8v"
      },
      "outputs": [],
      "source": [
        "df_market.state.unique()"
      ]
    },
    {
      "cell_type": "code",
      "execution_count": null,
      "metadata": {
        "id": "0DJ1UOiIJF4g"
      },
      "outputs": [],
      "source": [
        "# city\n",
        "df_market.city.nunique()"
      ]
    },
    {
      "cell_type": "code",
      "execution_count": null,
      "metadata": {
        "id": "2_EIexsZKeDt"
      },
      "outputs": [],
      "source": [
        "df_market.region.unique()"
      ]
    },
    {
      "cell_type": "code",
      "execution_count": null,
      "metadata": {
        "id": "ebxs-UXHJPPX"
      },
      "outputs": [],
      "source": [
        "# product_id\n",
        "df_market.product_id.nunique()"
      ]
    },
    {
      "cell_type": "code",
      "execution_count": null,
      "metadata": {
        "id": "IDVPeHzgJopO"
      },
      "outputs": [],
      "source": [
        "# category\n",
        "df_market.category.unique()"
      ]
    },
    {
      "cell_type": "code",
      "execution_count": null,
      "metadata": {
        "id": "nIeXUNybKRJz"
      },
      "outputs": [],
      "source": [
        "# sub_category\n",
        "df_market.sub_category.unique()"
      ]
    },
    {
      "cell_type": "code",
      "execution_count": null,
      "metadata": {
        "id": "Y1GN53fYJ0Vv"
      },
      "outputs": [],
      "source": [
        "# product_name\n",
        "df_market.product_name.unique()"
      ]
    },
    {
      "cell_type": "code",
      "execution_count": null,
      "metadata": {
        "id": "eMt6Np_MKEAj"
      },
      "outputs": [],
      "source": [
        "# product_id\n",
        "df_market.product_id.unique()"
      ]
    },
    {
      "cell_type": "markdown",
      "metadata": {},
      "source": [
        "## Conclusiones del trabajo\n",
        "\n",
        "* Conclusion 1\n",
        "* Conclusion 2\n",
        "* Conclusion 3\n",
        "* ..."
      ]
    },
    {
      "cell_type": "markdown",
      "metadata": {
        "id": "BrsBfLMmnMO0"
      },
      "source": [
        "## Referencias consultadas\n",
        "\n"
      ]
    }
  ],
  "metadata": {
    "colab": {
      "provenance": []
    },
    "kernelspec": {
      "display_name": "Python 3",
      "name": "python3"
    },
    "language_info": {
      "codemirror_mode": {
        "name": "ipython",
        "version": 3
      },
      "file_extension": ".py",
      "mimetype": "text/x-python",
      "name": "python",
      "nbconvert_exporter": "python",
      "pygments_lexer": "ipython3",
      "version": "3.9.13"
    }
  },
  "nbformat": 4,
  "nbformat_minor": 0
}
