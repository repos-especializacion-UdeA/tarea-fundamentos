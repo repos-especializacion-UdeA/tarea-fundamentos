{
  "cells": [
    {
      "cell_type": "code",
      "execution_count": 1,
      "metadata": {
        "id": "n9HPug0vmlf4"
      },
      "outputs": [],
      "source": [
        "import os\n",
        "import pandas as pd\n",
        "import numpy as np\n",
        "import seaborn as sns                       #visualisation\n",
        "import matplotlib.pyplot as plt             #visualisation\n",
        "from IPython.display import display, Markdown, display_html   # Para mostrar bonitas las cosas\n",
        "%matplotlib inline"
      ]
    },
    {
      "cell_type": "code",
      "execution_count": 5,
      "metadata": {
        "id": "1-CGucQs8OX9"
      },
      "outputs": [],
      "source": [
        "\"\"\"\n",
        "Funciones de utilidad para al carga y transformacion del dataframe inicial\n",
        "\"\"\"\n",
        "\n",
        "# Montaje del archivo\n",
        "def load_dataset(data_set):\n",
        "  try:\n",
        "    # montar el drive\n",
        "    result = pd.read_csv(data_set, encoding='ISO-8859-1',delimiter=';')\n",
        "    return result\n",
        "  except Exception as e:\n",
        "    # Error\n",
        "    print(f\"An unexpected error occurred: {e}\")\n",
        "    result = None\n",
        "\n",
        "\n",
        "# Convert Series to Markdown table\n",
        "def series_to_markdown(series):\n",
        "  # Agradecimientos: Inteligencia artificial generativa\n",
        "  markdown = \"| Index | Value |\\n|-------|-------|\\n\"\n",
        "  for idx, value in series.items():\n",
        "    markdown += f\"| {idx} | {value} |\\n\"\n",
        "  return markdown\n",
        "\n",
        "# Columnas como string\n",
        "def column_items_to_str(data_frame):\n",
        "  # Convert Index to a formatted Markdown string\n",
        "  str_cols = str(list(data_frame.columns)).strip(\"[]\")[1:-1]\n",
        "  return str_cols\n",
        "\n",
        "# Renombra las columnas del data_frame para que tengan nombres validos\n",
        "def rename_df_columns(data_frame):\n",
        "  data_frame.columns = data_frame.columns.str.lower()           # Minusculas\n",
        "  data_frame.columns = data_frame.columns.str.replace(' ','_')  # ' ' -> '_'\n",
        "  data_frame.columns = data_frame.columns.str.replace('-','_')  # '-' por '_'"
      ]
    },
    {
      "cell_type": "markdown",
      "metadata": {
        "id": "ua0Tocezm4Qz"
      },
      "source": [
        "# EDA"
      ]
    },
    {
      "cell_type": "markdown",
      "metadata": {
        "id": "A3aL6Zo7pZQw"
      },
      "source": [
        "## 0. Pasos previos"
      ]
    },
    {
      "cell_type": "markdown",
      "metadata": {
        "id": "QWDIoo1cnefI"
      },
      "source": [
        "## 1. Carga y previsualizacion de los datos\n",
        "\n",
        "> **Dataset**: Superstore Dataset [[link]](https://www.kaggle.com/datasets/vivek468/superstore-dataset-final)\n",
        "\n",
        "Los atributos el dataset se muestran a continuación:\n",
        "1. **Row ID**: Unique ID for each row.\n",
        "2. **Order ID**: ID del pedido para cada cliente.\n",
        "3. **Order Date**: Fecha del pedido del producto.\n",
        "4. **Ship Date**:  Fecha de envío del producto\n",
        "5. **Ship Mode**: Modo de envío especificado por el cliente.\n",
        "6. **Customer ID**: ID del cliente.\n",
        "7.  **Customer Name**: Nombre del cliente.\n",
        "8.  **Segment**: Segmento al que pertenece el cliente.\n",
        "9.  **Country**: País de residencia del cliente\n",
        "10. **City**: Ciudad de residencia del cliente.\n",
        "11. **State**: Estado de residencia del cliente.\n",
        "12. **Postal Code**:  Código postal de cada cliente.\n",
        "13. **Region**: Región a la que pertenece el cliente.\n",
        "14. **Product ID**: ID del producto.\n",
        "15. **Category**: Categoría del producto pedido.\n",
        "16. **Sub-Category**: Subcategoría del producto pedido.\n",
        "17. **Product Name**: Nombre del producto.\n",
        "18. **Sales**: Ventas del producto.\n",
        "19. **Quantity**: Cantidad del producto.\n",
        "20. **Discount**: Descuento proporcionado.\n",
        "21. **Profit**: Ganancia/pérdida generada."
      ]
    },
    {
      "cell_type": "markdown",
      "metadata": {
        "id": "eqiZ-asdK1Hc"
      },
      "source": [
        " - [ ] Funciones que retornen los valores asociados a los datos categoricos.\n",
        " - [ ] Producto mas vendido\n",
        " - [ ] ...\n"
      ]
    },
    {
      "cell_type": "markdown",
      "metadata": {
        "id": "pcGMNn5HnnsI"
      },
      "source": [
        "### 1.1. Carga del dataset"
      ]
    },
    {
      "cell_type": "code",
      "execution_count": 8,
      "metadata": {
        "id": "2LDqU7RDPESE"
      },
      "outputs": [],
      "source": [
        "url_data = \"https://github.com/tigarto/tarea-fundamentos/raw/main/data_market.csv\"\n",
        "df_market_original = load_dataset(data_set = url_data)"
      ]
    },
    {
      "cell_type": "markdown",
      "metadata": {
        "id": "yavtddejns7Q"
      },
      "source": [
        "### 1.2. Previsualizacion de los datos"
      ]
    },
    {
      "cell_type": "code",
      "execution_count": 9,
      "metadata": {
        "colab": {
          "base_uri": "https://localhost:8080/",
          "height": 300
        },
        "id": "bS09BgsEnsFy",
        "outputId": "a25bad18-eb5d-4d83-c102-bc8fe9c77819"
      },
      "outputs": [
        {
          "data": {
            "text/html": [
              "<div>\n",
              "<style scoped>\n",
              "    .dataframe tbody tr th:only-of-type {\n",
              "        vertical-align: middle;\n",
              "    }\n",
              "\n",
              "    .dataframe tbody tr th {\n",
              "        vertical-align: top;\n",
              "    }\n",
              "\n",
              "    .dataframe thead th {\n",
              "        text-align: right;\n",
              "    }\n",
              "</style>\n",
              "<table border=\"1\" class=\"dataframe\">\n",
              "  <thead>\n",
              "    <tr style=\"text-align: right;\">\n",
              "      <th></th>\n",
              "      <th>Row ID</th>\n",
              "      <th>Order ID</th>\n",
              "      <th>Order Date</th>\n",
              "      <th>Ship Date</th>\n",
              "      <th>Ship Mode</th>\n",
              "      <th>Customer ID</th>\n",
              "      <th>Customer Name</th>\n",
              "      <th>Segment</th>\n",
              "      <th>Country</th>\n",
              "      <th>City</th>\n",
              "      <th>...</th>\n",
              "      <th>Postal Code</th>\n",
              "      <th>Region</th>\n",
              "      <th>Product ID</th>\n",
              "      <th>Category</th>\n",
              "      <th>Sub-Category</th>\n",
              "      <th>Product Name</th>\n",
              "      <th>Sales</th>\n",
              "      <th>Quantity</th>\n",
              "      <th>Discount</th>\n",
              "      <th>Profit</th>\n",
              "    </tr>\n",
              "  </thead>\n",
              "  <tbody>\n",
              "    <tr>\n",
              "      <th>0</th>\n",
              "      <td>1</td>\n",
              "      <td>CA-2016-152156</td>\n",
              "      <td>11/08/2016</td>\n",
              "      <td>11/11/2016</td>\n",
              "      <td>Second Class</td>\n",
              "      <td>CG-12520</td>\n",
              "      <td>Claire Gute</td>\n",
              "      <td>Consumer</td>\n",
              "      <td>United States</td>\n",
              "      <td>Henderson</td>\n",
              "      <td>...</td>\n",
              "      <td>42420</td>\n",
              "      <td>South</td>\n",
              "      <td>FUR-BO-10001798</td>\n",
              "      <td>Furniture</td>\n",
              "      <td>Bookcases</td>\n",
              "      <td>Bush Somerset Collection Bookcase</td>\n",
              "      <td>261.96</td>\n",
              "      <td>2.0</td>\n",
              "      <td>0.0</td>\n",
              "      <td>419.136</td>\n",
              "    </tr>\n",
              "    <tr>\n",
              "      <th>1</th>\n",
              "      <td>2</td>\n",
              "      <td>CA-2016-152156</td>\n",
              "      <td>11/08/2016</td>\n",
              "      <td>11/11/2016</td>\n",
              "      <td>Second Class</td>\n",
              "      <td>CG-12520</td>\n",
              "      <td>Claire Gute</td>\n",
              "      <td>Consumer</td>\n",
              "      <td>United States</td>\n",
              "      <td>Henderson</td>\n",
              "      <td>...</td>\n",
              "      <td>42420</td>\n",
              "      <td>South</td>\n",
              "      <td>FUR-CH-10000454</td>\n",
              "      <td>Furniture</td>\n",
              "      <td>Chairs</td>\n",
              "      <td>Hon Deluxe Fabric Upholstered Stacking Chairs,...</td>\n",
              "      <td>731.94</td>\n",
              "      <td>3.0</td>\n",
              "      <td>0.0</td>\n",
              "      <td>219.582</td>\n",
              "    </tr>\n",
              "  </tbody>\n",
              "</table>\n",
              "<p>2 rows × 21 columns</p>\n",
              "</div>"
            ],
            "text/plain": [
              "   Row ID        Order ID  Order Date   Ship Date     Ship Mode Customer ID  \\\n",
              "0       1  CA-2016-152156  11/08/2016  11/11/2016  Second Class    CG-12520   \n",
              "1       2  CA-2016-152156  11/08/2016  11/11/2016  Second Class    CG-12520   \n",
              "\n",
              "  Customer Name   Segment        Country       City  ... Postal Code  Region  \\\n",
              "0   Claire Gute  Consumer  United States  Henderson  ...       42420   South   \n",
              "1   Claire Gute  Consumer  United States  Henderson  ...       42420   South   \n",
              "\n",
              "        Product ID   Category Sub-Category  \\\n",
              "0  FUR-BO-10001798  Furniture    Bookcases   \n",
              "1  FUR-CH-10000454  Furniture       Chairs   \n",
              "\n",
              "                                        Product Name   Sales Quantity  \\\n",
              "0                  Bush Somerset Collection Bookcase  261.96      2.0   \n",
              "1  Hon Deluxe Fabric Upholstered Stacking Chairs,...  731.94      3.0   \n",
              "\n",
              "   Discount   Profit  \n",
              "0       0.0  419.136  \n",
              "1       0.0  219.582  \n",
              "\n",
              "[2 rows x 21 columns]"
            ]
          },
          "execution_count": 9,
          "metadata": {},
          "output_type": "execute_result"
        }
      ],
      "source": [
        "df_market_original.head(2)"
      ]
    },
    {
      "cell_type": "markdown",
      "metadata": {
        "id": "cM1Jo74Pn-Zb"
      },
      "source": [
        "### 1.3. Información básica"
      ]
    },
    {
      "cell_type": "code",
      "execution_count": 10,
      "metadata": {
        "colab": {
          "base_uri": "https://localhost:8080/",
          "height": 1000
        },
        "id": "WRmbmLUf8jfF",
        "outputId": "cb9076c0-015b-4005-fa38-e97388ca0b81"
      },
      "outputs": [
        {
          "data": {
            "text/markdown": [
              "### ----------- Info dataframe -----------"
            ],
            "text/plain": [
              "<IPython.core.display.Markdown object>"
            ]
          },
          "metadata": {},
          "output_type": "display_data"
        },
        {
          "data": {
            "text/markdown": [
              "* **Filas**: 9994"
            ],
            "text/plain": [
              "<IPython.core.display.Markdown object>"
            ]
          },
          "metadata": {},
          "output_type": "display_data"
        },
        {
          "data": {
            "text/markdown": [
              "* **Columnas**: 21"
            ],
            "text/plain": [
              "<IPython.core.display.Markdown object>"
            ]
          },
          "metadata": {},
          "output_type": "display_data"
        },
        {
          "data": {
            "text/markdown": [
              "* **Columnas:** Row ID', 'Order ID', 'Order Date', 'Ship Date', 'Ship Mode', 'Customer ID', 'Customer Name', 'Segment', 'Country', 'City', 'State', 'Postal Code', 'Region', 'Product ID', 'Category', 'Sub-Category', 'Product Name', 'Sales', 'Quantity', 'Discount', 'Profit"
            ],
            "text/plain": [
              "<IPython.core.display.Markdown object>"
            ]
          },
          "metadata": {},
          "output_type": "display_data"
        },
        {
          "data": {
            "text/markdown": [
              "###----------- Tipos de datos -----------"
            ],
            "text/plain": [
              "<IPython.core.display.Markdown object>"
            ]
          },
          "metadata": {},
          "output_type": "display_data"
        },
        {
          "data": {
            "text/plain": [
              "Row ID             int64\n",
              "Order ID          object\n",
              "Order Date        object\n",
              "Ship Date         object\n",
              "Ship Mode         object\n",
              "Customer ID       object\n",
              "Customer Name     object\n",
              "Segment           object\n",
              "Country           object\n",
              "City              object\n",
              "State             object\n",
              "Postal Code        int64\n",
              "Region            object\n",
              "Product ID        object\n",
              "Category          object\n",
              "Sub-Category      object\n",
              "Product Name      object\n",
              "Sales             object\n",
              "Quantity         float64\n",
              "Discount         float64\n",
              "Profit            object\n",
              "dtype: object"
            ]
          },
          "metadata": {},
          "output_type": "display_data"
        },
        {
          "data": {
            "text/markdown": [
              "###----------- Conclusiones -----------\n",
              "- El tipo de dato **Postal Code** debe ser categorico. \n",
              "- La columna **Row ID** puede ser empleada como index del dataframe. \n",
              "- Es necesario cambiar los nombres de las columnas para que sean validos. \n",
              "- Hay 6 filas con datos faltantes, de deben analizar para ver si justifica borrarlos."
            ],
            "text/plain": [
              "<IPython.core.display.Markdown object>"
            ]
          },
          "metadata": {},
          "output_type": "display_data"
        }
      ],
      "source": [
        "# Informacion basica del dataframe cargado\n",
        "display(Markdown(\"### ----------- Info dataframe -----------\"))\n",
        "# Tamaño\n",
        "(f,c) = df_market_original.shape\n",
        "display(Markdown(f\"* **Filas**: {f}\"))\n",
        "display(Markdown(f\"* **Columnas**: {c}\"))\n",
        "\n",
        "# Columnas\n",
        "str_cols = column_items_to_str(df_market_original)\n",
        "markdown_str_cols = Markdown(f\"* **Columnas:** {str_cols}\")\n",
        "display(markdown_str_cols)\n",
        "\n",
        "# Tipos de datos\n",
        "display(Markdown(\"###----------- Tipos de datos -----------\"))\n",
        "display(df_market_original.dtypes)\n",
        "\n",
        "# Datos faltantes\n",
        "num_faltantes = df_market_original.isnull().any(axis=1).sum()\n",
        "\n",
        "\n",
        "# Conclusiones iniciales\n",
        "markdown_str = \"###----------- Conclusiones -----------\\n\" + \\\n",
        "               f\"- El tipo de dato **Postal Code** debe ser categorico. \\n\" + \\\n",
        "               f\"- La columna **Row ID** puede ser empleada como index del dataframe. \\n\" + \\\n",
        "               f\"- Es necesario cambiar los nombres de las columnas para que sean validos. \\n\" + \\\n",
        "               f\"- Hay {num_faltantes} filas con datos faltantes, de deben analizar para ver si justifica borrarlos.\"\n",
        "display(Markdown(markdown_str))"
      ]
    },
    {
      "cell_type": "code",
      "execution_count": 11,
      "metadata": {
        "colab": {
          "base_uri": "https://localhost:8080/",
          "height": 743
        },
        "id": "o8P9obK_ekYd",
        "outputId": "6630fb35-5ce8-40d3-eaef-be60887fe1a5"
      },
      "outputs": [
        {
          "data": {
            "text/plain": [
              "Row ID           0\n",
              "Order ID         0\n",
              "Order Date       0\n",
              "Ship Date        0\n",
              "Ship Mode        0\n",
              "Customer ID      0\n",
              "Customer Name    0\n",
              "Segment          0\n",
              "Country          0\n",
              "City             0\n",
              "State            0\n",
              "Postal Code      0\n",
              "Region           0\n",
              "Product ID       0\n",
              "Category         0\n",
              "Sub-Category     0\n",
              "Product Name     0\n",
              "Sales            6\n",
              "Quantity         6\n",
              "Discount         6\n",
              "Profit           6\n",
              "dtype: int64"
            ]
          },
          "execution_count": 11,
          "metadata": {},
          "output_type": "execute_result"
        }
      ],
      "source": [
        "df_market_original.isna().sum()"
      ]
    },
    {
      "cell_type": "code",
      "execution_count": 12,
      "metadata": {
        "colab": {
          "base_uri": "https://localhost:8080/",
          "height": 1000
        },
        "id": "JVaiBh7rbMuf",
        "outputId": "a8f8f51e-a093-4ae2-834d-d09798051526"
      },
      "outputs": [
        {
          "data": {
            "text/markdown": [
              "### ----------- Tipos de datos -----------"
            ],
            "text/plain": [
              "<IPython.core.display.Markdown object>"
            ]
          },
          "metadata": {},
          "output_type": "display_data"
        },
        {
          "data": {
            "text/plain": [
              "order_id          object\n",
              "order_date        object\n",
              "ship_date         object\n",
              "ship_mode         object\n",
              "customer_id       object\n",
              "customer_name     object\n",
              "segment           object\n",
              "country           object\n",
              "city              object\n",
              "state             object\n",
              "postal_code       object\n",
              "region            object\n",
              "product_id        object\n",
              "category          object\n",
              "sub_category      object\n",
              "product_name      object\n",
              "sales             object\n",
              "quantity         float64\n",
              "discount         float64\n",
              "profit            object\n",
              "dtype: object"
            ]
          },
          "metadata": {},
          "output_type": "display_data"
        },
        {
          "data": {
            "text/markdown": [
              "### ----------- Columnas con datos faltantes -----------"
            ],
            "text/plain": [
              "<IPython.core.display.Markdown object>"
            ]
          },
          "metadata": {},
          "output_type": "display_data"
        },
        {
          "data": {
            "text/html": [
              "<div>\n",
              "<style scoped>\n",
              "    .dataframe tbody tr th:only-of-type {\n",
              "        vertical-align: middle;\n",
              "    }\n",
              "\n",
              "    .dataframe tbody tr th {\n",
              "        vertical-align: top;\n",
              "    }\n",
              "\n",
              "    .dataframe thead th {\n",
              "        text-align: right;\n",
              "    }\n",
              "</style>\n",
              "<table border=\"1\" class=\"dataframe\">\n",
              "  <thead>\n",
              "    <tr style=\"text-align: right;\">\n",
              "      <th></th>\n",
              "      <th>order_id</th>\n",
              "      <th>order_date</th>\n",
              "      <th>ship_date</th>\n",
              "      <th>ship_mode</th>\n",
              "      <th>customer_id</th>\n",
              "      <th>customer_name</th>\n",
              "      <th>segment</th>\n",
              "      <th>country</th>\n",
              "      <th>city</th>\n",
              "      <th>state</th>\n",
              "      <th>postal_code</th>\n",
              "      <th>region</th>\n",
              "      <th>product_id</th>\n",
              "      <th>category</th>\n",
              "      <th>sub_category</th>\n",
              "      <th>product_name</th>\n",
              "      <th>sales</th>\n",
              "      <th>quantity</th>\n",
              "      <th>discount</th>\n",
              "      <th>profit</th>\n",
              "    </tr>\n",
              "    <tr>\n",
              "      <th>row_id</th>\n",
              "      <th></th>\n",
              "      <th></th>\n",
              "      <th></th>\n",
              "      <th></th>\n",
              "      <th></th>\n",
              "      <th></th>\n",
              "      <th></th>\n",
              "      <th></th>\n",
              "      <th></th>\n",
              "      <th></th>\n",
              "      <th></th>\n",
              "      <th></th>\n",
              "      <th></th>\n",
              "      <th></th>\n",
              "      <th></th>\n",
              "      <th></th>\n",
              "      <th></th>\n",
              "      <th></th>\n",
              "      <th></th>\n",
              "      <th></th>\n",
              "    </tr>\n",
              "  </thead>\n",
              "  <tbody>\n",
              "    <tr>\n",
              "      <th>182</th>\n",
              "      <td>CA-2014-166191</td>\n",
              "      <td>12/05/2014</td>\n",
              "      <td>12/09/2014</td>\n",
              "      <td>Second Class</td>\n",
              "      <td>DK-13150</td>\n",
              "      <td>David Kendrick</td>\n",
              "      <td>Corporate</td>\n",
              "      <td>United States</td>\n",
              "      <td>Decatur</td>\n",
              "      <td>Illinois</td>\n",
              "      <td>62521</td>\n",
              "      <td>Central</td>\n",
              "      <td>TEC-AC-10004659</td>\n",
              "      <td>Technology</td>\n",
              "      <td>Accessories</td>\n",
              "      <td>Imation Secure+ Hardware Encrypted USB 2.0 Fla...</td>\n",
              "      <td>NaN</td>\n",
              "      <td>NaN</td>\n",
              "      <td>NaN</td>\n",
              "      <td>NaN</td>\n",
              "    </tr>\n",
              "    <tr>\n",
              "      <th>431</th>\n",
              "      <td>US-2016-123750</td>\n",
              "      <td>4/15/2016</td>\n",
              "      <td>4/21/2016</td>\n",
              "      <td>Standard Class</td>\n",
              "      <td>RB-19795</td>\n",
              "      <td>Ross Baird</td>\n",
              "      <td>Home Office</td>\n",
              "      <td>United States</td>\n",
              "      <td>Gastonia</td>\n",
              "      <td>North Carolina</td>\n",
              "      <td>28052</td>\n",
              "      <td>South</td>\n",
              "      <td>TEC-AC-10004659</td>\n",
              "      <td>Technology</td>\n",
              "      <td>Accessories</td>\n",
              "      <td>Imation Secure+ Hardware Encrypted USB 2.0 Fla...</td>\n",
              "      <td>NaN</td>\n",
              "      <td>NaN</td>\n",
              "      <td>NaN</td>\n",
              "      <td>NaN</td>\n",
              "    </tr>\n",
              "    <tr>\n",
              "      <th>432</th>\n",
              "      <td>US-2016-123750</td>\n",
              "      <td>4/15/2016</td>\n",
              "      <td>4/21/2016</td>\n",
              "      <td>Standard Class</td>\n",
              "      <td>RB-19795</td>\n",
              "      <td>Ross Baird</td>\n",
              "      <td>Home Office</td>\n",
              "      <td>United States</td>\n",
              "      <td>Gastonia</td>\n",
              "      <td>North Carolina</td>\n",
              "      <td>28052</td>\n",
              "      <td>South</td>\n",
              "      <td>TEC-AC-10004659</td>\n",
              "      <td>Technology</td>\n",
              "      <td>Accessories</td>\n",
              "      <td>Imation Secure+ Hardware Encrypted USB 2.0 Fla...</td>\n",
              "      <td>NaN</td>\n",
              "      <td>NaN</td>\n",
              "      <td>NaN</td>\n",
              "      <td>NaN</td>\n",
              "    </tr>\n",
              "    <tr>\n",
              "      <th>1407</th>\n",
              "      <td>US-2014-118486</td>\n",
              "      <td>4/06/2014</td>\n",
              "      <td>4/08/2014</td>\n",
              "      <td>First Class</td>\n",
              "      <td>SD-20485</td>\n",
              "      <td>Shirley Daniels</td>\n",
              "      <td>Home Office</td>\n",
              "      <td>United States</td>\n",
              "      <td>Philadelphia</td>\n",
              "      <td>Pennsylvania</td>\n",
              "      <td>19143</td>\n",
              "      <td>East</td>\n",
              "      <td>TEC-AC-10004659</td>\n",
              "      <td>Technology</td>\n",
              "      <td>Accessories</td>\n",
              "      <td>Imation Secure+ Hardware Encrypted USB 2.0 Fla...</td>\n",
              "      <td>NaN</td>\n",
              "      <td>NaN</td>\n",
              "      <td>NaN</td>\n",
              "      <td>NaN</td>\n",
              "    </tr>\n",
              "    <tr>\n",
              "      <th>1970</th>\n",
              "      <td>CA-2017-117485</td>\n",
              "      <td>9/23/2017</td>\n",
              "      <td>9/29/2017</td>\n",
              "      <td>Standard Class</td>\n",
              "      <td>BD-11320</td>\n",
              "      <td>Bill Donatelli</td>\n",
              "      <td>Consumer</td>\n",
              "      <td>United States</td>\n",
              "      <td>Tulsa</td>\n",
              "      <td>Oklahoma</td>\n",
              "      <td>74133</td>\n",
              "      <td>Central</td>\n",
              "      <td>TEC-AC-10004659</td>\n",
              "      <td>Technology</td>\n",
              "      <td>Accessories</td>\n",
              "      <td>Imation Secure+ Hardware Encrypted USB 2.0 Fla...</td>\n",
              "      <td>NaN</td>\n",
              "      <td>NaN</td>\n",
              "      <td>NaN</td>\n",
              "      <td>NaN</td>\n",
              "    </tr>\n",
              "    <tr>\n",
              "      <th>1972</th>\n",
              "      <td>CA-2017-140242</td>\n",
              "      <td>5/06/2017</td>\n",
              "      <td>5/11/2017</td>\n",
              "      <td>Standard Class</td>\n",
              "      <td>ML-17755</td>\n",
              "      <td>Max Ludwig</td>\n",
              "      <td>Home Office</td>\n",
              "      <td>United States</td>\n",
              "      <td>Chicago</td>\n",
              "      <td>Illinois</td>\n",
              "      <td>60623</td>\n",
              "      <td>Central</td>\n",
              "      <td>TEC-AC-10004659</td>\n",
              "      <td>Technology</td>\n",
              "      <td>Accessories</td>\n",
              "      <td>Imation Secure+ Hardware Encrypted USB 2.0 Fla...</td>\n",
              "      <td>NaN</td>\n",
              "      <td>NaN</td>\n",
              "      <td>NaN</td>\n",
              "      <td>NaN</td>\n",
              "    </tr>\n",
              "  </tbody>\n",
              "</table>\n",
              "</div>"
            ],
            "text/plain": [
              "              order_id  order_date   ship_date       ship_mode customer_id  \\\n",
              "row_id                                                                       \n",
              "182     CA-2014-166191  12/05/2014  12/09/2014    Second Class    DK-13150   \n",
              "431     US-2016-123750   4/15/2016   4/21/2016  Standard Class    RB-19795   \n",
              "432     US-2016-123750   4/15/2016   4/21/2016  Standard Class    RB-19795   \n",
              "1407    US-2014-118486   4/06/2014   4/08/2014     First Class    SD-20485   \n",
              "1970    CA-2017-117485   9/23/2017   9/29/2017  Standard Class    BD-11320   \n",
              "1972    CA-2017-140242   5/06/2017   5/11/2017  Standard Class    ML-17755   \n",
              "\n",
              "          customer_name      segment        country          city  \\\n",
              "row_id                                                              \n",
              "182      David Kendrick    Corporate  United States       Decatur   \n",
              "431          Ross Baird  Home Office  United States      Gastonia   \n",
              "432          Ross Baird  Home Office  United States      Gastonia   \n",
              "1407    Shirley Daniels  Home Office  United States  Philadelphia   \n",
              "1970     Bill Donatelli     Consumer  United States         Tulsa   \n",
              "1972         Max Ludwig  Home Office  United States       Chicago   \n",
              "\n",
              "                 state postal_code   region       product_id    category  \\\n",
              "row_id                                                                     \n",
              "182           Illinois       62521  Central  TEC-AC-10004659  Technology   \n",
              "431     North Carolina       28052    South  TEC-AC-10004659  Technology   \n",
              "432     North Carolina       28052    South  TEC-AC-10004659  Technology   \n",
              "1407      Pennsylvania       19143     East  TEC-AC-10004659  Technology   \n",
              "1970          Oklahoma       74133  Central  TEC-AC-10004659  Technology   \n",
              "1972          Illinois       60623  Central  TEC-AC-10004659  Technology   \n",
              "\n",
              "       sub_category                                       product_name sales  \\\n",
              "row_id                                                                         \n",
              "182     Accessories  Imation Secure+ Hardware Encrypted USB 2.0 Fla...   NaN   \n",
              "431     Accessories  Imation Secure+ Hardware Encrypted USB 2.0 Fla...   NaN   \n",
              "432     Accessories  Imation Secure+ Hardware Encrypted USB 2.0 Fla...   NaN   \n",
              "1407    Accessories  Imation Secure+ Hardware Encrypted USB 2.0 Fla...   NaN   \n",
              "1970    Accessories  Imation Secure+ Hardware Encrypted USB 2.0 Fla...   NaN   \n",
              "1972    Accessories  Imation Secure+ Hardware Encrypted USB 2.0 Fla...   NaN   \n",
              "\n",
              "        quantity  discount profit  \n",
              "row_id                             \n",
              "182          NaN       NaN    NaN  \n",
              "431          NaN       NaN    NaN  \n",
              "432          NaN       NaN    NaN  \n",
              "1407         NaN       NaN    NaN  \n",
              "1970         NaN       NaN    NaN  \n",
              "1972         NaN       NaN    NaN  "
            ]
          },
          "metadata": {},
          "output_type": "display_data"
        },
        {
          "data": {
            "text/markdown": [
              "\n",
              " * **Conclusión**: Si justifica eliminar las columnas pues son muy pocos datos del total"
            ],
            "text/plain": [
              "<IPython.core.display.Markdown object>"
            ]
          },
          "metadata": {},
          "output_type": "display_data"
        },
        {
          "data": {
            "text/markdown": [
              "### ----------- Actualizacion de la filas -----------"
            ],
            "text/plain": [
              "<IPython.core.display.Markdown object>"
            ]
          },
          "metadata": {},
          "output_type": "display_data"
        },
        {
          "data": {
            "text/markdown": [
              "\n",
              " * **Numero de columnas con datos vacios**: 0"
            ],
            "text/plain": [
              "<IPython.core.display.Markdown object>"
            ]
          },
          "metadata": {},
          "output_type": "display_data"
        },
        {
          "data": {
            "text/markdown": [
              "\n",
              " * **Filas**: 9988"
            ],
            "text/plain": [
              "<IPython.core.display.Markdown object>"
            ]
          },
          "metadata": {},
          "output_type": "display_data"
        },
        {
          "data": {
            "text/markdown": [
              "\n",
              " * **Columnas**: 20"
            ],
            "text/plain": [
              "<IPython.core.display.Markdown object>"
            ]
          },
          "metadata": {},
          "output_type": "display_data"
        }
      ],
      "source": [
        "\"\"\"\n",
        "Dataframe modificado de acuerdo a las conclusiones anteriormente arrojadas\n",
        "\"\"\"\n",
        "# Renombrado de columnas\n",
        "df_market = df_market_original.copy()\n",
        "rename_df_columns(df_market)\n",
        "# Fijando el nuevo index\n",
        "df_market.set_index('row_id',inplace= True)\n",
        "# Cambio del tipo de dato asociado al codigo postal\n",
        "df_market[['postal_code']] = df_market[['postal_code']].astype('object')\n",
        "display(Markdown(\"### ----------- Tipos de datos -----------\"))\n",
        "display(df_market.dtypes)\n",
        "# Revision de las columnas con datos faltantes\n",
        "display(Markdown(\"### ----------- Columnas con datos faltantes -----------\"))\n",
        "display(df_market[df_market.quantity.isna()])\n",
        "display(Markdown(\"\\n * **Conclusión**: Si justifica eliminar las columnas pues son muy pocos datos del total\"))\n",
        "df_market.dropna(axis=0, inplace=True)\n",
        "# Informacion despues de hacer los cambios\n",
        "display(Markdown(\"### ----------- Actualizacion de la filas -----------\"))\n",
        "display(Markdown(f\"\\n * **Numero de columnas con datos vacios**: {df_market.isnull().any(axis=1).sum()}\"))\n",
        "display(Markdown(f\"\\n * **Filas**: {df_market.shape[0]}\"))\n",
        "display(Markdown(f\"\\n * **Columnas**: {df_market.shape[1]}\"))"
      ]
    },
    {
      "cell_type": "code",
      "execution_count": 163,
      "metadata": {
        "colab": {
          "base_uri": "https://localhost:8080/",
          "height": 524
        },
        "id": "JU0VU6kehSnC",
        "outputId": "0af762f3-b6ab-4964-e217-3a01d08a8e7e"
      },
      "outputs": [
        {
          "data": {
            "text/markdown": [
              "### ----------- Dataframe actualizado -----------"
            ],
            "text/plain": [
              "<IPython.core.display.Markdown object>"
            ]
          },
          "metadata": {},
          "output_type": "display_data"
        },
        {
          "data": {
            "application/vnd.google.colaboratory.intrinsic+json": {
              "summary": "{\n  \"name\": \"                  contendra esta informacion se llamara `df_market`\\\"))\",\n  \"rows\": 3,\n  \"fields\": [\n    {\n      \"column\": \"row_id\",\n      \"properties\": {\n        \"dtype\": \"number\",\n        \"std\": 1,\n        \"min\": 1,\n        \"max\": 3,\n        \"num_unique_values\": 3,\n        \"samples\": [\n          1,\n          2,\n          3\n        ],\n        \"semantic_type\": \"\",\n        \"description\": \"\"\n      }\n    },\n    {\n      \"column\": \"order_id\",\n      \"properties\": {\n        \"dtype\": \"string\",\n        \"num_unique_values\": 2,\n        \"samples\": [\n          \"CA-2016-138688\",\n          \"CA-2016-152156\"\n        ],\n        \"semantic_type\": \"\",\n        \"description\": \"\"\n      }\n    },\n    {\n      \"column\": \"order_date\",\n      \"properties\": {\n        \"dtype\": \"object\",\n        \"num_unique_values\": 2,\n        \"samples\": [\n          \"6/12/2016\",\n          \"11/08/2016\"\n        ],\n        \"semantic_type\": \"\",\n        \"description\": \"\"\n      }\n    },\n    {\n      \"column\": \"ship_date\",\n      \"properties\": {\n        \"dtype\": \"object\",\n        \"num_unique_values\": 2,\n        \"samples\": [\n          \"6/16/2016\",\n          \"11/11/2016\"\n        ],\n        \"semantic_type\": \"\",\n        \"description\": \"\"\n      }\n    },\n    {\n      \"column\": \"ship_mode\",\n      \"properties\": {\n        \"dtype\": \"category\",\n        \"num_unique_values\": 1,\n        \"samples\": [\n          \"Second Class\"\n        ],\n        \"semantic_type\": \"\",\n        \"description\": \"\"\n      }\n    },\n    {\n      \"column\": \"customer_id\",\n      \"properties\": {\n        \"dtype\": \"string\",\n        \"num_unique_values\": 2,\n        \"samples\": [\n          \"DV-13045\"\n        ],\n        \"semantic_type\": \"\",\n        \"description\": \"\"\n      }\n    },\n    {\n      \"column\": \"customer_name\",\n      \"properties\": {\n        \"dtype\": \"string\",\n        \"num_unique_values\": 2,\n        \"samples\": [\n          \"Darrin Van Huff\"\n        ],\n        \"semantic_type\": \"\",\n        \"description\": \"\"\n      }\n    },\n    {\n      \"column\": \"segment\",\n      \"properties\": {\n        \"dtype\": \"string\",\n        \"num_unique_values\": 2,\n        \"samples\": [\n          \"Corporate\"\n        ],\n        \"semantic_type\": \"\",\n        \"description\": \"\"\n      }\n    },\n    {\n      \"column\": \"country\",\n      \"properties\": {\n        \"dtype\": \"category\",\n        \"num_unique_values\": 1,\n        \"samples\": [\n          \"United States\"\n        ],\n        \"semantic_type\": \"\",\n        \"description\": \"\"\n      }\n    },\n    {\n      \"column\": \"city\",\n      \"properties\": {\n        \"dtype\": \"string\",\n        \"num_unique_values\": 2,\n        \"samples\": [\n          \"Los Angeles\"\n        ],\n        \"semantic_type\": \"\",\n        \"description\": \"\"\n      }\n    },\n    {\n      \"column\": \"state\",\n      \"properties\": {\n        \"dtype\": \"string\",\n        \"num_unique_values\": 2,\n        \"samples\": [\n          \"California\"\n        ],\n        \"semantic_type\": \"\",\n        \"description\": \"\"\n      }\n    },\n    {\n      \"column\": \"postal_code\",\n      \"properties\": {\n        \"dtype\": \"date\",\n        \"min\": 42420,\n        \"max\": 90036,\n        \"num_unique_values\": 2,\n        \"samples\": [\n          90036\n        ],\n        \"semantic_type\": \"\",\n        \"description\": \"\"\n      }\n    },\n    {\n      \"column\": \"region\",\n      \"properties\": {\n        \"dtype\": \"string\",\n        \"num_unique_values\": 2,\n        \"samples\": [\n          \"West\"\n        ],\n        \"semantic_type\": \"\",\n        \"description\": \"\"\n      }\n    },\n    {\n      \"column\": \"product_id\",\n      \"properties\": {\n        \"dtype\": \"string\",\n        \"num_unique_values\": 3,\n        \"samples\": [\n          \"FUR-BO-10001798\"\n        ],\n        \"semantic_type\": \"\",\n        \"description\": \"\"\n      }\n    },\n    {\n      \"column\": \"category\",\n      \"properties\": {\n        \"dtype\": \"string\",\n        \"num_unique_values\": 2,\n        \"samples\": [\n          \"Office Supplies\"\n        ],\n        \"semantic_type\": \"\",\n        \"description\": \"\"\n      }\n    },\n    {\n      \"column\": \"sub_category\",\n      \"properties\": {\n        \"dtype\": \"string\",\n        \"num_unique_values\": 3,\n        \"samples\": [\n          \"Bookcases\"\n        ],\n        \"semantic_type\": \"\",\n        \"description\": \"\"\n      }\n    },\n    {\n      \"column\": \"product_name\",\n      \"properties\": {\n        \"dtype\": \"string\",\n        \"num_unique_values\": 3,\n        \"samples\": [\n          \"Bush Somerset Collection Bookcase\"\n        ],\n        \"semantic_type\": \"\",\n        \"description\": \"\"\n      }\n    },\n    {\n      \"column\": \"sales\",\n      \"properties\": {\n        \"dtype\": \"string\",\n        \"num_unique_values\": 3,\n        \"samples\": [\n          \"261.96\"\n        ],\n        \"semantic_type\": \"\",\n        \"description\": \"\"\n      }\n    },\n    {\n      \"column\": \"quantity\",\n      \"properties\": {\n        \"dtype\": \"number\",\n        \"std\": 0.5773502691896258,\n        \"min\": 2.0,\n        \"max\": 3.0,\n        \"num_unique_values\": 2,\n        \"samples\": [\n          3.0\n        ],\n        \"semantic_type\": \"\",\n        \"description\": \"\"\n      }\n    },\n    {\n      \"column\": \"discount\",\n      \"properties\": {\n        \"dtype\": \"number\",\n        \"std\": 0.0,\n        \"min\": 0.0,\n        \"max\": 0.0,\n        \"num_unique_values\": 1,\n        \"samples\": [\n          0.0\n        ],\n        \"semantic_type\": \"\",\n        \"description\": \"\"\n      }\n    },\n    {\n      \"column\": \"profit\",\n      \"properties\": {\n        \"dtype\": \"string\",\n        \"num_unique_values\": 3,\n        \"samples\": [\n          \"419.136\"\n        ],\n        \"semantic_type\": \"\",\n        \"description\": \"\"\n      }\n    }\n  ]\n}",
              "type": "dataframe"
            },
            "text/html": [
              "\n",
              "  <div id=\"df-61495f65-cc41-4eee-8ea5-d888660193ad\" class=\"colab-df-container\">\n",
              "    <div>\n",
              "<style scoped>\n",
              "    .dataframe tbody tr th:only-of-type {\n",
              "        vertical-align: middle;\n",
              "    }\n",
              "\n",
              "    .dataframe tbody tr th {\n",
              "        vertical-align: top;\n",
              "    }\n",
              "\n",
              "    .dataframe thead th {\n",
              "        text-align: right;\n",
              "    }\n",
              "</style>\n",
              "<table border=\"1\" class=\"dataframe\">\n",
              "  <thead>\n",
              "    <tr style=\"text-align: right;\">\n",
              "      <th></th>\n",
              "      <th>order_id</th>\n",
              "      <th>order_date</th>\n",
              "      <th>ship_date</th>\n",
              "      <th>ship_mode</th>\n",
              "      <th>customer_id</th>\n",
              "      <th>customer_name</th>\n",
              "      <th>segment</th>\n",
              "      <th>country</th>\n",
              "      <th>city</th>\n",
              "      <th>state</th>\n",
              "      <th>postal_code</th>\n",
              "      <th>region</th>\n",
              "      <th>product_id</th>\n",
              "      <th>category</th>\n",
              "      <th>sub_category</th>\n",
              "      <th>product_name</th>\n",
              "      <th>sales</th>\n",
              "      <th>quantity</th>\n",
              "      <th>discount</th>\n",
              "      <th>profit</th>\n",
              "    </tr>\n",
              "    <tr>\n",
              "      <th>row_id</th>\n",
              "      <th></th>\n",
              "      <th></th>\n",
              "      <th></th>\n",
              "      <th></th>\n",
              "      <th></th>\n",
              "      <th></th>\n",
              "      <th></th>\n",
              "      <th></th>\n",
              "      <th></th>\n",
              "      <th></th>\n",
              "      <th></th>\n",
              "      <th></th>\n",
              "      <th></th>\n",
              "      <th></th>\n",
              "      <th></th>\n",
              "      <th></th>\n",
              "      <th></th>\n",
              "      <th></th>\n",
              "      <th></th>\n",
              "      <th></th>\n",
              "    </tr>\n",
              "  </thead>\n",
              "  <tbody>\n",
              "    <tr>\n",
              "      <th>1</th>\n",
              "      <td>CA-2016-152156</td>\n",
              "      <td>11/08/2016</td>\n",
              "      <td>11/11/2016</td>\n",
              "      <td>Second Class</td>\n",
              "      <td>CG-12520</td>\n",
              "      <td>Claire Gute</td>\n",
              "      <td>Consumer</td>\n",
              "      <td>United States</td>\n",
              "      <td>Henderson</td>\n",
              "      <td>Kentucky</td>\n",
              "      <td>42420</td>\n",
              "      <td>South</td>\n",
              "      <td>FUR-BO-10001798</td>\n",
              "      <td>Furniture</td>\n",
              "      <td>Bookcases</td>\n",
              "      <td>Bush Somerset Collection Bookcase</td>\n",
              "      <td>261.96</td>\n",
              "      <td>2.0</td>\n",
              "      <td>0.0</td>\n",
              "      <td>419.136</td>\n",
              "    </tr>\n",
              "    <tr>\n",
              "      <th>2</th>\n",
              "      <td>CA-2016-152156</td>\n",
              "      <td>11/08/2016</td>\n",
              "      <td>11/11/2016</td>\n",
              "      <td>Second Class</td>\n",
              "      <td>CG-12520</td>\n",
              "      <td>Claire Gute</td>\n",
              "      <td>Consumer</td>\n",
              "      <td>United States</td>\n",
              "      <td>Henderson</td>\n",
              "      <td>Kentucky</td>\n",
              "      <td>42420</td>\n",
              "      <td>South</td>\n",
              "      <td>FUR-CH-10000454</td>\n",
              "      <td>Furniture</td>\n",
              "      <td>Chairs</td>\n",
              "      <td>Hon Deluxe Fabric Upholstered Stacking Chairs,...</td>\n",
              "      <td>731.94</td>\n",
              "      <td>3.0</td>\n",
              "      <td>0.0</td>\n",
              "      <td>219.582</td>\n",
              "    </tr>\n",
              "    <tr>\n",
              "      <th>3</th>\n",
              "      <td>CA-2016-138688</td>\n",
              "      <td>6/12/2016</td>\n",
              "      <td>6/16/2016</td>\n",
              "      <td>Second Class</td>\n",
              "      <td>DV-13045</td>\n",
              "      <td>Darrin Van Huff</td>\n",
              "      <td>Corporate</td>\n",
              "      <td>United States</td>\n",
              "      <td>Los Angeles</td>\n",
              "      <td>California</td>\n",
              "      <td>90036</td>\n",
              "      <td>West</td>\n",
              "      <td>OFF-LA-10000240</td>\n",
              "      <td>Office Supplies</td>\n",
              "      <td>Labels</td>\n",
              "      <td>Self-Adhesive Address Labels for Typewriters b...</td>\n",
              "      <td>14.62</td>\n",
              "      <td>2.0</td>\n",
              "      <td>0.0</td>\n",
              "      <td>68.714</td>\n",
              "    </tr>\n",
              "  </tbody>\n",
              "</table>\n",
              "</div>\n",
              "    <div class=\"colab-df-buttons\">\n",
              "\n",
              "  <div class=\"colab-df-container\">\n",
              "    <button class=\"colab-df-convert\" onclick=\"convertToInteractive('df-61495f65-cc41-4eee-8ea5-d888660193ad')\"\n",
              "            title=\"Convert this dataframe to an interactive table.\"\n",
              "            style=\"display:none;\">\n",
              "\n",
              "  <svg xmlns=\"http://www.w3.org/2000/svg\" height=\"24px\" viewBox=\"0 -960 960 960\">\n",
              "    <path d=\"M120-120v-720h720v720H120Zm60-500h600v-160H180v160Zm220 220h160v-160H400v160Zm0 220h160v-160H400v160ZM180-400h160v-160H180v160Zm440 0h160v-160H620v160ZM180-180h160v-160H180v160Zm440 0h160v-160H620v160Z\"/>\n",
              "  </svg>\n",
              "    </button>\n",
              "\n",
              "  <style>\n",
              "    .colab-df-container {\n",
              "      display:flex;\n",
              "      gap: 12px;\n",
              "    }\n",
              "\n",
              "    .colab-df-convert {\n",
              "      background-color: #E8F0FE;\n",
              "      border: none;\n",
              "      border-radius: 50%;\n",
              "      cursor: pointer;\n",
              "      display: none;\n",
              "      fill: #1967D2;\n",
              "      height: 32px;\n",
              "      padding: 0 0 0 0;\n",
              "      width: 32px;\n",
              "    }\n",
              "\n",
              "    .colab-df-convert:hover {\n",
              "      background-color: #E2EBFA;\n",
              "      box-shadow: 0px 1px 2px rgba(60, 64, 67, 0.3), 0px 1px 3px 1px rgba(60, 64, 67, 0.15);\n",
              "      fill: #174EA6;\n",
              "    }\n",
              "\n",
              "    .colab-df-buttons div {\n",
              "      margin-bottom: 4px;\n",
              "    }\n",
              "\n",
              "    [theme=dark] .colab-df-convert {\n",
              "      background-color: #3B4455;\n",
              "      fill: #D2E3FC;\n",
              "    }\n",
              "\n",
              "    [theme=dark] .colab-df-convert:hover {\n",
              "      background-color: #434B5C;\n",
              "      box-shadow: 0px 1px 3px 1px rgba(0, 0, 0, 0.15);\n",
              "      filter: drop-shadow(0px 1px 2px rgba(0, 0, 0, 0.3));\n",
              "      fill: #FFFFFF;\n",
              "    }\n",
              "  </style>\n",
              "\n",
              "    <script>\n",
              "      const buttonEl =\n",
              "        document.querySelector('#df-61495f65-cc41-4eee-8ea5-d888660193ad button.colab-df-convert');\n",
              "      buttonEl.style.display =\n",
              "        google.colab.kernel.accessAllowed ? 'block' : 'none';\n",
              "\n",
              "      async function convertToInteractive(key) {\n",
              "        const element = document.querySelector('#df-61495f65-cc41-4eee-8ea5-d888660193ad');\n",
              "        const dataTable =\n",
              "          await google.colab.kernel.invokeFunction('convertToInteractive',\n",
              "                                                    [key], {});\n",
              "        if (!dataTable) return;\n",
              "\n",
              "        const docLinkHtml = 'Like what you see? Visit the ' +\n",
              "          '<a target=\"_blank\" href=https://colab.research.google.com/notebooks/data_table.ipynb>data table notebook</a>'\n",
              "          + ' to learn more about interactive tables.';\n",
              "        element.innerHTML = '';\n",
              "        dataTable['output_type'] = 'display_data';\n",
              "        await google.colab.output.renderOutput(dataTable, element);\n",
              "        const docLink = document.createElement('div');\n",
              "        docLink.innerHTML = docLinkHtml;\n",
              "        element.appendChild(docLink);\n",
              "      }\n",
              "    </script>\n",
              "  </div>\n",
              "\n",
              "\n",
              "<div id=\"df-59066b0b-2d7b-4011-b90f-9cb8cedc6aa1\">\n",
              "  <button class=\"colab-df-quickchart\" onclick=\"quickchart('df-59066b0b-2d7b-4011-b90f-9cb8cedc6aa1')\"\n",
              "            title=\"Suggest charts\"\n",
              "            style=\"display:none;\">\n",
              "\n",
              "<svg xmlns=\"http://www.w3.org/2000/svg\" height=\"24px\"viewBox=\"0 0 24 24\"\n",
              "     width=\"24px\">\n",
              "    <g>\n",
              "        <path d=\"M19 3H5c-1.1 0-2 .9-2 2v14c0 1.1.9 2 2 2h14c1.1 0 2-.9 2-2V5c0-1.1-.9-2-2-2zM9 17H7v-7h2v7zm4 0h-2V7h2v10zm4 0h-2v-4h2v4z\"/>\n",
              "    </g>\n",
              "</svg>\n",
              "  </button>\n",
              "\n",
              "<style>\n",
              "  .colab-df-quickchart {\n",
              "      --bg-color: #E8F0FE;\n",
              "      --fill-color: #1967D2;\n",
              "      --hover-bg-color: #E2EBFA;\n",
              "      --hover-fill-color: #174EA6;\n",
              "      --disabled-fill-color: #AAA;\n",
              "      --disabled-bg-color: #DDD;\n",
              "  }\n",
              "\n",
              "  [theme=dark] .colab-df-quickchart {\n",
              "      --bg-color: #3B4455;\n",
              "      --fill-color: #D2E3FC;\n",
              "      --hover-bg-color: #434B5C;\n",
              "      --hover-fill-color: #FFFFFF;\n",
              "      --disabled-bg-color: #3B4455;\n",
              "      --disabled-fill-color: #666;\n",
              "  }\n",
              "\n",
              "  .colab-df-quickchart {\n",
              "    background-color: var(--bg-color);\n",
              "    border: none;\n",
              "    border-radius: 50%;\n",
              "    cursor: pointer;\n",
              "    display: none;\n",
              "    fill: var(--fill-color);\n",
              "    height: 32px;\n",
              "    padding: 0;\n",
              "    width: 32px;\n",
              "  }\n",
              "\n",
              "  .colab-df-quickchart:hover {\n",
              "    background-color: var(--hover-bg-color);\n",
              "    box-shadow: 0 1px 2px rgba(60, 64, 67, 0.3), 0 1px 3px 1px rgba(60, 64, 67, 0.15);\n",
              "    fill: var(--button-hover-fill-color);\n",
              "  }\n",
              "\n",
              "  .colab-df-quickchart-complete:disabled,\n",
              "  .colab-df-quickchart-complete:disabled:hover {\n",
              "    background-color: var(--disabled-bg-color);\n",
              "    fill: var(--disabled-fill-color);\n",
              "    box-shadow: none;\n",
              "  }\n",
              "\n",
              "  .colab-df-spinner {\n",
              "    border: 2px solid var(--fill-color);\n",
              "    border-color: transparent;\n",
              "    border-bottom-color: var(--fill-color);\n",
              "    animation:\n",
              "      spin 1s steps(1) infinite;\n",
              "  }\n",
              "\n",
              "  @keyframes spin {\n",
              "    0% {\n",
              "      border-color: transparent;\n",
              "      border-bottom-color: var(--fill-color);\n",
              "      border-left-color: var(--fill-color);\n",
              "    }\n",
              "    20% {\n",
              "      border-color: transparent;\n",
              "      border-left-color: var(--fill-color);\n",
              "      border-top-color: var(--fill-color);\n",
              "    }\n",
              "    30% {\n",
              "      border-color: transparent;\n",
              "      border-left-color: var(--fill-color);\n",
              "      border-top-color: var(--fill-color);\n",
              "      border-right-color: var(--fill-color);\n",
              "    }\n",
              "    40% {\n",
              "      border-color: transparent;\n",
              "      border-right-color: var(--fill-color);\n",
              "      border-top-color: var(--fill-color);\n",
              "    }\n",
              "    60% {\n",
              "      border-color: transparent;\n",
              "      border-right-color: var(--fill-color);\n",
              "    }\n",
              "    80% {\n",
              "      border-color: transparent;\n",
              "      border-right-color: var(--fill-color);\n",
              "      border-bottom-color: var(--fill-color);\n",
              "    }\n",
              "    90% {\n",
              "      border-color: transparent;\n",
              "      border-bottom-color: var(--fill-color);\n",
              "    }\n",
              "  }\n",
              "</style>\n",
              "\n",
              "  <script>\n",
              "    async function quickchart(key) {\n",
              "      const quickchartButtonEl =\n",
              "        document.querySelector('#' + key + ' button');\n",
              "      quickchartButtonEl.disabled = true;  // To prevent multiple clicks.\n",
              "      quickchartButtonEl.classList.add('colab-df-spinner');\n",
              "      try {\n",
              "        const charts = await google.colab.kernel.invokeFunction(\n",
              "            'suggestCharts', [key], {});\n",
              "      } catch (error) {\n",
              "        console.error('Error during call to suggestCharts:', error);\n",
              "      }\n",
              "      quickchartButtonEl.classList.remove('colab-df-spinner');\n",
              "      quickchartButtonEl.classList.add('colab-df-quickchart-complete');\n",
              "    }\n",
              "    (() => {\n",
              "      let quickchartButtonEl =\n",
              "        document.querySelector('#df-59066b0b-2d7b-4011-b90f-9cb8cedc6aa1 button');\n",
              "      quickchartButtonEl.style.display =\n",
              "        google.colab.kernel.accessAllowed ? 'block' : 'none';\n",
              "    })();\n",
              "  </script>\n",
              "</div>\n",
              "\n",
              "    </div>\n",
              "  </div>\n"
            ],
            "text/plain": [
              "              order_id  order_date   ship_date     ship_mode customer_id  \\\n",
              "row_id                                                                     \n",
              "1       CA-2016-152156  11/08/2016  11/11/2016  Second Class    CG-12520   \n",
              "2       CA-2016-152156  11/08/2016  11/11/2016  Second Class    CG-12520   \n",
              "3       CA-2016-138688   6/12/2016   6/16/2016  Second Class    DV-13045   \n",
              "\n",
              "          customer_name    segment        country         city       state  \\\n",
              "row_id                                                                       \n",
              "1           Claire Gute   Consumer  United States    Henderson    Kentucky   \n",
              "2           Claire Gute   Consumer  United States    Henderson    Kentucky   \n",
              "3       Darrin Van Huff  Corporate  United States  Los Angeles  California   \n",
              "\n",
              "       postal_code region       product_id         category sub_category  \\\n",
              "row_id                                                                     \n",
              "1            42420  South  FUR-BO-10001798        Furniture    Bookcases   \n",
              "2            42420  South  FUR-CH-10000454        Furniture       Chairs   \n",
              "3            90036   West  OFF-LA-10000240  Office Supplies       Labels   \n",
              "\n",
              "                                             product_name   sales  quantity  \\\n",
              "row_id                                                                        \n",
              "1                       Bush Somerset Collection Bookcase  261.96       2.0   \n",
              "2       Hon Deluxe Fabric Upholstered Stacking Chairs,...  731.94       3.0   \n",
              "3       Self-Adhesive Address Labels for Typewriters b...   14.62       2.0   \n",
              "\n",
              "        discount   profit  \n",
              "row_id                     \n",
              "1            0.0  419.136  \n",
              "2            0.0  219.582  \n",
              "3            0.0   68.714  "
            ]
          },
          "metadata": {},
          "output_type": "display_data"
        },
        {
          "data": {
            "text/markdown": [
              "> <br>**Conclusion**: <br>Podemos decir que el dataframe ya esta listo                   para ser actualizado para sacar informacion relevante. El dataframe que                  contendra esta informacion se llamara `df_market`"
            ],
            "text/plain": [
              "<IPython.core.display.Markdown object>"
            ]
          },
          "metadata": {},
          "output_type": "display_data"
        }
      ],
      "source": [
        "# Despliegue del Dataframe actualizado\n",
        "display(Markdown(\"### ----------- Dataframe actualizado -----------\"))\n",
        "display(df_market.head(3))\n",
        "display(Markdown(\"> <br>**Conclusion**: <br>Podemos decir que el dataframe ya esta listo \\\n",
        "                  para ser actualizado para sacar informacion relevante. El dataframe que\\\n",
        "                  contendra esta informacion se llamara `df_market`\"))\n"
      ]
    },
    {
      "cell_type": "code",
      "execution_count": 15,
      "metadata": {},
      "outputs": [
        {
          "data": {
            "text/html": [
              "<div>\n",
              "<style scoped>\n",
              "    .dataframe tbody tr th:only-of-type {\n",
              "        vertical-align: middle;\n",
              "    }\n",
              "\n",
              "    .dataframe tbody tr th {\n",
              "        vertical-align: top;\n",
              "    }\n",
              "\n",
              "    .dataframe thead th {\n",
              "        text-align: right;\n",
              "    }\n",
              "</style>\n",
              "<table border=\"1\" class=\"dataframe\">\n",
              "  <thead>\n",
              "    <tr style=\"text-align: right;\">\n",
              "      <th></th>\n",
              "      <th>order_id</th>\n",
              "      <th>order_date</th>\n",
              "      <th>ship_date</th>\n",
              "      <th>ship_mode</th>\n",
              "      <th>customer_id</th>\n",
              "      <th>customer_name</th>\n",
              "      <th>segment</th>\n",
              "      <th>country</th>\n",
              "      <th>city</th>\n",
              "      <th>state</th>\n",
              "      <th>postal_code</th>\n",
              "      <th>region</th>\n",
              "      <th>product_id</th>\n",
              "      <th>category</th>\n",
              "      <th>sub_category</th>\n",
              "      <th>product_name</th>\n",
              "      <th>sales</th>\n",
              "      <th>quantity</th>\n",
              "      <th>discount</th>\n",
              "      <th>profit</th>\n",
              "    </tr>\n",
              "    <tr>\n",
              "      <th>row_id</th>\n",
              "      <th></th>\n",
              "      <th></th>\n",
              "      <th></th>\n",
              "      <th></th>\n",
              "      <th></th>\n",
              "      <th></th>\n",
              "      <th></th>\n",
              "      <th></th>\n",
              "      <th></th>\n",
              "      <th></th>\n",
              "      <th></th>\n",
              "      <th></th>\n",
              "      <th></th>\n",
              "      <th></th>\n",
              "      <th></th>\n",
              "      <th></th>\n",
              "      <th></th>\n",
              "      <th></th>\n",
              "      <th></th>\n",
              "      <th></th>\n",
              "    </tr>\n",
              "  </thead>\n",
              "  <tbody>\n",
              "    <tr>\n",
              "      <th>1</th>\n",
              "      <td>CA-2016-152156</td>\n",
              "      <td>11/08/2016</td>\n",
              "      <td>11/11/2016</td>\n",
              "      <td>Second Class</td>\n",
              "      <td>CG-12520</td>\n",
              "      <td>Claire Gute</td>\n",
              "      <td>Consumer</td>\n",
              "      <td>United States</td>\n",
              "      <td>Henderson</td>\n",
              "      <td>Kentucky</td>\n",
              "      <td>42420</td>\n",
              "      <td>South</td>\n",
              "      <td>FUR-BO-10001798</td>\n",
              "      <td>Furniture</td>\n",
              "      <td>Bookcases</td>\n",
              "      <td>Bush Somerset Collection Bookcase</td>\n",
              "      <td>261.96</td>\n",
              "      <td>2.0</td>\n",
              "      <td>0.0</td>\n",
              "      <td>419.136</td>\n",
              "    </tr>\n",
              "    <tr>\n",
              "      <th>2</th>\n",
              "      <td>CA-2016-152156</td>\n",
              "      <td>11/08/2016</td>\n",
              "      <td>11/11/2016</td>\n",
              "      <td>Second Class</td>\n",
              "      <td>CG-12520</td>\n",
              "      <td>Claire Gute</td>\n",
              "      <td>Consumer</td>\n",
              "      <td>United States</td>\n",
              "      <td>Henderson</td>\n",
              "      <td>Kentucky</td>\n",
              "      <td>42420</td>\n",
              "      <td>South</td>\n",
              "      <td>FUR-CH-10000454</td>\n",
              "      <td>Furniture</td>\n",
              "      <td>Chairs</td>\n",
              "      <td>Hon Deluxe Fabric Upholstered Stacking Chairs,...</td>\n",
              "      <td>731.94</td>\n",
              "      <td>3.0</td>\n",
              "      <td>0.0</td>\n",
              "      <td>219.582</td>\n",
              "    </tr>\n",
              "  </tbody>\n",
              "</table>\n",
              "</div>"
            ],
            "text/plain": [
              "              order_id  order_date   ship_date     ship_mode customer_id  \\\n",
              "row_id                                                                     \n",
              "1       CA-2016-152156  11/08/2016  11/11/2016  Second Class    CG-12520   \n",
              "2       CA-2016-152156  11/08/2016  11/11/2016  Second Class    CG-12520   \n",
              "\n",
              "       customer_name   segment        country       city     state  \\\n",
              "row_id                                                               \n",
              "1        Claire Gute  Consumer  United States  Henderson  Kentucky   \n",
              "2        Claire Gute  Consumer  United States  Henderson  Kentucky   \n",
              "\n",
              "        postal_code region       product_id   category sub_category  \\\n",
              "row_id                                                                \n",
              "1             42420  South  FUR-BO-10001798  Furniture    Bookcases   \n",
              "2             42420  South  FUR-CH-10000454  Furniture       Chairs   \n",
              "\n",
              "                                             product_name   sales  quantity  \\\n",
              "row_id                                                                        \n",
              "1                       Bush Somerset Collection Bookcase  261.96       2.0   \n",
              "2       Hon Deluxe Fabric Upholstered Stacking Chairs,...  731.94       3.0   \n",
              "\n",
              "        discount   profit  \n",
              "row_id                     \n",
              "1            0.0  419.136  \n",
              "2            0.0  219.582  "
            ]
          },
          "execution_count": 15,
          "metadata": {},
          "output_type": "execute_result"
        }
      ],
      "source": [
        "# Guardando el archivo para actualizar\n",
        "url_data_to_analize = \"https://github.com/tigarto/tarea-fundamentos/raw/main/data_market2.csv\"\n",
        "df_market = pd.read_csv(url_data_to_analize)\n",
        "df_market.set_index('row_id',inplace= True)\n",
        "df_market.head(2)"
      ]
    },
    {
      "cell_type": "markdown",
      "metadata": {
        "id": "T1dEX6IVlHSd"
      },
      "source": [
        "## 2. Analisis de los datos"
      ]
    },
    {
      "cell_type": "code",
      "execution_count": 16,
      "metadata": {
        "colab": {
          "base_uri": "https://localhost:8080/",
          "height": 285
        },
        "id": "WL86BgcvtQ1d",
        "outputId": "0a40b9b4-6ddb-4de0-8fa3-9ec94408f1b7"
      },
      "outputs": [
        {
          "data": {
            "text/html": [
              "<div>\n",
              "<style scoped>\n",
              "    .dataframe tbody tr th:only-of-type {\n",
              "        vertical-align: middle;\n",
              "    }\n",
              "\n",
              "    .dataframe tbody tr th {\n",
              "        vertical-align: top;\n",
              "    }\n",
              "\n",
              "    .dataframe thead th {\n",
              "        text-align: right;\n",
              "    }\n",
              "</style>\n",
              "<table border=\"1\" class=\"dataframe\">\n",
              "  <thead>\n",
              "    <tr style=\"text-align: right;\">\n",
              "      <th></th>\n",
              "      <th>order_id</th>\n",
              "      <th>order_date</th>\n",
              "      <th>ship_date</th>\n",
              "      <th>ship_mode</th>\n",
              "      <th>customer_id</th>\n",
              "      <th>customer_name</th>\n",
              "      <th>segment</th>\n",
              "      <th>country</th>\n",
              "      <th>city</th>\n",
              "      <th>state</th>\n",
              "      <th>postal_code</th>\n",
              "      <th>region</th>\n",
              "      <th>product_id</th>\n",
              "      <th>category</th>\n",
              "      <th>sub_category</th>\n",
              "      <th>product_name</th>\n",
              "      <th>sales</th>\n",
              "      <th>quantity</th>\n",
              "      <th>discount</th>\n",
              "      <th>profit</th>\n",
              "    </tr>\n",
              "    <tr>\n",
              "      <th>row_id</th>\n",
              "      <th></th>\n",
              "      <th></th>\n",
              "      <th></th>\n",
              "      <th></th>\n",
              "      <th></th>\n",
              "      <th></th>\n",
              "      <th></th>\n",
              "      <th></th>\n",
              "      <th></th>\n",
              "      <th></th>\n",
              "      <th></th>\n",
              "      <th></th>\n",
              "      <th></th>\n",
              "      <th></th>\n",
              "      <th></th>\n",
              "      <th></th>\n",
              "      <th></th>\n",
              "      <th></th>\n",
              "      <th></th>\n",
              "      <th></th>\n",
              "    </tr>\n",
              "  </thead>\n",
              "  <tbody>\n",
              "    <tr>\n",
              "      <th>1</th>\n",
              "      <td>CA-2016-152156</td>\n",
              "      <td>11/08/2016</td>\n",
              "      <td>11/11/2016</td>\n",
              "      <td>Second Class</td>\n",
              "      <td>CG-12520</td>\n",
              "      <td>Claire Gute</td>\n",
              "      <td>Consumer</td>\n",
              "      <td>United States</td>\n",
              "      <td>Henderson</td>\n",
              "      <td>Kentucky</td>\n",
              "      <td>42420</td>\n",
              "      <td>South</td>\n",
              "      <td>FUR-BO-10001798</td>\n",
              "      <td>Furniture</td>\n",
              "      <td>Bookcases</td>\n",
              "      <td>Bush Somerset Collection Bookcase</td>\n",
              "      <td>261.96</td>\n",
              "      <td>2.0</td>\n",
              "      <td>0.0</td>\n",
              "      <td>419.136</td>\n",
              "    </tr>\n",
              "    <tr>\n",
              "      <th>2</th>\n",
              "      <td>CA-2016-152156</td>\n",
              "      <td>11/08/2016</td>\n",
              "      <td>11/11/2016</td>\n",
              "      <td>Second Class</td>\n",
              "      <td>CG-12520</td>\n",
              "      <td>Claire Gute</td>\n",
              "      <td>Consumer</td>\n",
              "      <td>United States</td>\n",
              "      <td>Henderson</td>\n",
              "      <td>Kentucky</td>\n",
              "      <td>42420</td>\n",
              "      <td>South</td>\n",
              "      <td>FUR-CH-10000454</td>\n",
              "      <td>Furniture</td>\n",
              "      <td>Chairs</td>\n",
              "      <td>Hon Deluxe Fabric Upholstered Stacking Chairs,...</td>\n",
              "      <td>731.94</td>\n",
              "      <td>3.0</td>\n",
              "      <td>0.0</td>\n",
              "      <td>219.582</td>\n",
              "    </tr>\n",
              "  </tbody>\n",
              "</table>\n",
              "</div>"
            ],
            "text/plain": [
              "              order_id  order_date   ship_date     ship_mode customer_id  \\\n",
              "row_id                                                                     \n",
              "1       CA-2016-152156  11/08/2016  11/11/2016  Second Class    CG-12520   \n",
              "2       CA-2016-152156  11/08/2016  11/11/2016  Second Class    CG-12520   \n",
              "\n",
              "       customer_name   segment        country       city     state  \\\n",
              "row_id                                                               \n",
              "1        Claire Gute  Consumer  United States  Henderson  Kentucky   \n",
              "2        Claire Gute  Consumer  United States  Henderson  Kentucky   \n",
              "\n",
              "        postal_code region       product_id   category sub_category  \\\n",
              "row_id                                                                \n",
              "1             42420  South  FUR-BO-10001798  Furniture    Bookcases   \n",
              "2             42420  South  FUR-CH-10000454  Furniture       Chairs   \n",
              "\n",
              "                                             product_name   sales  quantity  \\\n",
              "row_id                                                                        \n",
              "1                       Bush Somerset Collection Bookcase  261.96       2.0   \n",
              "2       Hon Deluxe Fabric Upholstered Stacking Chairs,...  731.94       3.0   \n",
              "\n",
              "        discount   profit  \n",
              "row_id                     \n",
              "1            0.0  419.136  \n",
              "2            0.0  219.582  "
            ]
          },
          "execution_count": 16,
          "metadata": {},
          "output_type": "execute_result"
        }
      ],
      "source": [
        "\n",
        "df_market = pd.read_csv('data_market2.csv')\n",
        "df_market.set_index('row_id',inplace= True)\n",
        "df_market.head(2)"
      ]
    },
    {
      "cell_type": "markdown",
      "metadata": {
        "id": "wx8eqPzv0zJ-"
      },
      "source": [
        "### Tareas\n",
        "\n",
        "-  [x] Mostrar una tabla con ....\n",
        "-  [ ] Elemento de lista\n",
        "\n"
      ]
    },
    {
      "cell_type": "code",
      "execution_count": 149,
      "metadata": {
        "id": "TjyxP4zenf3y"
      },
      "outputs": [],
      "source": [
        "# Funciones de utidad para el analisis sobre los datos del dataframe a analizar\n",
        "# To do...\n",
        "\n",
        "def xxx():\n",
        "  pass"
      ]
    },
    {
      "cell_type": "code",
      "execution_count": 17,
      "metadata": {
        "colab": {
          "base_uri": "https://localhost:8080/",
          "height": 283
        },
        "id": "imuw8Tlr0hF_",
        "outputId": "620388f4-ec9f-4635-cfb8-19a99d69de7c"
      },
      "outputs": [
        {
          "data": {
            "text/html": [
              "<div>\n",
              "<style scoped>\n",
              "    .dataframe tbody tr th:only-of-type {\n",
              "        vertical-align: middle;\n",
              "    }\n",
              "\n",
              "    .dataframe tbody tr th {\n",
              "        vertical-align: top;\n",
              "    }\n",
              "\n",
              "    .dataframe thead th {\n",
              "        text-align: right;\n",
              "    }\n",
              "</style>\n",
              "<table border=\"1\" class=\"dataframe\">\n",
              "  <thead>\n",
              "    <tr style=\"text-align: right;\">\n",
              "      <th></th>\n",
              "      <th>order_id</th>\n",
              "      <th>order_date</th>\n",
              "      <th>ship_date</th>\n",
              "      <th>ship_mode</th>\n",
              "      <th>customer_id</th>\n",
              "      <th>customer_name</th>\n",
              "      <th>segment</th>\n",
              "      <th>country</th>\n",
              "      <th>city</th>\n",
              "      <th>state</th>\n",
              "      <th>postal_code</th>\n",
              "      <th>region</th>\n",
              "      <th>product_id</th>\n",
              "      <th>category</th>\n",
              "      <th>sub_category</th>\n",
              "      <th>product_name</th>\n",
              "      <th>sales</th>\n",
              "      <th>quantity</th>\n",
              "      <th>discount</th>\n",
              "      <th>profit</th>\n",
              "    </tr>\n",
              "    <tr>\n",
              "      <th>row_id</th>\n",
              "      <th></th>\n",
              "      <th></th>\n",
              "      <th></th>\n",
              "      <th></th>\n",
              "      <th></th>\n",
              "      <th></th>\n",
              "      <th></th>\n",
              "      <th></th>\n",
              "      <th></th>\n",
              "      <th></th>\n",
              "      <th></th>\n",
              "      <th></th>\n",
              "      <th></th>\n",
              "      <th></th>\n",
              "      <th></th>\n",
              "      <th></th>\n",
              "      <th></th>\n",
              "      <th></th>\n",
              "      <th></th>\n",
              "      <th></th>\n",
              "    </tr>\n",
              "  </thead>\n",
              "  <tbody>\n",
              "    <tr>\n",
              "      <th>1</th>\n",
              "      <td>CA-2016-152156</td>\n",
              "      <td>11/08/2016</td>\n",
              "      <td>11/11/2016</td>\n",
              "      <td>Second Class</td>\n",
              "      <td>CG-12520</td>\n",
              "      <td>Claire Gute</td>\n",
              "      <td>Consumer</td>\n",
              "      <td>United States</td>\n",
              "      <td>Henderson</td>\n",
              "      <td>Kentucky</td>\n",
              "      <td>42420</td>\n",
              "      <td>South</td>\n",
              "      <td>FUR-BO-10001798</td>\n",
              "      <td>Furniture</td>\n",
              "      <td>Bookcases</td>\n",
              "      <td>Bush Somerset Collection Bookcase</td>\n",
              "      <td>261.96</td>\n",
              "      <td>2.0</td>\n",
              "      <td>0.0</td>\n",
              "      <td>419.136</td>\n",
              "    </tr>\n",
              "    <tr>\n",
              "      <th>2</th>\n",
              "      <td>CA-2016-152156</td>\n",
              "      <td>11/08/2016</td>\n",
              "      <td>11/11/2016</td>\n",
              "      <td>Second Class</td>\n",
              "      <td>CG-12520</td>\n",
              "      <td>Claire Gute</td>\n",
              "      <td>Consumer</td>\n",
              "      <td>United States</td>\n",
              "      <td>Henderson</td>\n",
              "      <td>Kentucky</td>\n",
              "      <td>42420</td>\n",
              "      <td>South</td>\n",
              "      <td>FUR-CH-10000454</td>\n",
              "      <td>Furniture</td>\n",
              "      <td>Chairs</td>\n",
              "      <td>Hon Deluxe Fabric Upholstered Stacking Chairs,...</td>\n",
              "      <td>731.94</td>\n",
              "      <td>3.0</td>\n",
              "      <td>0.0</td>\n",
              "      <td>219.582</td>\n",
              "    </tr>\n",
              "  </tbody>\n",
              "</table>\n",
              "</div>"
            ],
            "text/plain": [
              "              order_id  order_date   ship_date     ship_mode customer_id  \\\n",
              "row_id                                                                     \n",
              "1       CA-2016-152156  11/08/2016  11/11/2016  Second Class    CG-12520   \n",
              "2       CA-2016-152156  11/08/2016  11/11/2016  Second Class    CG-12520   \n",
              "\n",
              "       customer_name   segment        country       city     state  \\\n",
              "row_id                                                               \n",
              "1        Claire Gute  Consumer  United States  Henderson  Kentucky   \n",
              "2        Claire Gute  Consumer  United States  Henderson  Kentucky   \n",
              "\n",
              "        postal_code region       product_id   category sub_category  \\\n",
              "row_id                                                                \n",
              "1             42420  South  FUR-BO-10001798  Furniture    Bookcases   \n",
              "2             42420  South  FUR-CH-10000454  Furniture       Chairs   \n",
              "\n",
              "                                             product_name   sales  quantity  \\\n",
              "row_id                                                                        \n",
              "1                       Bush Somerset Collection Bookcase  261.96       2.0   \n",
              "2       Hon Deluxe Fabric Upholstered Stacking Chairs,...  731.94       3.0   \n",
              "\n",
              "        discount   profit  \n",
              "row_id                     \n",
              "1            0.0  419.136  \n",
              "2            0.0  219.582  "
            ]
          },
          "execution_count": 17,
          "metadata": {},
          "output_type": "execute_result"
        }
      ],
      "source": [
        "df_market.head(2)"
      ]
    },
    {
      "cell_type": "markdown",
      "metadata": {
        "id": "kZNf8cve6cxP"
      },
      "source": [
        "Informacion estadistica de los datos numericos"
      ]
    },
    {
      "cell_type": "code",
      "execution_count": null,
      "metadata": {
        "id": "x3a3cO9-BGIU"
      },
      "outputs": [],
      "source": [
        "df_market.describe(include = 'object')"
      ]
    },
    {
      "cell_type": "code",
      "execution_count": null,
      "metadata": {
        "id": "knhx6TEGD7oP"
      },
      "outputs": [],
      "source": [
        "# Datos faltantes\n",
        "df_market.isna().sum()"
      ]
    },
    {
      "cell_type": "code",
      "execution_count": null,
      "metadata": {
        "id": "188ai__yEtQO"
      },
      "outputs": [],
      "source": [
        "# Datos null\n",
        "df_market.isnull().sum()"
      ]
    },
    {
      "cell_type": "code",
      "execution_count": null,
      "metadata": {
        "id": "ZieTeGUqE22m"
      },
      "outputs": [],
      "source": [
        "# Filas con valores na\n",
        "df_market[df_market.quantity.isna()]"
      ]
    },
    {
      "cell_type": "markdown",
      "metadata": {
        "id": "aHCJUHtLF6xm"
      },
      "source": [
        "ship mode (**Hacer una funcion**)"
      ]
    },
    {
      "cell_type": "code",
      "execution_count": null,
      "metadata": {
        "id": "4SqPpU1PGBgX"
      },
      "outputs": [],
      "source": [
        "# Categorias de ship_mode\n",
        "df_market.ship_mode.unique()"
      ]
    },
    {
      "cell_type": "code",
      "execution_count": null,
      "metadata": {
        "id": "sRoiU43XHMjZ"
      },
      "outputs": [],
      "source": [
        "df_market.ship_mode.nunique()"
      ]
    },
    {
      "cell_type": "code",
      "execution_count": null,
      "metadata": {
        "id": "fjp0XqV9GmFs"
      },
      "outputs": [],
      "source": [
        "# customer_id\n",
        "df_market.customer_id.nunique()"
      ]
    },
    {
      "cell_type": "code",
      "execution_count": null,
      "metadata": {
        "id": "w-aBK3prIAbo"
      },
      "outputs": [],
      "source": [
        "# customer_name\n",
        "df_market.customer_name.nunique()"
      ]
    },
    {
      "cell_type": "code",
      "execution_count": null,
      "metadata": {
        "id": "zXlnC0-vHeot"
      },
      "outputs": [],
      "source": [
        "# order_date\n",
        "df_market[['order_date']].nunique()"
      ]
    },
    {
      "cell_type": "code",
      "execution_count": null,
      "metadata": {
        "id": "z8oeS_hhHsWt"
      },
      "outputs": [],
      "source": [
        "# ship_date\n",
        "df_market[['ship_date']].nunique()"
      ]
    },
    {
      "cell_type": "code",
      "execution_count": null,
      "metadata": {
        "id": "N_l1Xm9WIQ2K"
      },
      "outputs": [],
      "source": [
        "# segment\n",
        "df_market[['segment']].nunique()"
      ]
    },
    {
      "cell_type": "code",
      "execution_count": null,
      "metadata": {
        "id": "b-sv_nWIIaqL"
      },
      "outputs": [],
      "source": [
        "df_market.segment.unique()"
      ]
    },
    {
      "cell_type": "code",
      "execution_count": null,
      "metadata": {
        "id": "QzTQSOg0I26v"
      },
      "outputs": [],
      "source": [
        "# country\n",
        "df_market.country.nunique()"
      ]
    },
    {
      "cell_type": "code",
      "execution_count": null,
      "metadata": {
        "id": "nL2i6mWCI2U_"
      },
      "outputs": [],
      "source": [
        "df_market.country.unique()"
      ]
    },
    {
      "cell_type": "code",
      "execution_count": null,
      "metadata": {
        "id": "utX_5XpuKq8v"
      },
      "outputs": [],
      "source": [
        "df_market.state.unique()"
      ]
    },
    {
      "cell_type": "code",
      "execution_count": null,
      "metadata": {
        "id": "0DJ1UOiIJF4g"
      },
      "outputs": [],
      "source": [
        "# city\n",
        "df_market.city.nunique()"
      ]
    },
    {
      "cell_type": "code",
      "execution_count": null,
      "metadata": {
        "id": "2_EIexsZKeDt"
      },
      "outputs": [],
      "source": [
        "df_market.region.unique()"
      ]
    },
    {
      "cell_type": "code",
      "execution_count": null,
      "metadata": {
        "id": "ebxs-UXHJPPX"
      },
      "outputs": [],
      "source": [
        "# product_id\n",
        "df_market.product_id.nunique()"
      ]
    },
    {
      "cell_type": "code",
      "execution_count": null,
      "metadata": {
        "id": "IDVPeHzgJopO"
      },
      "outputs": [],
      "source": [
        "# category\n",
        "df_market.category.unique()"
      ]
    },
    {
      "cell_type": "code",
      "execution_count": null,
      "metadata": {
        "id": "nIeXUNybKRJz"
      },
      "outputs": [],
      "source": [
        "# sub_category\n",
        "df_market.sub_category.unique()"
      ]
    },
    {
      "cell_type": "code",
      "execution_count": null,
      "metadata": {
        "id": "Y1GN53fYJ0Vv"
      },
      "outputs": [],
      "source": [
        "# product_name\n",
        "df_market.product_name.unique()"
      ]
    },
    {
      "cell_type": "code",
      "execution_count": null,
      "metadata": {
        "id": "eMt6Np_MKEAj"
      },
      "outputs": [],
      "source": [
        "# product_id\n",
        "df_market.product_id.unique()"
      ]
    },
    {
      "cell_type": "markdown",
      "metadata": {},
      "source": [
        "## Conclusiones del trabajo\n",
        "\n",
        "* Conclusion 1\n",
        "* Conclusion 2\n",
        "* Conclusion 3\n",
        "* ..."
      ]
    },
    {
      "cell_type": "markdown",
      "metadata": {
        "id": "BrsBfLMmnMO0"
      },
      "source": [
        "## Referencias consultadas\n",
        "\n"
      ]
    }
  ],
  "metadata": {
    "colab": {
      "provenance": []
    },
    "kernelspec": {
      "display_name": "Python 3",
      "name": "python3"
    },
    "language_info": {
      "codemirror_mode": {
        "name": "ipython",
        "version": 3
      },
      "file_extension": ".py",
      "mimetype": "text/x-python",
      "name": "python",
      "nbconvert_exporter": "python",
      "pygments_lexer": "ipython3",
      "version": "3.9.13"
    }
  },
  "nbformat": 4,
  "nbformat_minor": 0
}
